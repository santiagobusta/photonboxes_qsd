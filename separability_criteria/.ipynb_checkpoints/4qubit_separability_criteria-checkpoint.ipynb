{
 "cells": [
  {
   "cell_type": "markdown",
   "id": "3ccb60a1",
   "metadata": {},
   "source": [
    "# Full separability permutation criteria for four-qubit states\n",
    "\n",
    "## Context\n",
    "\n",
    "In this notebook we apply the 22 independent four-qubit separability permutation criteria to both states and projective measurement operators. The permutation criteria are given in the article https://doi.org/10.48550/arXiv.quant-ph/0504160 for states. We use the same criteria for projective measurement operators by taking into account the fact that any projection $\\Pi$ of the form\n",
    "\n",
    "$$\n",
    "\\Pi = \\sum_{j=1}^N | \\phi_j \\rangle \\langle \\phi_j |,\n",
    "$$\n",
    "\n",
    "where each $|\\phi_j \\rangle$ is a normalized state vector, can be associated to a state $\\rho$ after normalization:\n",
    "\n",
    "$$\n",
    "\\rho = \\frac{1}{N} \\Pi.\n",
    "$$\n",
    "\n",
    "When any of the criteria fails (that is any *True* in the following code) for a given state $\\rho$, then we can conclude that the state shows some form of entanglement and therefore it is not separable. Since separability does not depend on scaling this allows us to discard the full separability of any corresponding measurement operator. Discarding full separability of a measurement is important since it also discards its implementability by means of LOCC (local operations and classical communication).\n",
    "\n",
    "## Output\n",
    "\n",
    "- The information of whether or not we can discard the full separability of any four-qubit state/measurement."
   ]
  },
  {
   "cell_type": "code",
   "execution_count": 33,
   "id": "902ac360",
   "metadata": {},
   "outputs": [],
   "source": [
    "import numpy as np\n",
    "from scipy.special import comb, binom\n",
    "from sympy.matrices import Matrix\n",
    "from sympy import simplify\n",
    "from itertools import combinations\n",
    "from IPython.display import display\n",
    "import pickle\n",
    "N = 4 # number of qubits"
   ]
  },
  {
   "cell_type": "code",
   "execution_count": 34,
   "id": "e1d3c6ea",
   "metadata": {},
   "outputs": [],
   "source": [
    "# some functions\n",
    "\n",
    "def partial_transpose(A, k): # perform a partial transpose of the k-th qubit in matrix A\n",
    "    J = list(range(2*N))\n",
    "    J[2*k] = 2*k+1\n",
    "    J[2*k+1] = 2*k\n",
    "    return A.transpose(*J)\n",
    "\n",
    "def reshuffle(A, k, l):\n",
    "    J = list(range(2*N))\n",
    "    J[2*l] = 2*k+1\n",
    "    J[2*k+1] = 2*l\n",
    "    return A.transpose(*J)\n",
    "\n",
    "def statevec_prep(u):\n",
    "    v = np.zeros([2]*N, dtype='complex')\n",
    "    for j in range(2**N):\n",
    "        bits = np.array(list('{0:04b}'.format(j))).astype('int') # from integer to 4 digit binary number\n",
    "        a, b, c, d = bits\n",
    "        v[a,b,c,d] = u[j]\n",
    "    return v\n",
    "\n",
    "def statevec_2_operator(v):\n",
    "    rho = np.zeros([2]*2*N, dtype='complex')\n",
    "    for j in range(2**N):\n",
    "        bits1 = np.array(list('{0:04b}'.format(j))).astype('int') # from integer to 4 digit binary number\n",
    "        a1, b1, c1, d1 = bits1\n",
    "        for k in range(2**N):\n",
    "            bits2 = np.array(list('{0:04b}'.format(k))).astype('int') # from integer to 4 digit binary number\n",
    "            a2, b2, c2, d2 = bits2\n",
    "            rho[a1,a2,b1,b2,c1,c2,d1,d2] = v[a1,b1,c1,d1]*np.conjugate(v[a2,b2,c2,d2])\n",
    "    return rho\n",
    "\n",
    "def rho_2_standard(rho):\n",
    "    sigma = np.zeros((2**N,2**N), dtype='complex')\n",
    "    for j in range(2**N):\n",
    "        bits1 = np.array(list('{0:04b}'.format(j))).astype('int') # from integer to 4 digit binary number\n",
    "        a1, b1, c1, d1 = bits1\n",
    "        for k in range(2**N):\n",
    "            bits2 = np.array(list('{0:04b}'.format(k))).astype('int') # from integer to 4 digit binary number\n",
    "            a2, b2, c2, d2 = bits2\n",
    "            sigma[j,k] = rho[a1,a2,b1,b2,c1,c2,d1,d2]\n",
    "    return sigma\n",
    "\n",
    "def check_for_neglambda(rho, DEC=1):\n",
    "    return ((np.round(np.linalg.eigvals(rho_2_standard(rho)), DEC) < 0)).any()\n",
    "\n",
    "def check_for_tracenorm(rho, TOL=1e-2): \n",
    "    # A bigger TOL gives a higher chance of failing the separability test\n",
    "    # That is, a bigger chance of not concluding anything about the state\n",
    "    # Thus, if a state gives TRUE even for high values of TOL, it is very likely that the state is indeed entangled\n",
    "    # A value of TOL=5e-2 is good enough for most purposes\n",
    "    # A value of TOL=1e-1 is good if one wants to be even more sure about the non-separabilty at the cost of not identifying separability\n",
    "    tracenorm = np.sum(np.abs(np.linalg.eigvals(rho_2_standard(rho))))\n",
    "    #print(tracenorm)\n",
    "    return tracenorm > 1+TOL\n",
    "\n",
    "def separability_criteria(rho, expand=True, use_neglambda = False):\n",
    "    Test = False\n",
    "    pairs = [(0,1),(2,3),(1,3),(0,2),(1,2),(0,3)]\n",
    "    qtr = [3,0,2,1,0,1]\n",
    "    \n",
    "    # QT Row\n",
    "    for j in range(N):\n",
    "        rho_p = partial_transpose(rho,j)\n",
    "        if use_neglambda: check = check_for_neglambda(rho_p)\n",
    "        else: check = check_for_tracenorm(rho_p)\n",
    "        Test += check\n",
    "        if expand: print(\"QT \"+str(j)+\"\\t\\t: \", check)\n",
    "        \n",
    "    # 2QT Row\n",
    "    for j in range(1,N):\n",
    "        rho_p = partial_transpose(partial_transpose(rho,0),j)\n",
    "        if use_neglambda: check = check_for_neglambda(rho_p)\n",
    "        else: check = check_for_tracenorm(rho_p)\n",
    "        Test += check\n",
    "        if expand: print(\"2QT \"+str(j)+\"\\t\\t: \", check)\n",
    "        \n",
    "    # R and R+QT Row\n",
    "    for j in range(6):\n",
    "        rho_p = reshuffle(rho, pairs[j][0], pairs[j][1])\n",
    "        if use_neglambda: check = check_for_neglambda(rho_p)\n",
    "        else: check = check_for_tracenorm(rho_p)\n",
    "        Test += check\n",
    "        if expand: print(\"R \"+str(pairs[j])+\"\\t: \", check)\n",
    "        \n",
    "        rho_p = partial_transpose(rho_p, qtr[j])\n",
    "        if use_neglambda: check = check_for_neglambda(rho_p)\n",
    "        else: check = check_for_tracenorm(rho_p)\n",
    "        Test += check\n",
    "        if expand: print(\"R+QT \"+str(pairs[j])+\"\\t: \", check)\n",
    "        \n",
    "    # 2R Row\n",
    "    rho_p = reshuffle(reshuffle(rho, 0, 1),2,3)\n",
    "    if use_neglambda: check = check_for_neglambda(rho_p)\n",
    "    else: check = check_for_tracenorm(rho_p)\n",
    "    Test += check\n",
    "    if expand: print(\"2R (01,23)\\t: \", check)\n",
    "\n",
    "    rho_p = reshuffle(reshuffle(rho, 0, 2),1,3)\n",
    "    if use_neglambda: check = check_for_neglambda(rho_p)\n",
    "    else: check = check_for_tracenorm(rho_p)\n",
    "    Test += check\n",
    "    if expand: print(\"2R (02,13)\\t: \", check)\n",
    "    \n",
    "    # R + R' Row\n",
    "    rho_p = reshuffle(reshuffle(rho, 0, 1),3,2)\n",
    "    if use_neglambda: check = check_for_neglambda(rho_p)\n",
    "    else: check = check_for_tracenorm(rho_p)\n",
    "    Test += check\n",
    "    if expand: print(\"R+R' (01,23)\\t: \", check)\n",
    "    \n",
    "    return Test"
   ]
  },
  {
   "cell_type": "markdown",
   "id": "12e363f1",
   "metadata": {},
   "source": [
    "# Separable state example"
   ]
  },
  {
   "cell_type": "code",
   "execution_count": 35,
   "id": "af0be338",
   "metadata": {},
   "outputs": [],
   "source": [
    "# u_sep will be a separable HHVV state\n",
    "u_sep = np.zeros(2**N)\n",
    "u_sep[3] = 1\n",
    "rho = statevec_2_operator(statevec_prep(u_sep))\n",
    "# print(np.round(np.linalg.eigvals(rho_2_standard(rho)),10)) #check that rho is pure"
   ]
  },
  {
   "cell_type": "code",
   "execution_count": 36,
   "id": "263a3ec4",
   "metadata": {},
   "outputs": [
    {
     "name": "stdout",
     "output_type": "stream",
     "text": [
      "QT 0\t\t:  False\n",
      "QT 1\t\t:  False\n",
      "QT 2\t\t:  False\n",
      "QT 3\t\t:  False\n",
      "2QT 1\t\t:  False\n",
      "2QT 2\t\t:  False\n",
      "2QT 3\t\t:  False\n",
      "R (0, 1)\t:  False\n",
      "R+QT (0, 1)\t:  False\n",
      "R (2, 3)\t:  False\n",
      "R+QT (2, 3)\t:  False\n",
      "R (1, 3)\t:  False\n",
      "R+QT (1, 3)\t:  False\n",
      "R (0, 2)\t:  False\n",
      "R+QT (0, 2)\t:  False\n",
      "R (1, 2)\t:  False\n",
      "R+QT (1, 2)\t:  False\n",
      "R (0, 3)\t:  False\n",
      "R+QT (0, 3)\t:  False\n",
      "2R (01,23)\t:  False\n",
      "2R (02,13)\t:  False\n",
      "R+R' (01,23)\t:  False\n",
      "\n",
      "If any true, then state rho_p is NOT fully separable\n"
     ]
    }
   ],
   "source": [
    "separability_criteria(rho)\n",
    "print()\n",
    "print(\"If any true, then state rho_p is NOT fully separable\")"
   ]
  },
  {
   "cell_type": "markdown",
   "id": "f6ce3681",
   "metadata": {},
   "source": [
    "# GHZ state example"
   ]
  },
  {
   "cell_type": "code",
   "execution_count": 37,
   "id": "43ae9556",
   "metadata": {},
   "outputs": [],
   "source": [
    "GHZ = np.zeros(2**N)\n",
    "GHZ[0] = 1/np.sqrt(2)\n",
    "GHZ[-1] = 1/np.sqrt(2)\n",
    "rho = statevec_2_operator(statevec_prep(GHZ))\n",
    "# print(np.round(np.linalg.eigvals(rho_2_standard(rho)),10)) #check that rho is pure"
   ]
  },
  {
   "cell_type": "code",
   "execution_count": 38,
   "id": "1509a107",
   "metadata": {},
   "outputs": [
    {
     "name": "stdout",
     "output_type": "stream",
     "text": [
      "QT 0\t\t:  True\n",
      "QT 1\t\t:  True\n",
      "QT 2\t\t:  True\n",
      "QT 3\t\t:  True\n",
      "2QT 1\t\t:  True\n",
      "2QT 2\t\t:  True\n",
      "2QT 3\t\t:  True\n",
      "R (0, 1)\t:  False\n",
      "R+QT (0, 1)\t:  False\n",
      "R (2, 3)\t:  False\n",
      "R+QT (2, 3)\t:  False\n",
      "R (1, 3)\t:  False\n",
      "R+QT (1, 3)\t:  False\n",
      "R (0, 2)\t:  False\n",
      "R+QT (0, 2)\t:  False\n",
      "R (1, 2)\t:  False\n",
      "R+QT (1, 2)\t:  False\n",
      "R (0, 3)\t:  False\n",
      "R+QT (0, 3)\t:  False\n",
      "2R (01,23)\t:  True\n",
      "2R (02,13)\t:  True\n",
      "R+R' (01,23)\t:  True\n",
      "\n",
      "If any true, then state rho_p is NOT fully separable\n"
     ]
    }
   ],
   "source": [
    "separability_criteria(rho)\n",
    "print()\n",
    "print(\"If any true, then state rho_p is NOT fully separable\")"
   ]
  },
  {
   "cell_type": "markdown",
   "id": "16b7fc9a",
   "metadata": {},
   "source": [
    "# Optimal measurement separability test"
   ]
  },
  {
   "cell_type": "code",
   "execution_count": 43,
   "id": "57bc373d",
   "metadata": {},
   "outputs": [],
   "source": [
    "with open(\"../2bp_eigensystem/data/eigvecs_md_2bp_sym_N4.bin\".format(N),\"rb\") as inf:\n",
    "    eigvecs = pickle.load(inf)\n",
    "\n",
    "LambdaPos_eigvecs = eigvecs[:4]\n",
    "LambdaNeg_eigvecs = eigvecs[-4:]\n",
    "LambdaZero_eigvecs = eigvecs[4:-4]\n",
    "\n",
    "PosProjector = np.zeros([2]*2*N, dtype='complex')\n",
    "NegProjector = np.zeros([2]*2*N, dtype='complex')\n",
    "ZeroProjector = np.zeros([2]*2*N, dtype='complex')\n",
    "\n",
    "for j in range(4):\n",
    "    PosProjector += statevec_2_operator(statevec_prep(LambdaPos_eigvecs[j]))\n",
    "    NegProjector += statevec_2_operator(statevec_prep(LambdaNeg_eigvecs[j]))\n",
    "    ZeroProjector += statevec_2_operator(statevec_prep(LambdaZero_eigvecs[j]))\n",
    "    ZeroProjector += statevec_2_operator(statevec_prep(LambdaZero_eigvecs[4+j]))"
   ]
  },
  {
   "cell_type": "code",
   "execution_count": 44,
   "id": "f146c68c",
   "metadata": {},
   "outputs": [
    {
     "name": "stdout",
     "output_type": "stream",
     "text": [
      "QT 0\t\t:  False\n",
      "QT 1\t\t:  False\n",
      "QT 2\t\t:  False\n",
      "QT 3\t\t:  False\n",
      "2QT 1\t\t:  False\n",
      "2QT 2\t\t:  False\n",
      "2QT 3\t\t:  False\n",
      "R (0, 1)\t:  False\n",
      "R+QT (0, 1)\t:  False\n",
      "R (2, 3)\t:  False\n",
      "R+QT (2, 3)\t:  False\n",
      "R (1, 3)\t:  False\n",
      "R+QT (1, 3)\t:  False\n",
      "R (0, 2)\t:  False\n",
      "R+QT (0, 2)\t:  False\n",
      "R (1, 2)\t:  False\n",
      "R+QT (1, 2)\t:  False\n",
      "R (0, 3)\t:  False\n",
      "R+QT (0, 3)\t:  False\n",
      "2R (01,23)\t:  False\n",
      "2R (02,13)\t:  False\n",
      "R+R' (01,23)\t:  False\n",
      "\n",
      "If any true, then state rho_p is NOT fully separable\n"
     ]
    }
   ],
   "source": [
    "# test to check that the complete Hilbert space as given by the sum of all POVM elements does not show any entanglement\n",
    "\n",
    "separability_criteria((NegProjector+PosProjector+ZeroProjector)/16)\n",
    "print()\n",
    "print(\"If any true, then state rho_p is NOT fully separable\")"
   ]
  },
  {
   "cell_type": "markdown",
   "id": "a37c38b9",
   "metadata": {},
   "source": [
    "# Time to try all $2^8 = 256$ combinations of the $\\lambda=0$ terms"
   ]
  },
  {
   "cell_type": "code",
   "execution_count": 45,
   "id": "7785945b",
   "metadata": {},
   "outputs": [],
   "source": [
    "def try_combinations(Proj, k, expand=True): # add all k-combinations of the lambda zero terms\n",
    "    J = np.arange(8)\n",
    "    Test = True\n",
    "    \n",
    "    for c in combinations(J,k):\n",
    "        Proj_copy = Proj.copy()\n",
    "        print(\"Trying combination \"+ str(c))\n",
    "        for i in c:\n",
    "            Proj_copy += statevec_2_operator(statevec_prep(LambdaZero_eigvecs[i]))\n",
    "        \n",
    "        check = separability_criteria(Proj_copy/(4+k), False)\n",
    "        Test *= check\n",
    "        if expand: print(check)\n",
    "    \n",
    "    return Test"
   ]
  },
  {
   "cell_type": "markdown",
   "id": "54ed136d",
   "metadata": {},
   "source": [
    "## 8 choose 0 combinations (1 combination)"
   ]
  },
  {
   "cell_type": "code",
   "execution_count": 59,
   "id": "e3d53cd3",
   "metadata": {},
   "outputs": [
    {
     "name": "stdout",
     "output_type": "stream",
     "text": [
      "QT 0\t\t:  True\n",
      "QT 1\t\t:  True\n",
      "QT 2\t\t:  True\n",
      "QT 3\t\t:  True\n",
      "2QT 1\t\t:  True\n",
      "2QT 2\t\t:  True\n",
      "2QT 3\t\t:  True\n",
      "R (0, 1)\t:  True\n",
      "R+QT (0, 1)\t:  True\n",
      "R (2, 3)\t:  True\n",
      "R+QT (2, 3)\t:  True\n",
      "R (1, 3)\t:  True\n",
      "R+QT (1, 3)\t:  True\n",
      "R (0, 2)\t:  True\n",
      "R+QT (0, 2)\t:  True\n",
      "R (1, 2)\t:  True\n",
      "R+QT (1, 2)\t:  True\n",
      "R (0, 3)\t:  True\n",
      "R+QT (0, 3)\t:  True\n",
      "2R (01,23)\t:  True\n",
      "2R (02,13)\t:  True\n",
      "R+R' (01,23)\t:  True\n"
     ]
    },
    {
     "data": {
      "text/plain": [
       "True"
      ]
     },
     "execution_count": 59,
     "metadata": {},
     "output_type": "execute_result"
    }
   ],
   "source": [
    "separability_criteria(PosProjector/4)"
   ]
  },
  {
   "cell_type": "markdown",
   "id": "21484310",
   "metadata": {},
   "source": [
    "## 8 choose 1 combinations (8 combinations)"
   ]
  },
  {
   "cell_type": "code",
   "execution_count": 60,
   "id": "b60016f5",
   "metadata": {
    "scrolled": false
   },
   "outputs": [
    {
     "name": "stdout",
     "output_type": "stream",
     "text": [
      "Trying combination (0,)\n",
      "True\n",
      "Trying combination (1,)\n",
      "True\n",
      "Trying combination (2,)\n",
      "True\n",
      "Trying combination (3,)\n",
      "True\n",
      "Trying combination (4,)\n",
      "True\n",
      "Trying combination (5,)\n",
      "True\n",
      "Trying combination (6,)\n",
      "True\n",
      "Trying combination (7,)\n",
      "True\n"
     ]
    },
    {
     "data": {
      "text/plain": [
       "True"
      ]
     },
     "execution_count": 60,
     "metadata": {},
     "output_type": "execute_result"
    }
   ],
   "source": [
    "try_combinations(PosProjector, 1, True)"
   ]
  },
  {
   "cell_type": "markdown",
   "id": "5e3f62b9",
   "metadata": {},
   "source": [
    "## 8 choose 2 combinations (28 combinations)"
   ]
  },
  {
   "cell_type": "code",
   "execution_count": 61,
   "id": "0450b16d",
   "metadata": {
    "scrolled": false
   },
   "outputs": [
    {
     "name": "stdout",
     "output_type": "stream",
     "text": [
      "Trying combination (0, 1)\n",
      "True\n",
      "Trying combination (0, 2)\n",
      "True\n",
      "Trying combination (0, 3)\n",
      "True\n",
      "Trying combination (0, 4)\n",
      "True\n",
      "Trying combination (0, 5)\n",
      "True\n",
      "Trying combination (0, 6)\n",
      "True\n",
      "Trying combination (0, 7)\n",
      "True\n",
      "Trying combination (1, 2)\n",
      "True\n",
      "Trying combination (1, 3)\n",
      "True\n",
      "Trying combination (1, 4)\n",
      "True\n",
      "Trying combination (1, 5)\n",
      "True\n",
      "Trying combination (1, 6)\n",
      "True\n",
      "Trying combination (1, 7)\n",
      "True\n",
      "Trying combination (2, 3)\n",
      "True\n",
      "Trying combination (2, 4)\n",
      "True\n",
      "Trying combination (2, 5)\n",
      "True\n",
      "Trying combination (2, 6)\n",
      "True\n",
      "Trying combination (2, 7)\n",
      "True\n",
      "Trying combination (3, 4)\n",
      "True\n",
      "Trying combination (3, 5)\n",
      "True\n",
      "Trying combination (3, 6)\n",
      "True\n",
      "Trying combination (3, 7)\n",
      "True\n",
      "Trying combination (4, 5)\n",
      "True\n",
      "Trying combination (4, 6)\n",
      "True\n",
      "Trying combination (4, 7)\n",
      "True\n",
      "Trying combination (5, 6)\n",
      "True\n",
      "Trying combination (5, 7)\n",
      "True\n",
      "Trying combination (6, 7)\n",
      "True\n"
     ]
    },
    {
     "data": {
      "text/plain": [
       "True"
      ]
     },
     "execution_count": 61,
     "metadata": {},
     "output_type": "execute_result"
    }
   ],
   "source": [
    "try_combinations(PosProjector, 2, True)"
   ]
  },
  {
   "cell_type": "markdown",
   "id": "6afffa48",
   "metadata": {},
   "source": [
    "## 8 choose 3 combinations (56 combinations)"
   ]
  },
  {
   "cell_type": "code",
   "execution_count": 62,
   "id": "611f4a45",
   "metadata": {
    "scrolled": true
   },
   "outputs": [
    {
     "name": "stdout",
     "output_type": "stream",
     "text": [
      "Trying combination (0, 1, 2)\n",
      "True\n",
      "Trying combination (0, 1, 3)\n",
      "True\n",
      "Trying combination (0, 1, 4)\n",
      "True\n",
      "Trying combination (0, 1, 5)\n",
      "True\n",
      "Trying combination (0, 1, 6)\n",
      "True\n",
      "Trying combination (0, 1, 7)\n",
      "True\n",
      "Trying combination (0, 2, 3)\n",
      "True\n",
      "Trying combination (0, 2, 4)\n",
      "True\n",
      "Trying combination (0, 2, 5)\n",
      "True\n",
      "Trying combination (0, 2, 6)\n",
      "True\n",
      "Trying combination (0, 2, 7)\n",
      "True\n",
      "Trying combination (0, 3, 4)\n",
      "True\n",
      "Trying combination (0, 3, 5)\n",
      "True\n",
      "Trying combination (0, 3, 6)\n",
      "True\n",
      "Trying combination (0, 3, 7)\n",
      "True\n",
      "Trying combination (0, 4, 5)\n",
      "True\n",
      "Trying combination (0, 4, 6)\n",
      "True\n",
      "Trying combination (0, 4, 7)\n",
      "True\n",
      "Trying combination (0, 5, 6)\n",
      "True\n",
      "Trying combination (0, 5, 7)\n",
      "True\n",
      "Trying combination (0, 6, 7)\n",
      "True\n",
      "Trying combination (1, 2, 3)\n",
      "True\n",
      "Trying combination (1, 2, 4)\n",
      "True\n",
      "Trying combination (1, 2, 5)\n",
      "True\n",
      "Trying combination (1, 2, 6)\n",
      "True\n",
      "Trying combination (1, 2, 7)\n",
      "True\n",
      "Trying combination (1, 3, 4)\n",
      "True\n",
      "Trying combination (1, 3, 5)\n",
      "True\n",
      "Trying combination (1, 3, 6)\n",
      "True\n",
      "Trying combination (1, 3, 7)\n",
      "True\n",
      "Trying combination (1, 4, 5)\n",
      "True\n",
      "Trying combination (1, 4, 6)\n",
      "True\n",
      "Trying combination (1, 4, 7)\n",
      "True\n",
      "Trying combination (1, 5, 6)\n",
      "True\n",
      "Trying combination (1, 5, 7)\n",
      "True\n",
      "Trying combination (1, 6, 7)\n",
      "True\n",
      "Trying combination (2, 3, 4)\n",
      "True\n",
      "Trying combination (2, 3, 5)\n",
      "True\n",
      "Trying combination (2, 3, 6)\n",
      "True\n",
      "Trying combination (2, 3, 7)\n",
      "True\n",
      "Trying combination (2, 4, 5)\n",
      "True\n",
      "Trying combination (2, 4, 6)\n",
      "True\n",
      "Trying combination (2, 4, 7)\n",
      "True\n",
      "Trying combination (2, 5, 6)\n",
      "True\n",
      "Trying combination (2, 5, 7)\n",
      "True\n",
      "Trying combination (2, 6, 7)\n",
      "True\n",
      "Trying combination (3, 4, 5)\n",
      "True\n",
      "Trying combination (3, 4, 6)\n",
      "True\n",
      "Trying combination (3, 4, 7)\n",
      "True\n",
      "Trying combination (3, 5, 6)\n",
      "True\n",
      "Trying combination (3, 5, 7)\n",
      "True\n",
      "Trying combination (3, 6, 7)\n",
      "True\n",
      "Trying combination (4, 5, 6)\n",
      "True\n",
      "Trying combination (4, 5, 7)\n",
      "True\n",
      "Trying combination (4, 6, 7)\n",
      "True\n",
      "Trying combination (5, 6, 7)\n",
      "True\n"
     ]
    },
    {
     "data": {
      "text/plain": [
       "True"
      ]
     },
     "execution_count": 62,
     "metadata": {},
     "output_type": "execute_result"
    }
   ],
   "source": [
    "try_combinations(PosProjector, 3, True)"
   ]
  },
  {
   "cell_type": "markdown",
   "id": "937ee607",
   "metadata": {},
   "source": [
    "## 8 choose 4 combinations (70 combinations)"
   ]
  },
  {
   "cell_type": "code",
   "execution_count": 63,
   "id": "f9045960",
   "metadata": {
    "scrolled": true
   },
   "outputs": [
    {
     "name": "stdout",
     "output_type": "stream",
     "text": [
      "Trying combination (0, 1, 2, 3)\n",
      "True\n",
      "Trying combination (0, 1, 2, 4)\n",
      "True\n",
      "Trying combination (0, 1, 2, 5)\n",
      "True\n",
      "Trying combination (0, 1, 2, 6)\n",
      "True\n",
      "Trying combination (0, 1, 2, 7)\n",
      "True\n",
      "Trying combination (0, 1, 3, 4)\n",
      "True\n",
      "Trying combination (0, 1, 3, 5)\n",
      "True\n",
      "Trying combination (0, 1, 3, 6)\n",
      "True\n",
      "Trying combination (0, 1, 3, 7)\n",
      "True\n",
      "Trying combination (0, 1, 4, 5)\n",
      "True\n",
      "Trying combination (0, 1, 4, 6)\n",
      "True\n",
      "Trying combination (0, 1, 4, 7)\n",
      "True\n",
      "Trying combination (0, 1, 5, 6)\n",
      "True\n",
      "Trying combination (0, 1, 5, 7)\n",
      "True\n",
      "Trying combination (0, 1, 6, 7)\n",
      "True\n",
      "Trying combination (0, 2, 3, 4)\n",
      "True\n",
      "Trying combination (0, 2, 3, 5)\n",
      "True\n",
      "Trying combination (0, 2, 3, 6)\n",
      "True\n",
      "Trying combination (0, 2, 3, 7)\n",
      "True\n",
      "Trying combination (0, 2, 4, 5)\n",
      "True\n",
      "Trying combination (0, 2, 4, 6)\n",
      "True\n",
      "Trying combination (0, 2, 4, 7)\n",
      "True\n",
      "Trying combination (0, 2, 5, 6)\n",
      "True\n",
      "Trying combination (0, 2, 5, 7)\n",
      "True\n",
      "Trying combination (0, 2, 6, 7)\n",
      "True\n",
      "Trying combination (0, 3, 4, 5)\n",
      "True\n",
      "Trying combination (0, 3, 4, 6)\n",
      "True\n",
      "Trying combination (0, 3, 4, 7)\n",
      "True\n",
      "Trying combination (0, 3, 5, 6)\n",
      "True\n",
      "Trying combination (0, 3, 5, 7)\n",
      "True\n",
      "Trying combination (0, 3, 6, 7)\n",
      "True\n",
      "Trying combination (0, 4, 5, 6)\n",
      "True\n",
      "Trying combination (0, 4, 5, 7)\n",
      "True\n",
      "Trying combination (0, 4, 6, 7)\n",
      "True\n",
      "Trying combination (0, 5, 6, 7)\n",
      "True\n",
      "Trying combination (1, 2, 3, 4)\n",
      "True\n",
      "Trying combination (1, 2, 3, 5)\n",
      "True\n",
      "Trying combination (1, 2, 3, 6)\n",
      "True\n",
      "Trying combination (1, 2, 3, 7)\n",
      "True\n",
      "Trying combination (1, 2, 4, 5)\n",
      "True\n",
      "Trying combination (1, 2, 4, 6)\n",
      "True\n",
      "Trying combination (1, 2, 4, 7)\n",
      "True\n",
      "Trying combination (1, 2, 5, 6)\n",
      "True\n",
      "Trying combination (1, 2, 5, 7)\n",
      "True\n",
      "Trying combination (1, 2, 6, 7)\n",
      "True\n",
      "Trying combination (1, 3, 4, 5)\n",
      "True\n",
      "Trying combination (1, 3, 4, 6)\n",
      "True\n",
      "Trying combination (1, 3, 4, 7)\n",
      "True\n",
      "Trying combination (1, 3, 5, 6)\n",
      "True\n",
      "Trying combination (1, 3, 5, 7)\n",
      "True\n",
      "Trying combination (1, 3, 6, 7)\n",
      "True\n",
      "Trying combination (1, 4, 5, 6)\n",
      "True\n",
      "Trying combination (1, 4, 5, 7)\n",
      "True\n",
      "Trying combination (1, 4, 6, 7)\n",
      "True\n",
      "Trying combination (1, 5, 6, 7)\n",
      "True\n",
      "Trying combination (2, 3, 4, 5)\n",
      "True\n",
      "Trying combination (2, 3, 4, 6)\n",
      "True\n",
      "Trying combination (2, 3, 4, 7)\n",
      "True\n",
      "Trying combination (2, 3, 5, 6)\n",
      "True\n",
      "Trying combination (2, 3, 5, 7)\n",
      "True\n",
      "Trying combination (2, 3, 6, 7)\n",
      "True\n",
      "Trying combination (2, 4, 5, 6)\n",
      "True\n",
      "Trying combination (2, 4, 5, 7)\n",
      "True\n",
      "Trying combination (2, 4, 6, 7)\n",
      "True\n",
      "Trying combination (2, 5, 6, 7)\n",
      "True\n",
      "Trying combination (3, 4, 5, 6)\n",
      "True\n",
      "Trying combination (3, 4, 5, 7)\n",
      "True\n",
      "Trying combination (3, 4, 6, 7)\n",
      "True\n",
      "Trying combination (3, 5, 6, 7)\n",
      "True\n",
      "Trying combination (4, 5, 6, 7)\n",
      "True\n"
     ]
    },
    {
     "data": {
      "text/plain": [
       "True"
      ]
     },
     "execution_count": 63,
     "metadata": {},
     "output_type": "execute_result"
    }
   ],
   "source": [
    "try_combinations(PosProjector, 4, True)"
   ]
  },
  {
   "cell_type": "markdown",
   "id": "4504794d",
   "metadata": {},
   "source": [
    "## 8 choose 5 combinations (56 combinations)"
   ]
  },
  {
   "cell_type": "code",
   "execution_count": 64,
   "id": "1cdba6e5",
   "metadata": {
    "scrolled": true
   },
   "outputs": [
    {
     "name": "stdout",
     "output_type": "stream",
     "text": [
      "Trying combination (0, 1, 2, 3, 4)\n",
      "True\n",
      "Trying combination (0, 1, 2, 3, 5)\n",
      "True\n",
      "Trying combination (0, 1, 2, 3, 6)\n",
      "True\n",
      "Trying combination (0, 1, 2, 3, 7)\n",
      "True\n",
      "Trying combination (0, 1, 2, 4, 5)\n",
      "True\n",
      "Trying combination (0, 1, 2, 4, 6)\n",
      "True\n",
      "Trying combination (0, 1, 2, 4, 7)\n",
      "True\n",
      "Trying combination (0, 1, 2, 5, 6)\n",
      "True\n",
      "Trying combination (0, 1, 2, 5, 7)\n",
      "True\n",
      "Trying combination (0, 1, 2, 6, 7)\n",
      "True\n",
      "Trying combination (0, 1, 3, 4, 5)\n",
      "True\n",
      "Trying combination (0, 1, 3, 4, 6)\n",
      "True\n",
      "Trying combination (0, 1, 3, 4, 7)\n",
      "True\n",
      "Trying combination (0, 1, 3, 5, 6)\n",
      "True\n",
      "Trying combination (0, 1, 3, 5, 7)\n",
      "True\n",
      "Trying combination (0, 1, 3, 6, 7)\n",
      "True\n",
      "Trying combination (0, 1, 4, 5, 6)\n",
      "True\n",
      "Trying combination (0, 1, 4, 5, 7)\n",
      "True\n",
      "Trying combination (0, 1, 4, 6, 7)\n",
      "True\n",
      "Trying combination (0, 1, 5, 6, 7)\n",
      "True\n",
      "Trying combination (0, 2, 3, 4, 5)\n",
      "True\n",
      "Trying combination (0, 2, 3, 4, 6)\n",
      "True\n",
      "Trying combination (0, 2, 3, 4, 7)\n",
      "True\n",
      "Trying combination (0, 2, 3, 5, 6)\n",
      "True\n",
      "Trying combination (0, 2, 3, 5, 7)\n",
      "True\n",
      "Trying combination (0, 2, 3, 6, 7)\n",
      "True\n",
      "Trying combination (0, 2, 4, 5, 6)\n",
      "True\n",
      "Trying combination (0, 2, 4, 5, 7)\n",
      "True\n",
      "Trying combination (0, 2, 4, 6, 7)\n",
      "True\n",
      "Trying combination (0, 2, 5, 6, 7)\n",
      "True\n",
      "Trying combination (0, 3, 4, 5, 6)\n",
      "True\n",
      "Trying combination (0, 3, 4, 5, 7)\n",
      "True\n",
      "Trying combination (0, 3, 4, 6, 7)\n",
      "True\n",
      "Trying combination (0, 3, 5, 6, 7)\n",
      "True\n",
      "Trying combination (0, 4, 5, 6, 7)\n",
      "True\n",
      "Trying combination (1, 2, 3, 4, 5)\n",
      "True\n",
      "Trying combination (1, 2, 3, 4, 6)\n",
      "True\n",
      "Trying combination (1, 2, 3, 4, 7)\n",
      "True\n",
      "Trying combination (1, 2, 3, 5, 6)\n",
      "True\n",
      "Trying combination (1, 2, 3, 5, 7)\n",
      "True\n",
      "Trying combination (1, 2, 3, 6, 7)\n",
      "True\n",
      "Trying combination (1, 2, 4, 5, 6)\n",
      "True\n",
      "Trying combination (1, 2, 4, 5, 7)\n",
      "True\n",
      "Trying combination (1, 2, 4, 6, 7)\n",
      "True\n",
      "Trying combination (1, 2, 5, 6, 7)\n",
      "True\n",
      "Trying combination (1, 3, 4, 5, 6)\n",
      "True\n",
      "Trying combination (1, 3, 4, 5, 7)\n",
      "True\n",
      "Trying combination (1, 3, 4, 6, 7)\n",
      "True\n",
      "Trying combination (1, 3, 5, 6, 7)\n",
      "True\n",
      "Trying combination (1, 4, 5, 6, 7)\n",
      "True\n",
      "Trying combination (2, 3, 4, 5, 6)\n",
      "True\n",
      "Trying combination (2, 3, 4, 5, 7)\n",
      "True\n",
      "Trying combination (2, 3, 4, 6, 7)\n",
      "True\n",
      "Trying combination (2, 3, 5, 6, 7)\n",
      "True\n",
      "Trying combination (2, 4, 5, 6, 7)\n",
      "True\n",
      "Trying combination (3, 4, 5, 6, 7)\n",
      "True\n"
     ]
    },
    {
     "data": {
      "text/plain": [
       "True"
      ]
     },
     "execution_count": 64,
     "metadata": {},
     "output_type": "execute_result"
    }
   ],
   "source": [
    "try_combinations(PosProjector, 5, True)"
   ]
  },
  {
   "cell_type": "markdown",
   "id": "c69526f6",
   "metadata": {},
   "source": [
    "## 8 choose 6 combinations (28 combinations)"
   ]
  },
  {
   "cell_type": "code",
   "execution_count": 65,
   "id": "9e497988",
   "metadata": {
    "scrolled": false
   },
   "outputs": [
    {
     "name": "stdout",
     "output_type": "stream",
     "text": [
      "Trying combination (0, 1, 2, 3, 4, 5)\n",
      "True\n",
      "Trying combination (0, 1, 2, 3, 4, 6)\n",
      "True\n",
      "Trying combination (0, 1, 2, 3, 4, 7)\n",
      "True\n",
      "Trying combination (0, 1, 2, 3, 5, 6)\n",
      "True\n",
      "Trying combination (0, 1, 2, 3, 5, 7)\n",
      "True\n",
      "Trying combination (0, 1, 2, 3, 6, 7)\n",
      "True\n",
      "Trying combination (0, 1, 2, 4, 5, 6)\n",
      "True\n",
      "Trying combination (0, 1, 2, 4, 5, 7)\n",
      "True\n",
      "Trying combination (0, 1, 2, 4, 6, 7)\n",
      "False\n",
      "Trying combination (0, 1, 2, 5, 6, 7)\n",
      "True\n",
      "Trying combination (0, 1, 3, 4, 5, 6)\n",
      "True\n",
      "Trying combination (0, 1, 3, 4, 5, 7)\n",
      "True\n",
      "Trying combination (0, 1, 3, 4, 6, 7)\n",
      "True\n",
      "Trying combination (0, 1, 3, 5, 6, 7)\n",
      "True\n",
      "Trying combination (0, 1, 4, 5, 6, 7)\n",
      "True\n",
      "Trying combination (0, 2, 3, 4, 5, 6)\n",
      "True\n",
      "Trying combination (0, 2, 3, 4, 5, 7)\n",
      "True\n",
      "Trying combination (0, 2, 3, 4, 6, 7)\n",
      "True\n",
      "Trying combination (0, 2, 3, 5, 6, 7)\n",
      "True\n",
      "Trying combination (0, 2, 4, 5, 6, 7)\n",
      "True\n",
      "Trying combination (0, 3, 4, 5, 6, 7)\n",
      "True\n",
      "Trying combination (1, 2, 3, 4, 5, 6)\n",
      "True\n",
      "Trying combination (1, 2, 3, 4, 5, 7)\n",
      "True\n",
      "Trying combination (1, 2, 3, 4, 6, 7)\n",
      "True\n",
      "Trying combination (1, 2, 3, 5, 6, 7)\n",
      "True\n",
      "Trying combination (1, 2, 4, 5, 6, 7)\n",
      "True\n",
      "Trying combination (1, 3, 4, 5, 6, 7)\n",
      "True\n",
      "Trying combination (2, 3, 4, 5, 6, 7)\n",
      "True\n"
     ]
    },
    {
     "data": {
      "text/plain": [
       "False"
      ]
     },
     "execution_count": 65,
     "metadata": {},
     "output_type": "execute_result"
    }
   ],
   "source": [
    "try_combinations(PosProjector, 6, True)"
   ]
  },
  {
   "cell_type": "markdown",
   "id": "3fcd70aa",
   "metadata": {},
   "source": [
    "## 8 choose 7 combinations (8 combinations)"
   ]
  },
  {
   "cell_type": "code",
   "execution_count": 66,
   "id": "a5c85acf",
   "metadata": {
    "scrolled": false
   },
   "outputs": [
    {
     "name": "stdout",
     "output_type": "stream",
     "text": [
      "Trying combination (0, 1, 2, 3, 4, 5, 6)\n",
      "Trying combination (0, 1, 2, 3, 4, 5, 7)\n",
      "Trying combination (0, 1, 2, 3, 4, 6, 7)\n",
      "Trying combination (0, 1, 2, 3, 5, 6, 7)\n",
      "Trying combination (0, 1, 2, 4, 5, 6, 7)\n",
      "Trying combination (0, 1, 3, 4, 5, 6, 7)\n",
      "Trying combination (0, 2, 3, 4, 5, 6, 7)\n",
      "Trying combination (1, 2, 3, 4, 5, 6, 7)\n"
     ]
    },
    {
     "data": {
      "text/plain": [
       "True"
      ]
     },
     "execution_count": 66,
     "metadata": {},
     "output_type": "execute_result"
    }
   ],
   "source": [
    "try_combinations(PosProjector, 7, False)"
   ]
  },
  {
   "cell_type": "markdown",
   "id": "399210db",
   "metadata": {},
   "source": [
    "## 8 choose 8 combinations (1 combination)"
   ]
  },
  {
   "cell_type": "code",
   "execution_count": 67,
   "id": "cae8ee8c",
   "metadata": {
    "scrolled": true
   },
   "outputs": [
    {
     "name": "stdout",
     "output_type": "stream",
     "text": [
      "Trying combination (0, 1, 2, 3, 4, 5, 6, 7)\n"
     ]
    },
    {
     "data": {
      "text/plain": [
       "False"
      ]
     },
     "execution_count": 67,
     "metadata": {},
     "output_type": "execute_result"
    }
   ],
   "source": [
    "try_combinations(PosProjector, 8, False)"
   ]
  },
  {
   "cell_type": "markdown",
   "id": "21a05e76",
   "metadata": {},
   "source": [
    "It seems that combinations (0, 1, 2, 4, 6, 7) and (0, 1, 2, 3, 4, 5, 6, 7) are possible null vector combinations for a separable measurement. However, if we check for the corresponding negative eigenspace projector, it is not fully separable."
   ]
  },
  {
   "cell_type": "code",
   "execution_count": 68,
   "id": "04448836",
   "metadata": {},
   "outputs": [
    {
     "name": "stdout",
     "output_type": "stream",
     "text": [
      "Trying combination ()\n"
     ]
    },
    {
     "data": {
      "text/plain": [
       "True"
      ]
     },
     "execution_count": 68,
     "metadata": {},
     "output_type": "execute_result"
    }
   ],
   "source": [
    "try_combinations(NegProjector, 0, False)"
   ]
  },
  {
   "cell_type": "code",
   "execution_count": 69,
   "id": "aab23fc8",
   "metadata": {},
   "outputs": [
    {
     "name": "stdout",
     "output_type": "stream",
     "text": [
      "Trying combination (0, 1)\n",
      "Trying combination (0, 2)\n",
      "Trying combination (0, 3)\n",
      "Trying combination (0, 4)\n",
      "Trying combination (0, 5)\n",
      "Trying combination (0, 6)\n",
      "Trying combination (0, 7)\n",
      "Trying combination (1, 2)\n",
      "Trying combination (1, 3)\n",
      "Trying combination (1, 4)\n",
      "Trying combination (1, 5)\n",
      "Trying combination (1, 6)\n",
      "Trying combination (1, 7)\n",
      "Trying combination (2, 3)\n",
      "Trying combination (2, 4)\n",
      "Trying combination (2, 5)\n",
      "Trying combination (2, 6)\n",
      "Trying combination (2, 7)\n",
      "Trying combination (3, 4)\n",
      "Trying combination (3, 5)\n",
      "Trying combination (3, 6)\n",
      "Trying combination (3, 7)\n",
      "Trying combination (4, 5)\n",
      "Trying combination (4, 6)\n",
      "Trying combination (4, 7)\n",
      "Trying combination (5, 6)\n",
      "Trying combination (5, 7)\n",
      "Trying combination (6, 7)\n"
     ]
    },
    {
     "data": {
      "text/plain": [
       "True"
      ]
     },
     "execution_count": 69,
     "metadata": {},
     "output_type": "execute_result"
    }
   ],
   "source": [
    "try_combinations(NegProjector, 2, False)"
   ]
  }
 ],
 "metadata": {
  "kernelspec": {
   "display_name": "Python 3 (ipykernel)",
   "language": "python",
   "name": "python3"
  },
  "language_info": {
   "codemirror_mode": {
    "name": "ipython",
    "version": 3
   },
   "file_extension": ".py",
   "mimetype": "text/x-python",
   "name": "python",
   "nbconvert_exporter": "python",
   "pygments_lexer": "ipython3",
   "version": "3.10.10"
  }
 },
 "nbformat": 4,
 "nbformat_minor": 5
}
