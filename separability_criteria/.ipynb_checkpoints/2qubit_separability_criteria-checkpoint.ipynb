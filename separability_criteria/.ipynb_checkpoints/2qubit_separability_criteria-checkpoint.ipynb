{
 "cells": [
  {
   "cell_type": "markdown",
   "id": "f12a23c2",
   "metadata": {},
   "source": [
    "# Full separability criteria applied for 2-qubit states\n",
    "https://doi.org/10.48550/arXiv.quant-ph/0504160"
   ]
  },
  {
   "cell_type": "code",
   "execution_count": 1,
   "id": "d07f9ba0",
   "metadata": {},
   "outputs": [],
   "source": [
    "import numpy as np\n",
    "N = 2 # number of qubits"
   ]
  },
  {
   "cell_type": "code",
   "execution_count": 12,
   "id": "e1d0dbca",
   "metadata": {},
   "outputs": [],
   "source": [
    "def partial_transpose(A, k): # perform a partial transpose of the k-th qubit in matrix A\n",
    "    J = list(range(2*N))\n",
    "    J[2*k] = 2*k+1\n",
    "    J[2*k+1] = 2*k\n",
    "    return A.transpose(*J)\n",
    "\n",
    "def reshuffle(A, k, l):\n",
    "    J = list(range(2*N))\n",
    "    J[2*l] = 2*k+1\n",
    "    J[2*k+1] = 2*l\n",
    "    return A.transpose(*J)\n",
    "\n",
    "def statevec_prep(u):\n",
    "    v = np.zeros([2]*N, dtype='complex')\n",
    "    for j in range(2**N):\n",
    "        bits = np.array(list('{0:02b}'.format(j))).astype('int') # from integer to 4 digit binary number\n",
    "        a, b = bits\n",
    "        v[a,b] = u[j]\n",
    "    return v\n",
    "\n",
    "def statevec_2_operator(v):\n",
    "    rho = np.zeros([2]*2*N, dtype='complex')\n",
    "    for j in range(2**N):\n",
    "        bits1 = np.array(list('{0:02b}'.format(j))).astype('int') # from integer to 4 digit binary number\n",
    "        a1, b1 = bits1\n",
    "        for k in range(2**N):\n",
    "            bits2 = np.array(list('{0:02b}'.format(k))).astype('int') # from integer to 4 digit binary number\n",
    "            a2, b2 = bits2\n",
    "            rho[a1,a2,b1,b2] = v[a1,b1]*np.conjugate(v[a2,b2])\n",
    "    return rho\n",
    "\n",
    "def rho_2_standard(rho):\n",
    "    sigma = np.zeros((2**N,2**N), dtype='complex')\n",
    "    for j in range(2**N):\n",
    "        bits1 = np.array(list('{0:02b}'.format(j))).astype('int') # from integer to 4 digit binary number\n",
    "        a1, b1 = bits1\n",
    "        for k in range(2**N):\n",
    "            bits2 = np.array(list('{0:02b}'.format(k))).astype('int') # from integer to 4 digit binary number\n",
    "            a2, b2 = bits2\n",
    "            sigma[j,k] = rho[a1,a2,b1,b2]\n",
    "    return sigma\n",
    "\n",
    "def check_for_neglambda(rho, DEC=15):\n",
    "    return ((np.round(np.linalg.eigvals(rho_2_standard(rho)), DEC) < 0)).any()\n",
    "\n",
    "def check_for_tracenorm(rho):\n",
    "    tracenorm = np.sum(np.abs(np.linalg.eigvals(rho_2_standard(rho))))\n",
    "    print(tracenorm)\n",
    "    return tracenorm > 1\n",
    "\n",
    "def separability_criteria(rho):\n",
    "    \n",
    "    # QT Row\n",
    "    rho_p = partial_transpose(rho,0)\n",
    "    print(\"QT \\t: \", check_for_tracenorm(rho_p))\n",
    "        \n",
    "    # R Row\n",
    "    rho_p = reshuffle(rho, 1,0)\n",
    "    print(\"R \\t: \", check_for_tracenorm(rho_p))\n"
   ]
  },
  {
   "cell_type": "markdown",
   "id": "847354e6",
   "metadata": {},
   "source": [
    "# Separable state example"
   ]
  },
  {
   "cell_type": "code",
   "execution_count": 13,
   "id": "2f31519c",
   "metadata": {},
   "outputs": [],
   "source": [
    "# u_sep will be a separable HD state\n",
    "u_sep = np.zeros(2**N)\n",
    "u_sep[0] = 1/np.sqrt(2)\n",
    "u_sep[1] = 1/np.sqrt(2)\n",
    "rho = statevec_2_operator(statevec_prep(u_sep))\n",
    "# print(np.round(np.linalg.eigvals(rho_2_standard(rho)),10)) #check that rho is pure"
   ]
  },
  {
   "cell_type": "code",
   "execution_count": 14,
   "id": "e24146db",
   "metadata": {},
   "outputs": [
    {
     "name": "stdout",
     "output_type": "stream",
     "text": [
      "0.999999999999999\n",
      "QT \t:  False\n",
      "0.4999999999999999\n",
      "R \t:  False\n",
      "\n",
      "If any true, then state rho_p is NOT fully separable\n",
      "If all true, then state rho_p is NOT separable in any form\n",
      "If false, then nothing can be stated about rho_p (generally that it is separable)\n"
     ]
    }
   ],
   "source": [
    "separability_criteria(rho)\n",
    "print()\n",
    "print(\"If any true, then state rho_p is NOT fully separable\")\n",
    "print(\"If all true, then state rho_p is NOT separable in any form\")\n",
    "print(\"If false, then nothing can be stated about rho_p (generally that it is separable)\")"
   ]
  },
  {
   "cell_type": "markdown",
   "id": "a989df43",
   "metadata": {},
   "source": [
    "# Bell state example"
   ]
  },
  {
   "cell_type": "code",
   "execution_count": 18,
   "id": "7085cac7",
   "metadata": {},
   "outputs": [],
   "source": [
    "# GHZ will be aN HH + VV state\n",
    "GHZ = np.zeros(2**N)\n",
    "GHZ[0] = 1/np.sqrt(2)\n",
    "GHZ[-1] = 1/np.sqrt(2)\n",
    "rho = statevec_2_operator(statevec_prep(GHZ))\n",
    "# print(np.round(np.linalg.eigvals(rho_2_standard(rho)),10)) #check that rho is pure"
   ]
  },
  {
   "cell_type": "code",
   "execution_count": 19,
   "id": "cba52a9b",
   "metadata": {},
   "outputs": [
    {
     "name": "stdout",
     "output_type": "stream",
     "text": [
      "1.9999999999999991\n",
      "QT \t:  True\n",
      "1.9999999999999996\n",
      "R \t:  True\n",
      "\n",
      "If any true, then state rho_p is NOT separable\n",
      "If false, then nothing can be stated about rho_p (generally that it is separable)\n"
     ]
    }
   ],
   "source": [
    "separability_criteria(rho)\n",
    "print()\n",
    "print(\"If any true, then state rho_p is NOT separable\")\n",
    "print(\"If false, then nothing can be stated about rho_p (generally that it is separable)\")"
   ]
  },
  {
   "cell_type": "markdown",
   "id": "ad5e815e",
   "metadata": {},
   "source": [
    "# D'Espagnat measurement separability test"
   ]
  },
  {
   "cell_type": "code",
   "execution_count": 21,
   "id": "9f6e890b",
   "metadata": {},
   "outputs": [],
   "source": [
    "psi_p = np.zeros(2**N); psi_m = np.zeros(2**N)\n",
    "psi_p[1] = 1/np.sqrt(2); psi_m[1] = 1/np.sqrt(2)\n",
    "psi_p[2] = 1/np.sqrt(2); psi_m[2] = -1/np.sqrt(2)\n",
    "\n",
    "phi_p = np.zeros(2**N); phi_m = np.zeros(2**N)\n",
    "phi_p[0] = 1/np.sqrt(2); phi_m[0] = 1/np.sqrt(2)\n",
    "phi_p[3] = 1/np.sqrt(2); phi_m[3] = -1/np.sqrt(2)\n",
    "\n",
    "rho1 = statevec_2_operator(statevec_prep(psi_p))\n",
    "rho2 = statevec_2_operator(statevec_prep(psi_m))\n",
    "rho3 = statevec_2_operator(statevec_prep(phi_p))\n",
    "rho4 = statevec_2_operator(statevec_prep(phi_m))\n",
    "\n",
    "rho = (rho1+rho2)/2 # proportional to despagnat measurement operator"
   ]
  },
  {
   "cell_type": "code",
   "execution_count": 22,
   "id": "3f00ff4c",
   "metadata": {},
   "outputs": [
    {
     "name": "stdout",
     "output_type": "stream",
     "text": [
      "0.9999999999999998\n",
      "QT \t:  False\n",
      "0.9999999999999993\n",
      "R \t:  False\n",
      "\n",
      "If any true, then state rho_p is NOT fully separable\n"
     ]
    }
   ],
   "source": [
    "separability_criteria(rho)\n",
    "print()\n",
    "print(\"If any true, then state rho_p is NOT fully separable\")"
   ]
  },
  {
   "cell_type": "code",
   "execution_count": null,
   "id": "fd8a01af",
   "metadata": {},
   "outputs": [],
   "source": []
  }
 ],
 "metadata": {
  "kernelspec": {
   "display_name": "Python 3 (ipykernel)",
   "language": "python",
   "name": "python3"
  },
  "language_info": {
   "codemirror_mode": {
    "name": "ipython",
    "version": 3
   },
   "file_extension": ".py",
   "mimetype": "text/x-python",
   "name": "python",
   "nbconvert_exporter": "python",
   "pygments_lexer": "ipython3",
   "version": "3.10.10"
  }
 },
 "nbformat": 4,
 "nbformat_minor": 5
}
