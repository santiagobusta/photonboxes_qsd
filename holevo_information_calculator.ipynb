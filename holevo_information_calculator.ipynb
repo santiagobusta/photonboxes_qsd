{
 "cells": [
  {
   "cell_type": "code",
   "execution_count": 20,
   "id": "e462100f",
   "metadata": {},
   "outputs": [],
   "source": [
    "import numpy as np\n",
    "from scipy.stats import entropy"
   ]
  },
  {
   "cell_type": "code",
   "execution_count": 123,
   "id": "26e21912",
   "metadata": {},
   "outputs": [],
   "source": [
    "def get_state_entropy(state, r = 10, b = 2):\n",
    "    eigvals = np.round(np.real(np.linalg.eigvals(state)), r)\n",
    "    return entropy(eigvals, base=b)\n",
    "\n",
    "def holevo_information( pk, states , r = 10, b = 2):\n",
    "    \n",
    "    n = len(pk)\n",
    "    rho = np.zeros_like(states[0], dtype=\"complex\")\n",
    "    S0 = 0 # base entropy\n",
    "    \n",
    "    for k in range(n):\n",
    "        rho += pk[k]*states[k]\n",
    "        S0 += pk[k]*get_state_entropy(states[k], r, b)\n",
    "        \n",
    "    S = get_state_entropy(rho)\n",
    "    \n",
    "    return S - S0"
   ]
  },
  {
   "cell_type": "markdown",
   "id": "9c8efdd3",
   "metadata": {},
   "source": [
    "## N copies of state $H$ vs N copies of state $L$"
   ]
  },
  {
   "cell_type": "code",
   "execution_count": 94,
   "id": "ca83272f",
   "metadata": {},
   "outputs": [],
   "source": [
    "N = 10 # number of copies\n",
    "p = 1/2\n",
    "\n",
    "H = np.array([1, 0])\n",
    "L = np.array([1, 1j])/np.sqrt(2)\n",
    "\n",
    "stateA = 1.\n",
    "stateB = 1.\n",
    "\n",
    "for k in range(N):\n",
    "    stateA = np.kron(stateA, H)\n",
    "    stateB = np.kron(stateB, L)\n",
    "    \n",
    "stateA = np.outer( stateA, stateA.conj() )\n",
    "stateB = np.outer( stateB, stateB.conj() )\n",
    "    \n",
    "I = holevo_information( [p, 1-p], [stateA, stateB])"
   ]
  },
  {
   "cell_type": "code",
   "execution_count": 95,
   "id": "a45b54db",
   "metadata": {},
   "outputs": [
    {
     "name": "stdout",
     "output_type": "stream",
     "text": [
      "Holevo information: 0.9992954443621548 bits\n"
     ]
    }
   ],
   "source": [
    "print(\"Holevo information:\", entropy(eigvals, base=2), \"bits\")"
   ]
  },
  {
   "cell_type": "markdown",
   "id": "e40cd26e",
   "metadata": {},
   "source": [
    "## Between box states"
   ]
  },
  {
   "cell_type": "code",
   "execution_count": 164,
   "id": "01ecefca",
   "metadata": {},
   "outputs": [],
   "source": [
    "N=7\n",
    "\n",
    "rhoA = np.load(\"full_density_matrices/rhoA_N{:d}_num.npy\".format(2*N))\n",
    "rhoB = np.load(\"full_density_matrices/rhoB_N{:d}_num.npy\".format(2*N))\n",
    "rhoC = np.load(\"full_density_matrices/rhoC_N{:d}_num.npy\".format(2*N))"
   ]
  },
  {
   "cell_type": "code",
   "execution_count": 165,
   "id": "09c071e6",
   "metadata": {},
   "outputs": [],
   "source": [
    "I_2BP = holevo_information( [1/2, 1/2] , [rhoA, rhoB], 10, 2)\n",
    "I_3BP = holevo_information( [1/3, 1/3, 1/3] , [rhoA, rhoB, rhoC], 10, 2)"
   ]
  },
  {
   "cell_type": "code",
   "execution_count": 166,
   "id": "3c40b687",
   "metadata": {},
   "outputs": [],
   "source": [
    "np.savetxt(\"full_density_matrices/HolevoInf_2BP_bits_N{:d}\".format(2*N), [I_2BP])\n",
    "np.savetxt(\"full_density_matrices/HolevoInf_3BP_trits_N{:d}\".format(2*N), [I_3BP])"
   ]
  },
  {
   "cell_type": "code",
   "execution_count": 167,
   "id": "a0d12ac9",
   "metadata": {},
   "outputs": [
    {
     "data": {
      "text/plain": [
       "0.9562936495825589"
      ]
     },
     "execution_count": 167,
     "metadata": {},
     "output_type": "execute_result"
    }
   ],
   "source": [
    "I_3BP"
   ]
  },
  {
   "cell_type": "code",
   "execution_count": 168,
   "id": "7ab46758",
   "metadata": {},
   "outputs": [
    {
     "data": {
      "text/plain": [
       "0.8114150120895225"
      ]
     },
     "execution_count": 168,
     "metadata": {},
     "output_type": "execute_result"
    }
   ],
   "source": [
    "I_2BP"
   ]
  }
 ],
 "metadata": {
  "kernelspec": {
   "display_name": "Python 3 (ipykernel)",
   "language": "python",
   "name": "python3"
  },
  "language_info": {
   "codemirror_mode": {
    "name": "ipython",
    "version": 3
   },
   "file_extension": ".py",
   "mimetype": "text/x-python",
   "name": "python",
   "nbconvert_exporter": "python",
   "pygments_lexer": "ipython3",
   "version": "3.10.10"
  }
 },
 "nbformat": 4,
 "nbformat_minor": 5
}
