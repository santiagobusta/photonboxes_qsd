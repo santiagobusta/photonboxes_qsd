{
 "cells": [
  {
   "cell_type": "markdown",
   "id": "cf2197da",
   "metadata": {},
   "source": [
    "# Expected error probabilities of maximum a posteriori strategies based on Clarke's trine experiment"
   ]
  },
  {
   "cell_type": "code",
   "execution_count": 6,
   "id": "96bcf7ce",
   "metadata": {},
   "outputs": [],
   "source": [
    "import numpy as np\n",
    "import matplotlib.pyplot as plt\n",
    "from scipy.special import comb, binom\n",
    "from scipy.stats import multinomial"
   ]
  },
  {
   "cell_type": "code",
   "execution_count": 7,
   "id": "72a7039b",
   "metadata": {},
   "outputs": [],
   "source": [
    "def CombsProbs( n , m , p , q, N ):\n",
    "    r  = binom( m[1] + m[2] , m[1] )*np.power(p[1], m[1])*np.power(p[2],m[2])\n",
    "    r *= binom( N - m[0] , m[1] + m[2])*np.power(p[3], N - m[0] - m[1] - m[2] )\n",
    "    \n",
    "    r *= binom( n[1] + n[2] - m[1] - m[2], n[1] - m[1])*np.power(q[1], n[1] - m[1])*np.power(q[2], n[2] - m[2])\n",
    "    r *= binom( N + m[0] - n[0], n[1] + n[2] - m[1] - m[2])*np.power(q[3], N + m[0] + m[1] + m[2] - n[0] - n[1] - n[2])\n",
    "    return r\n",
    "\n",
    "def likelihood( n0, n1, n2 , theta = 0, N = 1 , box = \"A\"):\n",
    "\n",
    "    P = np.zeros( (len(n0), len(n1) , len(n2)) , dtype=\"float64\")\n",
    "    \n",
    "    c = np.cos(2*theta)\n",
    "    s = np.sin(2*theta)\n",
    "    \n",
    "    if box == \"C\":\n",
    "        p = [1/3, c**2/6, (1+s**2/3)/4, (1+s**2/3)/4]\n",
    "        for i in range(len(n0)):\n",
    "            C0 = np.power(p[0], n0[i])\n",
    "            for j in range(len(n1)):\n",
    "                C = C0*binom(n0[i] + n1[j] , n0[i]) *np.power( p[1] , n1[j])*np.power( p[2] , 2*N - n0[i] - n1[j])\n",
    "                for k in range(len(n2)):\n",
    "                    if n0[i] + n1[j] + n2[k] <= 2*N:\n",
    "                        P[i,j,k] += C*binom( n0[i] + n1[j] + n2[k], n2[k])*binom( 2*N , n0[i] + n1[j] + n2[k])\n",
    "                        \n",
    "    elif box == \"A\":\n",
    "        p = [2/3, c**2/3, s**2/6, s**2/6]\n",
    "        q = [0, 0, 1/2 , 1/2]\n",
    "        for i in range(len(n0)):\n",
    "            C = binom(N , n0[i])*np.power(p[0],n0[i])\n",
    "            for j in range(len(n1)):\n",
    "                for k in range(len(n2)):\n",
    "                    if n0[i] + n1[j] + n2[k] <= 2*N:\n",
    "                        n = [n0[i], n1[j], n2[k]]\n",
    "                        h2min = np.maximum(0 , n2[k] - N)\n",
    "                        h2max = np.minimum(n2[k], N - n0[i] - n1[j] )\n",
    "                        for h2 in range(h2min, h2max +1):\n",
    "                            m = [n0[i], n1[j], h2]\n",
    "                            P[i,j,k] += C*CombsProbs( n , m , p , q, N)\n",
    "    \n",
    "    elif box == \"B\":\n",
    "        p = [1/3, c**2/6, (s+np.sqrt(3))**2/12, (s-np.sqrt(3))**2/12]\n",
    "        q = [1/3, c**2/6, (s-np.sqrt(3))**2/12, (s+np.sqrt(3))**2/12]\n",
    "        for i in range(len(n0)):\n",
    "            C0 = np.power( p[0] , n0[i])\n",
    "            l0min = np.maximum( 0 , n0[i] - N )\n",
    "            l0max = np.minimum( n0[i] , N )\n",
    "            for l0 in range(l0min, l0max + 1):\n",
    "                C = C0*binom(N , l0)*binom( N , n0[i] - l0)\n",
    "                for j in range(len(n1)):\n",
    "                    l1min = np.maximum(0 , n1[j] - N)\n",
    "                    l1max = np.minimum(n1[j], N - l0 )\n",
    "                    for l1 in range(l1min, l1max +1):\n",
    "                        for k in range(len(n2)):\n",
    "                            if n0[i] + n1[j] + n2[k] <= 2*N:\n",
    "                                n = [n0[i], n1[j], n2[k]]\n",
    "                                l2min = np.maximum(0 , n2[k] - N)\n",
    "                                l2max = np.minimum(n2[k], N - l0 - l1 )\n",
    "                                for l2 in range(l2min, l2max +1):\n",
    "                                    m = [l0, l1, l2]\n",
    "                                    P[i,j,k] += C*CombsProbs( n , m , p , q, N)\n",
    "\n",
    "    return P\n",
    "\n",
    "\n",
    "def EEP( LHA, LHB, LHC ): # expected error probability\n",
    "    \n",
    "    # inferring events when the maximum likelihood is well defined\n",
    "    Ainfer_event = (LHA>LHB)*(LHA>LHC)\n",
    "    Binfer_event = (LHB>LHA)*(LHB>LHC)\n",
    "    Cinfer_event = (LHC>LHA)*(LHC>LHB)\n",
    "    \n",
    "    ABcoincidence = (LHA==LHB)*(LHA>LHC)\n",
    "    ACcoincidence = (LHA==LHC)*(LHA>LHB)\n",
    "    BCcoincidence = (LHB==LHC)*(LHB>LHA)\n",
    "    \n",
    "    ABCcoincidence = (LHA==LHB)*(LHA==LHC)\n",
    "    \n",
    "    # EXPECTED CONDITIONAL SUCCESS PROBABILITIES\n",
    "    ESPA = LHA[Ainfer_event].sum() # when the maximum likelihood is evidently A, infer A correctly\n",
    "    ESPA += LHA[ABcoincidence].sum()/2+LHA[ACcoincidence].sum()/2. # when two likelihoods are equal, throw a dice\n",
    "    ESPA += LHA[ABCcoincidence].sum()/3 # when the three likelihoods are equal, throw a three sided dice\n",
    "    \n",
    "    ESPB = LHB[Binfer_event].sum() # when the maximum likelihood is evidently B, infer B correctly\n",
    "    ESPB += LHB[ABcoincidence].sum()/2+LHB[BCcoincidence].sum()/2. # when two likelihoods are equal, throw a dice\n",
    "    ESPB += LHB[ABCcoincidence].sum()/3 # when the three likelihoods are equal, throw a three sided dice\n",
    "    \n",
    "    ESPC = LHC[Cinfer_event].sum() # when the maximum likelihood is evidently C, infer C correctly\n",
    "    ESPC += LHC[ACcoincidence].sum()/2+LHC[BCcoincidence].sum()/2. # when two likelihoods are equal, throw a dice\n",
    "    ESPC += LHC[ABCcoincidence].sum()/3 # when the three likelihoods are equal, throw a three sided dice\n",
    "    \n",
    "    EEP_dict = {\n",
    "        \"A\": 1 - ESPA,\n",
    "        \"B\": 1 - ESPB,\n",
    "        \"C\": 1 - ESPC,\n",
    "        \"Overall\": 1 - (ESPA+ESPB+ESPC)/3.\n",
    "    }\n",
    "    \n",
    "    return EEP_dict"
   ]
  },
  {
   "cell_type": "code",
   "execution_count": 8,
   "id": "a058817c",
   "metadata": {},
   "outputs": [],
   "source": [
    "# box and measurement parameters\n",
    "N = 25 # half number of photons per box\n",
    "n = np.arange(2*N+1)\n",
    "theta = 0*np.arcsin(1/np.sqrt(3))/2\n",
    "LHA = likelihood( n , n , n , theta , N , \"A\")\n",
    "LHB = likelihood( n , n , n , theta , N , \"B\")\n",
    "LHC = likelihood( n , n , n , theta , N , \"C\")\n",
    "\n",
    "np.save(\"TrineLikelihood_BoxA_theta{:.3f}_N{:d}\".format(theta, 2*N), LHA)\n",
    "np.save(\"TrineLikelihood_BoxB_theta{:.3f}_N{:d}\".format(theta, 2*N), LHB)\n",
    "np.save(\"TrineLikelihood_BoxC_theta{:.3f}_N{:d}\".format(theta, 2*N), LHC)"
   ]
  },
  {
   "cell_type": "code",
   "execution_count": 9,
   "id": "d2ccb88c",
   "metadata": {},
   "outputs": [
    {
     "name": "stdout",
     "output_type": "stream",
     "text": [
      "0.9999999999999987\n",
      "0.9999999999999962\n",
      "0.9999999999999984\n"
     ]
    }
   ],
   "source": [
    "print(LHA.sum())\n",
    "print(LHB.sum())\n",
    "print(LHC.sum())"
   ]
  },
  {
   "cell_type": "code",
   "execution_count": 21,
   "id": "bb63f921",
   "metadata": {},
   "outputs": [
    {
     "data": {
      "image/png": "[encoded data removed]",
      "text/plain": [
       "<Figure size 1000x400 with 3 Axes>"
      ]
     },
     "metadata": {},
     "output_type": "display_data"
    }
   ],
   "source": [
    "fig, ax = plt.subplots( 1 , 3 , figsize=(10,4) )\n",
    "ax[0].imshow(LHA.sum(axis=2))\n",
    "ax[1].imshow(LHB.sum(axis=2))\n",
    "ax[2].imshow(LHC.sum(axis=2))\n",
    "plt.show()"
   ]
  },
  {
   "cell_type": "code",
   "execution_count": 22,
   "id": "e7faafb5",
   "metadata": {},
   "outputs": [
    {
     "name": "stdout",
     "output_type": "stream",
     "text": [
      "16.666666666666647 16.666666666666604 16.66666666666664 16.666666666666668\n",
      "8.333333333333323 8.333333333333302 8.333333333333323 8.333333333333334\n",
      "12.499999999999984 12.499999999999952 12.49999999999998 12.5\n"
     ]
    }
   ],
   "source": [
    "N0, N1, N2 = np.meshgrid( n , n , n , indexing=\"ij\")\n",
    "print((N0*LHA).sum(),(N0*LHB).sum(),(N0*LHC).sum(), 2*N/3)\n",
    "print((N1*LHA).sum(),(N1*LHB).sum(),(N1*LHC).sum(), N*np.cos(2*theta)**2/3)\n",
    "print((N2*LHA).sum(),(N2*LHB).sum(),(N2*LHC).sum(), N*(3+np.sin(2*theta)**2)/6)"
   ]
  },
  {
   "cell_type": "code",
   "execution_count": 20,
   "id": "bbda1a98",
   "metadata": {},
   "outputs": [
    {
     "data": {
      "text/plain": [
       "{'A': 1.3322676295501878e-15,\n",
       " 'B': 0.9253726306208208,\n",
       " 'C': 0.1869025420383974,\n",
       " 'Overall': 0.3707583908864065}"
      ]
     },
     "execution_count": 20,
     "metadata": {},
     "output_type": "execute_result"
    }
   ],
   "source": [
    "EEP(LHA , LHB, LHC )"
   ]
  },
  {
   "cell_type": "markdown",
   "id": "d68b7f42",
   "metadata": {},
   "source": [
    "# For varying values of N"
   ]
  },
  {
   "cell_type": "code",
   "execution_count": 12,
   "id": "e6e46da4",
   "metadata": {},
   "outputs": [
    {
     "name": "stdout",
     "output_type": "stream",
     "text": [
      "1\n",
      "2\n",
      "3\n",
      "4\n",
      "5\n",
      "6\n",
      "7\n",
      "8\n",
      "9\n",
      "10\n",
      "11\n",
      "12\n",
      "13\n",
      "14\n",
      "15\n",
      "16\n",
      "17\n",
      "18\n",
      "19\n",
      "20\n",
      "21\n",
      "22\n",
      "23\n",
      "24\n",
      "25\n"
     ]
    }
   ],
   "source": [
    "theta = 0*np.arcsin(1/np.sqrt(3))/2\n",
    "N = np.arange(1,25+1)\n",
    "\n",
    "EEPs = np.zeros((len(N),4), dtype=\"object\")\n",
    "\n",
    "for j in range(len(N)):\n",
    "    print(N[j])\n",
    "    n = np.arange(2*N[j]+1)\n",
    "    LHA = np.round(likelihood( n , n , n , theta , N[j], \"A\"), 12)\n",
    "    LHB = np.round(likelihood( n , n , n , theta , N[j], \"B\"), 12)\n",
    "    LHC = np.round(likelihood( n , n , n , theta , N[j], \"C\"), 12)\n",
    "    \n",
    "    EEPs = np.array(list(EEP(LHA,LHB,LHC).values()))\n",
    "    np.save(\"3BPTrineMAPEEP_theta{:.3f}_N{:d}.npy\".format(theta, 2*N[j]), EEPs)\n",
    "    \n",
    "#np.save(\"3BPClarkeMAPEEP_Nmax{:d}.npy\".format(2*Nmax), EEPs)"
   ]
  },
  {
   "cell_type": "markdown",
   "id": "fd44e8f4",
   "metadata": {},
   "source": [
    "# For varying values of $\\theta$"
   ]
  },
  {
   "cell_type": "code",
   "execution_count": 11,
   "id": "0b0456ff",
   "metadata": {},
   "outputs": [
    {
     "name": "stdout",
     "output_type": "stream",
     "text": [
      "0.0\n",
      "0.06283185307179587\n",
      "0.12566370614359174\n",
      "0.1884955592153876\n",
      "0.25132741228718347\n",
      "0.3141592653589793\n",
      "0.3769911184307752\n",
      "0.4398229715025711\n",
      "0.5026548245743669\n",
      "0.5654866776461628\n",
      "0.6283185307179586\n",
      "0.6911503837897546\n",
      "0.7539822368615504\n",
      "0.8168140899333463\n",
      "0.8796459430051422\n",
      "0.942477796076938\n",
      "1.0053096491487339\n",
      "1.0681415022205298\n",
      "1.1309733552923256\n",
      "1.1938052083641215\n",
      "1.2566370614359172\n",
      "1.3194689145077132\n",
      "1.3823007675795091\n",
      "1.4451326206513049\n",
      "1.5079644737231008\n",
      "1.5707963267948968\n",
      "1.6336281798666925\n",
      "1.6964600329384885\n",
      "1.7592918860102844\n",
      "1.8221237390820801\n",
      "1.884955592153876\n",
      "1.9477874452256718\n",
      "2.0106192982974678\n",
      "2.0734511513692637\n",
      "2.1362830044410597\n",
      "2.199114857512855\n",
      "2.261946710584651\n",
      "2.324778563656447\n",
      "2.387610416728243\n",
      "2.450442269800039\n",
      "2.5132741228718345\n",
      "2.5761059759436304\n",
      "2.6389378290154264\n",
      "2.7017696820872223\n",
      "2.7646015351590183\n",
      "2.8274333882308142\n",
      "2.8902652413026098\n",
      "2.9530970943744057\n",
      "3.0159289474462017\n",
      "3.0787608005179976\n",
      "3.141592653589793\n"
     ]
    }
   ],
   "source": [
    "theta = np.linspace(0, np.pi, 51)\n",
    "N = 25\n",
    "n = np.arange(2*N+1)\n",
    "\n",
    "for j in range(len(theta)):\n",
    "    print(theta[j])\n",
    "    LHA = np.round(likelihood( n , n , n, theta[j] , N, \"A\"), 12)\n",
    "    LHB = np.round(likelihood( n , n , n, theta[j] , N, \"B\"), 12)\n",
    "    LHC = np.round(likelihood( n , n , n, theta[j] , N, \"C\"), 12)\n",
    "    \n",
    "    EEPs = np.array(list(EEP(LHA,LHB,LHC).values()))\n",
    "    np.save(\"3BPTrineMAPEEP_theta{:.3f}_N{:d}.npy\".format(theta[j], 2*N), EEPs)"
   ]
  },
  {
   "cell_type": "code",
   "execution_count": 33,
   "id": "2a425b85",
   "metadata": {},
   "outputs": [],
   "source": [
    "theta = np.linspace(0, np.pi, 51)\n",
    "EEPs = np.zeros((len(theta),4), dtype=\"object\")\n",
    "N = 25\n",
    "\n",
    "for j in range(len(theta)):\n",
    "    \n",
    "    EEPs[j] = np.load(\"3BPTrineMAPEEP_theta{:.3f}_N{:d}.npy\".format(theta[j], 2*N))"
   ]
  },
  {
   "cell_type": "code",
   "execution_count": 34,
   "id": "f57ce08d",
   "metadata": {},
   "outputs": [
    {
     "data": {
      "image/png": "[encoded data removed]",
      "text/plain": [
       "<Figure size 640x480 with 1 Axes>"
      ]
     },
     "metadata": {},
     "output_type": "display_data"
    }
   ],
   "source": [
    "plt.plot(theta, EEPs[:,0])\n",
    "plt.plot(theta, EEPs[:,1])\n",
    "plt.plot(theta, EEPs[:,2])\n",
    "plt.plot(theta, EEPs[:,3])\n",
    "plt.show()"
   ]
  },
  {
   "cell_type": "code",
   "execution_count": 5,
   "id": "36e3214e",
   "metadata": {},
   "outputs": [
    {
     "ename": "FileNotFoundError",
     "evalue": "[Errno 2] No such file or directory: 'TrineLikelihood_BoxA_theta0.000_N50'",
     "output_type": "error",
     "traceback": [
      "\u001b[1;31m---------------------------------------------------------------------------\u001b[0m",
      "\u001b[1;31mFileNotFoundError\u001b[0m                         Traceback (most recent call last)",
      "Cell \u001b[1;32mIn[5], line 1\u001b[0m\n\u001b[1;32m----> 1\u001b[0m LHA \u001b[38;5;241m=\u001b[39m \u001b[43mnp\u001b[49m\u001b[38;5;241;43m.\u001b[39;49m\u001b[43mload\u001b[49m\u001b[43m(\u001b[49m\u001b[38;5;124;43m\"\u001b[39;49m\u001b[38;5;124;43mTrineLikelihood_BoxA_theta\u001b[39;49m\u001b[38;5;132;43;01m{:.3f}\u001b[39;49;00m\u001b[38;5;124;43m_N\u001b[39;49m\u001b[38;5;132;43;01m{:d}\u001b[39;49;00m\u001b[38;5;124;43m\"\u001b[39;49m\u001b[38;5;241;43m.\u001b[39;49m\u001b[43mformat\u001b[49m\u001b[43m(\u001b[49m\u001b[38;5;241;43m0\u001b[39;49m\u001b[43m,\u001b[49m\u001b[43m \u001b[49m\u001b[38;5;241;43m50\u001b[39;49m\u001b[43m)\u001b[49m\u001b[43m)\u001b[49m\n",
      "File \u001b[1;32m~\\.conda\\envs\\research\\lib\\site-packages\\numpy\\lib\\npyio.py:405\u001b[0m, in \u001b[0;36mload\u001b[1;34m(file, mmap_mode, allow_pickle, fix_imports, encoding, max_header_size)\u001b[0m\n\u001b[0;32m    403\u001b[0m     own_fid \u001b[38;5;241m=\u001b[39m \u001b[38;5;28;01mFalse\u001b[39;00m\n\u001b[0;32m    404\u001b[0m \u001b[38;5;28;01melse\u001b[39;00m:\n\u001b[1;32m--> 405\u001b[0m     fid \u001b[38;5;241m=\u001b[39m stack\u001b[38;5;241m.\u001b[39menter_context(\u001b[38;5;28;43mopen\u001b[39;49m\u001b[43m(\u001b[49m\u001b[43mos_fspath\u001b[49m\u001b[43m(\u001b[49m\u001b[43mfile\u001b[49m\u001b[43m)\u001b[49m\u001b[43m,\u001b[49m\u001b[43m \u001b[49m\u001b[38;5;124;43m\"\u001b[39;49m\u001b[38;5;124;43mrb\u001b[39;49m\u001b[38;5;124;43m\"\u001b[39;49m\u001b[43m)\u001b[49m)\n\u001b[0;32m    406\u001b[0m     own_fid \u001b[38;5;241m=\u001b[39m \u001b[38;5;28;01mTrue\u001b[39;00m\n\u001b[0;32m    408\u001b[0m \u001b[38;5;66;03m# Code to distinguish from NumPy binary files and pickles.\u001b[39;00m\n",
      "\u001b[1;31mFileNotFoundError\u001b[0m: [Errno 2] No such file or directory: 'TrineLikelihood_BoxA_theta0.000_N50'"
     ]
    }
   ],
   "source": [
    "LHA = np.load(\"TrineLikelihood_BoxA_theta{:.3f}_N{:d}\".format(0, 50))"
   ]
  },
  {
   "cell_type": "code",
   "execution_count": null,
   "id": "1143d0cf",
   "metadata": {},
   "outputs": [],
   "source": [
    "LHA"
   ]
  }
 ],
 "metadata": {
  "kernelspec": {
   "display_name": "Python 3 (ipykernel)",
   "language": "python",
   "name": "python3"
  },
  "language_info": {
   "codemirror_mode": {
    "name": "ipython",
    "version": 3
   },
   "file_extension": ".py",
   "mimetype": "text/x-python",
   "name": "python",
   "nbconvert_exporter": "python",
   "pygments_lexer": "ipython3",
   "version": "3.10.10"
  }
 },
 "nbformat": 4,
 "nbformat_minor": 5
}
