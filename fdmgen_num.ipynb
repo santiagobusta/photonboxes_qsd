{
 "cells": [
  {
   "cell_type": "markdown",
   "id": "491107cd",
   "metadata": {},
   "source": [
    "# Numerical generator of the full density matrices\n",
    "\n",
    "## Context\n",
    "\n",
    "In this notebook the full density matrices for the three-box problem are numerically computed using the *itertools.combinations* function based on the formula\n",
    "\n",
    "$$\n",
    "\\rho_A = \\frac{1}{\\binom{2N}{N}} \\sum_{\\tau \\in J_N}  | \\Psi_A^\\tau \\rangle \\langle \\Psi_A^\\tau | ,\n",
    "$$\n",
    "\n",
    "where $J_N$ is the set of all $N$-combinations of $J=\\{1,\\dots,2N\\}$ and $\\Psi_A^\\tau$ is the state for which photons with index $j\\in \\tau$ are in state $H$ and the rest in state $V$. The full density matrix $\\rho_B$ is similarly defined, and $\\rho_C$ is given by\n",
    "\n",
    "$$\n",
    "\\rho_C = \\underbrace{\\left(\\frac{1}{2} \\mathrm{I}\\right) \\otimes \\dots \\otimes \\left(\\frac{1}{2} \\mathrm{I}\\right)}_{2N\\text{ times}} = \\frac{1}{2^{2N}} \\mathrm{I}^{\\otimes 2N},\n",
    "$$\n",
    "\n",
    "where $\\mathrm I$ is the identity operator in the single-photon polarization state space $\\mathbb C ^2$.\n",
    "\n",
    "## Outputs\n",
    "\n",
    "- Numerically computed full density matrices of boxes A, B and C"
   ]
  },
  {
   "cell_type": "code",
   "execution_count": null,
   "id": "89c70703",
   "metadata": {},
   "outputs": [],
   "source": [
    "import numpy as np\n",
    "from scipy.special import comb\n",
    "from itertools import combinations"
   ]
  },
  {
   "cell_type": "code",
   "execution_count": 1,
   "id": "c7eb027c",
   "metadata": {},
   "outputs": [
    {
     "ename": "NameError",
     "evalue": "name 'comb' is not defined",
     "output_type": "error",
     "traceback": [
      "\u001b[0;31m---------------------------------------------------------------------------\u001b[0m",
      "\u001b[0;31mNameError\u001b[0m                                 Traceback (most recent call last)",
      "Cell \u001b[0;32mIn[1], line 6\u001b[0m\n\u001b[1;32m      4\u001b[0m N \u001b[38;5;241m=\u001b[39m \u001b[38;5;241m2\u001b[39m\u001b[38;5;241m*\u001b[39mn \u001b[38;5;66;03m# total number of photons\u001b[39;00m\n\u001b[1;32m      5\u001b[0m d \u001b[38;5;241m=\u001b[39m \u001b[38;5;241m2\u001b[39m\u001b[38;5;241m*\u001b[39m\u001b[38;5;241m*\u001b[39mN \u001b[38;5;66;03m# hilbert space dimension\u001b[39;00m\n\u001b[0;32m----> 6\u001b[0m C \u001b[38;5;241m=\u001b[39m \u001b[43mcomb\u001b[49m(N,n) \u001b[38;5;66;03m# number of photon combinations\u001b[39;00m\n\u001b[1;32m      7\u001b[0m S \u001b[38;5;241m=\u001b[39m [\u001b[38;5;124m\"\u001b[39m\u001b[38;5;124mV\u001b[39m\u001b[38;5;124m\"\u001b[39m]\u001b[38;5;241m*\u001b[39m\u001b[38;5;241m2\u001b[39m\u001b[38;5;241m*\u001b[39mn\n",
      "\u001b[0;31mNameError\u001b[0m: name 'comb' is not defined"
     ]
    }
   ],
   "source": [
    "# simulation parameters\n",
    "\n",
    "n = 7 # half-number of photons\n",
    "N = 2*n # total number of photons\n",
    "d = 2**N # hilbert space dimension\n",
    "C = comb(N,n) # number of photon combinations\n",
    "S = [\"V\"]*2*n"
   ]
  },
  {
   "cell_type": "code",
   "execution_count": null,
   "id": "eba9a09c",
   "metadata": {},
   "outputs": [],
   "source": [
    "# computing all photon combinations\n",
    "\n",
    "comb_list = [] # list of all photon combinations\n",
    "\n",
    "for c in combinations(np.arange(N),n):\n",
    "    s = np.copy(S)\n",
    "    for i in c: s[i] = 'H'\n",
    "    comb_list.append(s)\n",
    "    \n",
    "print(comb_list[1]) # instance"
   ]
  },
  {
   "cell_type": "code",
   "execution_count": null,
   "id": "3aa1f710",
   "metadata": {},
   "outputs": [],
   "source": [
    "# defining photon state vectors\n",
    "\n",
    "H = np.array([1,0]); V = np.array([0,1]) # HV states\n",
    "L = np.array([1,1j])/np.sqrt(2); R = np.array([1,-1j])/np.sqrt(2) # LR states\n",
    "\n",
    "get_vecA = {\"H\" : H, \"V\" : V}\n",
    "get_vecB = {\"H\" : L, \"V\" : R}"
   ]
  },
  {
   "cell_type": "code",
   "execution_count": null,
   "id": "91b7705a",
   "metadata": {},
   "outputs": [],
   "source": [
    "# building the full density matrices\n",
    "\n",
    "rhoA = 0\n",
    "rhoB = 0\n",
    "\n",
    "for c in comb_list:\n",
    "    # print(*c) # uncomment to see all combinations\n",
    "    vec = 1\n",
    "    \n",
    "    [vec := np.outer(vec,get_vecA[l]).flatten() for l in c]\n",
    "    rhoA += np.outer(vec,np.conjugate(vec))\n",
    "    \n",
    "    vec = 1\n",
    "    \n",
    "    [vec := np.outer(vec,get_vecB[l]).flatten() for l in c]\n",
    "    rhoB += np.outer(vec,np.conjugate(vec))\n",
    "    \n",
    "rhoA = rhoA/C\n",
    "rhoB = rhoB/C\n",
    "\n",
    "rhoC = np.eye(d)/d # maximum entropy density matrix"
   ]
  },
  {
   "cell_type": "code",
   "execution_count": null,
   "id": "07dde188",
   "metadata": {},
   "outputs": [],
   "source": [
    "# save the matrices\n",
    "\n",
    "np.save(\"full_density_matrices//rhoA_N{:d}_num.npy\".format(N),rhoA)\n",
    "np.save(\"full_density_matrices//rhoB_N{:d}_num.npy\".format(N),rhoB)\n",
    "np.save(\"full_density_matrices//rhoC_N{:d}_num.npy\".format(N),rhoC)"
   ]
  }
 ],
 "metadata": {
  "kernelspec": {
   "display_name": "Python 3 (ipykernel)",
   "language": "python",
   "name": "python3"
  },
  "language_info": {
   "codemirror_mode": {
    "name": "ipython",
    "version": 3
   },
   "file_extension": ".py",
   "mimetype": "text/x-python",
   "name": "python",
   "nbconvert_exporter": "python",
   "pygments_lexer": "ipython3",
   "version": "3.9.5"
  }
 },
 "nbformat": 4,
 "nbformat_minor": 5
}
