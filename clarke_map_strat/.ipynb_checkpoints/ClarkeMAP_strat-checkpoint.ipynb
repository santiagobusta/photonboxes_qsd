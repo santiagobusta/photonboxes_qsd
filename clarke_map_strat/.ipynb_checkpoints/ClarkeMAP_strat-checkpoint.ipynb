{
 "cells": [
  {
   "cell_type": "markdown",
   "id": "cf2197da",
   "metadata": {},
   "source": [
    "# Expected error probabilities of Clarke maximum a posteriori strategies"
   ]
  },
  {
   "cell_type": "code",
   "execution_count": 1,
   "id": "96bcf7ce",
   "metadata": {},
   "outputs": [],
   "source": [
    "import numpy as np\n",
    "import matplotlib.pyplot as plt\n",
    "from scipy.special import comb, binom\n",
    "from scipy.stats import multinomial"
   ]
  },
  {
   "cell_type": "code",
   "execution_count": 2,
   "id": "5f6cd52a",
   "metadata": {},
   "outputs": [],
   "source": [
    "# box and measurement parameters\n",
    "N = 1 # half number of photons per box\n",
    "n = np.arange(2*N+1)"
   ]
  },
  {
   "cell_type": "code",
   "execution_count": 3,
   "id": "72a7039b",
   "metadata": {},
   "outputs": [],
   "source": [
    "def multinomial(lst):\n",
    "    res, i = 1, sum(lst)\n",
    "    i0 = lst.index(max(lst))\n",
    "    for a in lst[:i0] + lst[i0+1:]:\n",
    "        for j in range(1,a+1):\n",
    "            res *= i\n",
    "            res //= j\n",
    "            i -= 1\n",
    "    return res\n",
    "\n",
    "def likelihood( n1, n2 , N = 1 , box = \"A\"):\n",
    "\n",
    "    P = np.zeros( (len(n1) , len(n2)) , dtype=\"float64\")\n",
    "    \n",
    "    if box == \"C\":\n",
    "        for j in range(len(n1)):\n",
    "            C = np.power( np.sqrt(2) - 1 , n1[j])*np.power( 0.5*(2 - np.sqrt(2)) , 2*N - n1[j])\n",
    "            for k in range(len(n2)):\n",
    "                if n1[j] + n2[k] <= 2*N:\n",
    "                    P[j,k] += C*binom( n1[j] + n2[k], n1[j])*binom( 2*N , 2*N - n1[j] - n2[k])\n",
    "    else:\n",
    "        \n",
    "        p0 = 1/np.sqrt(2)  # P1|H , P1|L\n",
    "        p1 = 1 - p0 # P2|H , P3|L\n",
    "        \n",
    "        q1 = 0.5*(2 - np.sqrt(2)) # P2|V , P3|R\n",
    "        q2 = 2*q1 # P2|R , P3|V\n",
    "        q0 = 1 - q1 - q2 # P1|V , P1|R\n",
    "        \n",
    "        if box == \"A\":\n",
    "            for j in range(len(n1)):\n",
    "                for k in range(len(n2)):\n",
    "                    if n1[j] + n2[k] <= 2*N:\n",
    "                        nmin = np.maximum(0, n1[j]-N)\n",
    "                        nmax = np.minimum(n1[j], N)\n",
    "                        for n in range(nmin, nmax + 1):\n",
    "                            C = binom(N , n)*binom(2*N - n - n2[k], 2*N - n1[j] - n2[k])*binom(N, n2[k] + n - N)\n",
    "                            #C = binom(N , n)*binom(n1[j] + n2[k] - N , n1[j] - n)*binom(N, 2*N - n1[j] - n2[k])\n",
    "                            C *= np.power(p0 , n)*np.power(p1 , N-n)\n",
    "                            P[j, k] += C*np.power(q0 , n1[j] - n)*np.power(q1, n2[k] + n - N)*np.power(q2, 2*N - n1[j] - n2[k])##\n",
    "                    \n",
    "        if box == \"B\":\n",
    "            for j in range(len(n1)):\n",
    "                for k in range(len(n2)):\n",
    "                    if n1[j] + n2[k] <= 2*N:\n",
    "                        nmin = np.maximum(0, n1[j]-N)\n",
    "                        nmax = np.minimum(n1[j], N)\n",
    "                        for n in range(nmin, nmax + 1):\n",
    "                            C = binom(N , n)*binom(n1[j] + n2[k] - n, n2[k])*binom( N , N + n - n1[j] - n2[k] )\n",
    "                            C *= np.power(p0 , n)*np.power(p1 , N-n)\n",
    "                            P[j, k] += C*np.power(q0 , n1[j] - n)*np.power(q1, N + n - n1[j] - n2[k])*np.power(q2, n2[k]) ##\n",
    "    \n",
    "    return P\n",
    "\n",
    "def EEP( LHA, LHB, LHC ): # expected error probability\n",
    "    \n",
    "    # inferring events when the maximum likelihood is well defined\n",
    "    Ainfer_event = (LHA>LHB)*(LHA>LHC)\n",
    "    Binfer_event = (LHB>LHA)*(LHB>LHC)\n",
    "    Cinfer_event = (LHC>LHA)*(LHC>LHB)\n",
    "    \n",
    "    ABcoincidence = (LHA==LHB)*(LHA>LHC)\n",
    "    ACcoincidence = (LHA==LHC)*(LHA>LHB)\n",
    "    BCcoincidence = (LHB==LHC)*(LHB>LHA)\n",
    "    \n",
    "    ABCcoincidence = (LHA==LHB)*(LHA==LHC)\n",
    "    \n",
    "    # EXPECTED CONDITIONAL SUCCESS PROBABILITIES\n",
    "    ESPA = LHA[Ainfer_event].sum() # when the maximum likelihood is evidently A, infer A correctly\n",
    "    ESPA += LHA[ABcoincidence].sum()/2+LHA[ACcoincidence].sum()/2. # when two likelihoods are equal, throw a dice\n",
    "    ESPA += LHA[ABCcoincidence].sum()/3 # when the three likelihoods are equal, throw a three sided dice\n",
    "    \n",
    "    ESPB = LHB[Binfer_event].sum() # when the maximum likelihood is evidently B, infer B correctly\n",
    "    ESPB += LHB[ABcoincidence].sum()/2+LHB[BCcoincidence].sum()/2. # when two likelihoods are equal, throw a dice\n",
    "    ESPB += LHB[ABCcoincidence].sum()/3 # when the three likelihoods are equal, throw a three sided dice\n",
    "    \n",
    "    ESPC = LHC[Cinfer_event].sum() # when the maximum likelihood is evidently C, infer C correctly\n",
    "    ESPC += LHC[ACcoincidence].sum()/2+LHC[BCcoincidence].sum()/2. # when two likelihoods are equal, throw a dice\n",
    "    ESPC += LHC[ABCcoincidence].sum()/3 # when the three likelihoods are equal, throw a three sided dice\n",
    "    \n",
    "    EEP_dict = {\n",
    "        \"A\": 1 - ESPA,\n",
    "        \"B\": 1 - ESPB,\n",
    "        \"C\": 1 - ESPC,\n",
    "        \"Overall\": 1 - (ESPA+ESPB+ESPC)/3.\n",
    "    }\n",
    "    \n",
    "    return EEP_dict"
   ]
  },
  {
   "cell_type": "code",
   "execution_count": 4,
   "id": "a058817c",
   "metadata": {},
   "outputs": [],
   "source": [
    "LHA = likelihood( n , n , N, \"A\")\n",
    "LHB = likelihood( n , n , N, \"B\")\n",
    "LHC = likelihood( n , n , N, \"C\")\n",
    "\n",
    "np.save(\"ClarkeLikelihood_BoxA_N{:d}\".format(2*N), LHA)\n",
    "np.save(\"ClarkeLikelihood_BoxB_N{:d}\".format(2*N), LHB)\n",
    "np.save(\"ClarkeLikelihood_BoxC_N{:d}\".format(2*N), LHC)"
   ]
  },
  {
   "cell_type": "code",
   "execution_count": 5,
   "id": "83b21a68",
   "metadata": {},
   "outputs": [
    {
     "name": "stdout",
     "output_type": "stream",
     "text": [
      "0.8284271247461902 0.585786437626905\n",
      "0.8284271247461902 0.5857864376269049\n",
      "0.8284271247461903 0.5857864376269049\n"
     ]
    }
   ],
   "source": [
    "N1 , N2 = np.meshgrid( n ,  n )\n",
    "\n",
    "print( (N1.T*LHA).sum(), (N2.T*LHA).sum() )\n",
    "print( (N1.T*LHB).sum(), (N2.T*LHB).sum() )\n",
    "print( (N1.T*LHC).sum(), (N2.T*LHC).sum()  )"
   ]
  },
  {
   "cell_type": "code",
   "execution_count": 6,
   "id": "bb63f921",
   "metadata": {},
   "outputs": [
    {
     "data": {
      "text/plain": [
       "<matplotlib.image.AxesImage at 0x1433a023c70>"
      ]
     },
     "execution_count": 6,
     "metadata": {},
     "output_type": "execute_result"
    },
    {
     "data": {
      "image/png": "[encoded data removed]",
      "text/plain": [
       "<Figure size 1000x400 with 3 Axes>"
      ]
     },
     "metadata": {},
     "output_type": "display_data"
    }
   ],
   "source": [
    "fig, ax = plt.subplots( 1 , 3 , figsize=(10,4) )\n",
    "ax[0].imshow(LHA)\n",
    "ax[1].imshow(LHB)\n",
    "ax[2].imshow(LHC)"
   ]
  },
  {
   "cell_type": "code",
   "execution_count": 9,
   "id": "b775f213",
   "metadata": {},
   "outputs": [
    {
     "data": {
      "image/png": "[encoded data removed]",
      "text/plain": [
       "<Figure size 640x480 with 1 Axes>"
      ]
     },
     "metadata": {},
     "output_type": "display_data"
    }
   ],
   "source": [
    "#plt.plot(np.arange(2*N), LHA, color=\"C0\")\n",
    "#plt.plot(np.arange(2*N), LHB, color=\"C1\")\n",
    "plt.plot(n, LHC, color=\"C2\")\n",
    "plt.plot(25+n, LHA, color=\"C1\")\n",
    "plt.plot(-25+n, LHB, color=\"C0\")\n",
    "plt.show()"
   ]
  },
  {
   "cell_type": "markdown",
   "id": "d68b7f42",
   "metadata": {},
   "source": [
    "# For varying values of N"
   ]
  },
  {
   "cell_type": "code",
   "execution_count": 10,
   "id": "e6e46da4",
   "metadata": {},
   "outputs": [
    {
     "name": "stdout",
     "output_type": "stream",
     "text": [
      "0\n",
      "1\n",
      "2\n",
      "3\n",
      "4\n",
      "5\n",
      "6\n",
      "7\n",
      "8\n",
      "9\n",
      "10\n",
      "11\n",
      "12\n",
      "13\n",
      "14\n",
      "15\n",
      "16\n",
      "17\n",
      "18\n",
      "19\n",
      "20\n",
      "21\n",
      "22\n",
      "23\n",
      "24\n",
      "25\n",
      "26\n",
      "27\n",
      "28\n",
      "29\n",
      "30\n",
      "31\n",
      "32\n",
      "33\n",
      "34\n",
      "35\n",
      "36\n",
      "37\n",
      "38\n",
      "39\n",
      "40\n",
      "41\n",
      "42\n",
      "43\n",
      "44\n",
      "45\n",
      "46\n",
      "47\n",
      "48\n",
      "49\n",
      "50\n"
     ]
    }
   ],
   "source": [
    "N = np.arange(50+1)\n",
    "\n",
    "for j in range(len(N)):\n",
    "    print(N[j])\n",
    "    n = np.arange(2*N[j]+1)\n",
    "    LHA = np.round(likelihood( n , n , N[j], \"A\"), 12)\n",
    "    LHB = np.round(likelihood( n , n , N[j], \"B\"), 12)\n",
    "    LHC = np.round(likelihood( n , n , N[j], \"C\"), 12)\n",
    "    \n",
    "    EEPs = np.array(list(EEP(LHA,LHB,LHC).values()))\n",
    "    np.save(\"3BPClarkeMAPEEP_N{:d}.npy\".format(2*N[j]), EEPs)\n",
    "    \n",
    "#np.save(\"3BPClarkeMAPEEP_Nmax{:d}.npy\".format(2*Nmax), EEPs)"
   ]
  }
 ],
 "metadata": {
  "kernelspec": {
   "display_name": "Python 3 (ipykernel)",
   "language": "python",
   "name": "python3"
  },
  "language_info": {
   "codemirror_mode": {
    "name": "ipython",
    "version": 3
   },
   "file_extension": ".py",
   "mimetype": "text/x-python",
   "name": "python",
   "nbconvert_exporter": "python",
   "pygments_lexer": "ipython3",
   "version": "3.10.10"
  }
 },
 "nbformat": 4,
 "nbformat_minor": 5
}
