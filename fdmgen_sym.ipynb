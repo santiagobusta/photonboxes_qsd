{
 "cells": [
  {
   "cell_type": "markdown",
   "id": "491107cd",
   "metadata": {},
   "source": [
    "# Symbolic generator of the full density matrices\n",
    "\n",
    "## Context\n",
    "\n",
    "In this notebook the full density matrices for the three-box problem are symbolically computed using the *itertools.combinations* function based on the formula\n",
    "\n",
    "$$\n",
    "\\rho_A = \\frac{1}{\\binom{2N}{N}} \\sum_{\\tau \\in J_N}  | \\Psi_A^\\tau \\rangle \\langle \\Psi_A^\\tau | ,\n",
    "$$\n",
    "\n",
    "where $J_N$ is the set of all $N$-combinations of $J=\\{1,\\dots,2N\\}$ and $\\Psi_A^\\tau$ is the state for which photons with index $j\\in \\tau$ are in state $H$ and the rest in state $V$. The full density matrix $\\rho_B$ is similarly defined, and $\\rho_C$ is given by\n",
    "\n",
    "$$\n",
    "\\rho_C = \\underbrace{\\left(\\frac{1}{2} \\mathrm{I}\\right) \\otimes \\dots \\otimes \\left(\\frac{1}{2} \\mathrm{I}\\right)}_{2N\\text{ times}} = \\frac{1}{2^{2N}} \\mathrm{I}^{\\otimes 2N},\n",
    "$$\n",
    "\n",
    "where $\\mathrm I$ is the identity operator in the single-photon polarization state space $\\mathbb C ^2$.\n",
    "\n",
    "## Outputs\n",
    "\n",
    "- Symbolically computed full density matrices of boxes A, B and C"
   ]
  },
  {
   "cell_type": "code",
   "execution_count": 1,
   "id": "89c70703",
   "metadata": {},
   "outputs": [],
   "source": [
    "import pickle\n",
    "from itertools import combinations\n",
    "from sympy.matrices import Matrix, eye\n",
    "from sympy import sqrt, I\n",
    "from sympy.physics.quantum import TensorProduct\n",
    "from sympy.functions.combinatorial.factorials import binomial"
   ]
  },
  {
   "cell_type": "code",
   "execution_count": 17,
   "id": "c7eb027c",
   "metadata": {},
   "outputs": [],
   "source": [
    "# simulation parameters\n",
    "\n",
    "n = 4 # half-number of photons\n",
    "N = 2*n # total number of photons\n",
    "d = 2**N # hilbert space dimension\n",
    "C = binomial(N,n) # number of photon combinations\n",
    "S = [\"V\"]*2*n"
   ]
  },
  {
   "cell_type": "code",
   "execution_count": 18,
   "id": "eba9a09c",
   "metadata": {},
   "outputs": [
    {
     "name": "stdout",
     "output_type": "stream",
     "text": [
      "['H', 'H', 'H', 'V', 'H', 'V', 'V', 'V']\n"
     ]
    }
   ],
   "source": [
    "# computing all photon combinations\n",
    "\n",
    "comb_list = [] # list of all photon combinations\n",
    "\n",
    "for c in combinations(range(N),n):\n",
    "    s = S.copy()\n",
    "    for i in c: s[i] = 'H'\n",
    "    comb_list.append(s)\n",
    "    \n",
    "print(comb_list[1]) # instance"
   ]
  },
  {
   "cell_type": "code",
   "execution_count": 19,
   "id": "3aa1f710",
   "metadata": {},
   "outputs": [],
   "source": [
    "# defining photon state vectors\n",
    "\n",
    "H = Matrix([1,0]); V = Matrix([0,1]) # HV states\n",
    "L = Matrix([1,I])/sqrt(2); R = Matrix([1,-I])/sqrt(2) # LR states\n",
    "\n",
    "get_vecA = {\"H\" : H, \"V\" : V}\n",
    "get_vecB = {\"H\" : L, \"V\" : R}"
   ]
  },
  {
   "cell_type": "code",
   "execution_count": 20,
   "id": "91b7705a",
   "metadata": {},
   "outputs": [],
   "source": [
    "# building the full density matrices\n",
    "\n",
    "rhoA = Matrix([[0]*d]*d)\n",
    "rhoB = Matrix([[0]*d]*d)\n",
    "\n",
    "for c in comb_list:\n",
    "    # print(*c) # uncomment to see all combinations\n",
    "    vec = get_vecA[c[0]]\n",
    "    \n",
    "    [vec := TensorProduct(vec, get_vecA[l]) for l in c[1:]]\n",
    "    rhoA += vec.multiply(vec.T.conjugate())\n",
    "    \n",
    "    vec = get_vecB[c[0]]\n",
    "    \n",
    "    [vec := TensorProduct(vec, get_vecB[l]) for l in c[1:]]\n",
    "    rhoB += vec.multiply(vec.T.conjugate())\n",
    "    \n",
    "rhoA = rhoA/C\n",
    "rhoB = rhoB/C\n",
    "\n",
    "rhoC = eye(d)/d # maximum entropy density matrix"
   ]
  },
  {
   "cell_type": "code",
   "execution_count": 21,
   "id": "07dde188",
   "metadata": {},
   "outputs": [],
   "source": [
    "# save the matrices in binary files\n",
    "\n",
    "with open(\"full_density_matrices/rhoA_N{:d}_sym.bin\".format(N), \"wb\") as outf:\n",
    "    pickle.dump(rhoA, outf)\n",
    "    \n",
    "with open(\"full_density_matrices/rhoB_N{:d}_sym.bin\".format(N), \"wb\") as outf:\n",
    "    pickle.dump(rhoB, outf)\n",
    "    \n",
    "with open(\"full_density_matrices/rhoC_N{:d}_sym.bin\".format(N), \"wb\") as outf:\n",
    "    pickle.dump(rhoC, outf)"
   ]
  }
 ],
 "metadata": {
  "kernelspec": {
   "display_name": "Python 3 (ipykernel)",
   "language": "python",
   "name": "python3"
  },
  "language_info": {
   "codemirror_mode": {
    "name": "ipython",
    "version": 3
   },
   "file_extension": ".py",
   "mimetype": "text/x-python",
   "name": "python",
   "nbconvert_exporter": "python",
   "pygments_lexer": "ipython3",
   "version": "3.10.10"
  }
 },
 "nbformat": 4,
 "nbformat_minor": 5
}
