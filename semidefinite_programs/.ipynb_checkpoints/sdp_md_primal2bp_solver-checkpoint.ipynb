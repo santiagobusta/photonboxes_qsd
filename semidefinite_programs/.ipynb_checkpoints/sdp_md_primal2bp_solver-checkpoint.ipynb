{
 "cells": [
  {
   "cell_type": "markdown",
   "id": "dbb2ed6d",
   "metadata": {},
   "source": [
    "# Numerical primal semidefinite program solver for the two-box problem\n",
    "\n",
    "## Context\n",
    "\n",
    "In this notebook the optimal expected correct-guessing probability $\\text{P}_\\text{corr}^*$ for MD of the 2BP is numerically computed by using the *picos* package to solve complex semidefinite program (SDP). Specifically, we solve the following (primal) SDP:\n",
    "\n",
    "$$\n",
    "\\begin{align}\n",
    "    \\text{P}_\\text{corr}^* = \\max_{M_A}\\quad & \\eta_B + \\text{Tr}(M_A(\\eta_A\\rho_A - \\eta_B\\rho_B))\\\\\n",
    "    \\text{subject to } \\quad & M_A \\succcurlyeq 0 \\\\\n",
    "    & \\mathrm{I} - M_A \\succcurlyeq 0\\\\\n",
    "\\end{align}\n",
    "$$\n",
    "\n",
    "## Outputs\n",
    "\n",
    "- Numerically computed minimum expected error probability"
   ]
  },
  {
   "cell_type": "code",
   "execution_count": 1,
   "id": "9b7188a2",
   "metadata": {},
   "outputs": [],
   "source": [
    "import numpy as np\n",
    "import picos"
   ]
  },
  {
   "cell_type": "code",
   "execution_count": 2,
   "id": "32e356f6",
   "metadata": {},
   "outputs": [],
   "source": [
    "# simulation parameters\n",
    "\n",
    "n = 3 # half-number of photons\n",
    "N = 2*n # total number of photons\n",
    "d = 2**N # hilbert space dimension\n",
    "etaA = 1/2. # prior probability of box A\n",
    "etaB = 1-etaA # prior probability of box B"
   ]
  },
  {
   "cell_type": "code",
   "execution_count": 3,
   "id": "9b72676c",
   "metadata": {},
   "outputs": [],
   "source": [
    "# load full density matrices\n",
    "\n",
    "rhoA = np.load(\"../full_density_matrices/rhoA_N{:d}_num.npy\".format(N))\n",
    "rhoB = np.load(\"../full_density_matrices/rhoB_N{:d}_num.npy\".format(N))"
   ]
  },
  {
   "cell_type": "markdown",
   "id": "f566e307",
   "metadata": {},
   "source": [
    "# Semidefinite Programming Solver"
   ]
  },
  {
   "cell_type": "code",
   "execution_count": 4,
   "id": "3ea8fdc3",
   "metadata": {},
   "outputs": [],
   "source": [
    "# set picos constants\n",
    "\n",
    "rA = picos.Constant(etaA*rhoA)\n",
    "rB = picos.Constant(etaB*rhoB)\n",
    "I = picos.Constant(np.eye(d))"
   ]
  },
  {
   "cell_type": "code",
   "execution_count": 5,
   "id": "17dce5b7",
   "metadata": {
    "scrolled": true
   },
   "outputs": [
    {
     "name": "stdout",
     "output_type": "stream",
     "text": [
      "Complex Semidefinite Program\n",
      "  maximize 0.5 + tr(MA·([64×64] - [64×64]))\n",
      "  over\n",
      "    64×64 hermitian variable MA\n",
      "  subject to\n",
      "    MA ≽ 0\n",
      "    [64×64] - MA ≽ 0\n"
     ]
    }
   ],
   "source": [
    "# sdp statement\n",
    "\n",
    "P = picos.Problem()\n",
    "MA = picos.HermitianVariable(\"MA\", rA.shape)\n",
    "P.set_objective(\"max\", etaB + picos.trace(MA*(rA-rB)))\n",
    "P.add_constraint(MA >> 0)\n",
    "P.add_constraint(I - MA >> 0)\n",
    "print(P)"
   ]
  },
  {
   "cell_type": "code",
   "execution_count": 6,
   "id": "291ac437",
   "metadata": {
    "scrolled": false
   },
   "outputs": [],
   "source": [
    "# solve\n",
    "\n",
    "P.solve(solver = \"cvxopt\")\n",
    "Perr = 1-P.value"
   ]
  },
  {
   "cell_type": "code",
   "execution_count": 7,
   "id": "89a991c3",
   "metadata": {},
   "outputs": [
    {
     "name": "stdout",
     "output_type": "stream",
     "text": [
      "\n",
      "Optimal expected failure probability: 0.14174682600311184\n"
     ]
    }
   ],
   "source": [
    "# print and save data\n",
    "\n",
    "print(\"\\nOptimal expected failure probability:\", Perr)\n",
    "#print(\"Optimal X:\", X.value, sep=\"\\n\")\n",
    "\n",
    "# save optimal error probability\n",
    "np.savetxt(\"data/perr_md_primal2bp_num_N{:d}.txt\".format(N), [Perr])\n",
    "\n",
    "# save optimal measurement\n",
    "    \n",
    "MAval = np.matrix(P.get_valued_variable(\"MA\"))\n",
    "MBval = np.matrix(I) - MAval\n",
    "\n",
    "np.save(\"data/MA_md_2bp_num_N{:d}.npy\".format(N), MAval)\n",
    "np.save(\"data/MB_md_2bp_num_N{:d}.npy\".format(N), MBval)"
   ]
  }
 ],
 "metadata": {
  "kernelspec": {
   "display_name": "Python 3 (ipykernel)",
   "language": "python",
   "name": "python3"
  },
  "language_info": {
   "codemirror_mode": {
    "name": "ipython",
    "version": 3
   },
   "file_extension": ".py",
   "mimetype": "text/x-python",
   "name": "python",
   "nbconvert_exporter": "python",
   "pygments_lexer": "ipython3",
   "version": "3.10.10"
  }
 },
 "nbformat": 4,
 "nbformat_minor": 5
}
