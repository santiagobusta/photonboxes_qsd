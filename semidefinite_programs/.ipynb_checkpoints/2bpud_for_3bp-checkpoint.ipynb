{
 "cells": [
  {
   "cell_type": "markdown",
   "id": "03662697",
   "metadata": {},
   "source": [
    "# Average error probability calculator for 2BP UD strategies applied to the 3BP\n",
    "\n",
    "## Context\n",
    "\n",
    "In this notebook the optimal expected error probability $\\text{P}_\\text{err}^*$ for 2BP UD strategies applied to the 3BP is numerically computed by simple matrix multiplication.\n",
    "\n",
    "## Outputs\n",
    "\n",
    "- Numerically computed minimum expected failure probability"
   ]
  },
  {
   "cell_type": "code",
   "execution_count": 1,
   "id": "9a9af7eb",
   "metadata": {},
   "outputs": [],
   "source": [
    "import numpy as np"
   ]
  },
  {
   "cell_type": "code",
   "execution_count": 14,
   "id": "3ebd22b6",
   "metadata": {},
   "outputs": [],
   "source": [
    "# simulation parameters\n",
    "\n",
    "n = 3 # half-number of photons\n",
    "N = 2*n # total number of photons\n",
    "d = 2**N # hilbert space dimension\n",
    "etaA = 1/3. # prior probability of box A\n",
    "etaB = 1/3. # prior probability of box B\n",
    "etaC = 1 - etaA - etaB # prior probability of box C\n",
    "unbiased = False # use unbiased strategies"
   ]
  },
  {
   "cell_type": "code",
   "execution_count": 15,
   "id": "d975fb0e",
   "metadata": {},
   "outputs": [],
   "source": [
    "# load full density matrices\n",
    "\n",
    "rhoA = np.load(\"../full_density_matrices/rhoA_N{:d}_num.npy\".format(N))\n",
    "rhoB = np.load(\"../full_density_matrices/rhoB_N{:d}_num.npy\".format(N))\n",
    "rhoC = np.load(\"../full_density_matrices/rhoC_N{:d}_num.npy\".format(N))\n",
    "\n",
    "# load optimal ud measurement for the 2bp\n",
    "\n",
    "fname_surfix = \"\"\n",
    "if unbiased:\n",
    "    fname_surfix += \"unb\"\n",
    "\n",
    "M0 = np.load(\"data/\"+fname_surfix+\"M0_ud_2bp_num_N{:d}.npy\".format(N))\n",
    "MA = np.load(\"data/\"+fname_surfix+\"MA_ud_2bp_num_N{:d}.npy\".format(N))\n",
    "MB = np.load(\"data/\"+fname_surfix+\"MB_ud_2bp_num_N{:d}.npy\".format(N))"
   ]
  },
  {
   "cell_type": "code",
   "execution_count": 16,
   "id": "04456f40",
   "metadata": {},
   "outputs": [],
   "source": [
    "Perr = 1 - np.real(np.trace(etaA*rhoA@MA + etaB*rhoB@MB + etaC*rhoC@M0))"
   ]
  },
  {
   "cell_type": "code",
   "execution_count": 17,
   "id": "7f068e30",
   "metadata": {},
   "outputs": [
    {
     "name": "stdout",
     "output_type": "stream",
     "text": [
      "\n",
      "Optimal expected failure probability: 0.4895824759358607\n"
     ]
    }
   ],
   "source": [
    "# print and save data\n",
    "\n",
    "print(\"\\nOptimal expected failure probability:\", Perr)\n",
    "#print(\"Optimal X:\", X.value, sep=\"\\n\")\n",
    "\n",
    "# save error probability\n",
    "np.savetxt(\"data/perr_ud2bp_for_3bp_num_N{:d}.txt\".format(N), [Perr])"
   ]
  }
 ],
 "metadata": {
  "kernelspec": {
   "display_name": "Python 3 (ipykernel)",
   "language": "python",
   "name": "python3"
  },
  "language_info": {
   "codemirror_mode": {
    "name": "ipython",
    "version": 3
   },
   "file_extension": ".py",
   "mimetype": "text/x-python",
   "name": "python",
   "nbconvert_exporter": "python",
   "pygments_lexer": "ipython3",
   "version": "3.10.10"
  }
 },
 "nbformat": 4,
 "nbformat_minor": 5
}
