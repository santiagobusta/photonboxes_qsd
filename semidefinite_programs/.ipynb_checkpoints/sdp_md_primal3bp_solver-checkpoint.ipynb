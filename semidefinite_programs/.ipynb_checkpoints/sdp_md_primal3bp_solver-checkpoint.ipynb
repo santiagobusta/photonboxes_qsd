{
 "cells": [
  {
   "cell_type": "markdown",
   "id": "dbb2ed6d",
   "metadata": {},
   "source": [
    "# Numerical primal semidefinite program solver for the three-box problem\n",
    "\n",
    "## Context\n",
    "\n",
    "In this notebook the optimal expected correct-guessing probability $\\text{P}_\\text{corr}^*$ for MD of the 3BP is numerically computed by using the *picos* package to solve complex semidefinite program (SDP). Specifically, we solve the following (primal) SDP:\n",
    "\n",
    "$$\n",
    "\\begin{align}\n",
    "    \\text{P}_\\text{corr}^* = \\max_{M_A,M_B}\\quad & \\eta_C + \\text{Tr}[M_A(\\eta_A\\rho_A - \\eta_C\\rho_C)] + \\text{Tr}[M_B(\\eta_B\\rho_B - \\eta_C\\rho_C)] & &\\\\\n",
    "    \\text{subject to } \\quad & M_j \\succcurlyeq 0 & j=A,B \\\\\n",
    "    & \\mathrm{I} - M_A - M_B \\succcurlyeq 0 \\\\\n",
    "\\end{align}\n",
    "$$\n",
    "\n",
    "When *unambiguous=True* the following constraints are added:\n",
    "\n",
    "$$\n",
    "M_A\\rho_B = 0 \\\\\n",
    "M_B\\rho_A = 0\n",
    "$$\n",
    "\n",
    "## Outputs\n",
    "\n",
    "- Numerically computed minimum expected error probability"
   ]
  },
  {
   "cell_type": "code",
   "execution_count": 1,
   "id": "9b7188a2",
   "metadata": {},
   "outputs": [],
   "source": [
    "import numpy as np\n",
    "import picos"
   ]
  },
  {
   "cell_type": "code",
   "execution_count": 6,
   "id": "32e356f6",
   "metadata": {},
   "outputs": [],
   "source": [
    "# simulation parameters\n",
    "\n",
    "n = 3 # half-number of photons\n",
    "N = 2*n # total number of photons\n",
    "d = 2**N # hilbert space dimension\n",
    "etaA = 1/3. # prior probability of box A\n",
    "etaB = 1/3. # prior probability of box B\n",
    "etaC = 1-etaA-etaB # prior probability of box C\n",
    "unambiguous = True # look for unambiguous solutions"
   ]
  },
  {
   "cell_type": "code",
   "execution_count": 7,
   "id": "9b72676c",
   "metadata": {},
   "outputs": [],
   "source": [
    "# load full density matrices\n",
    "\n",
    "rhoA = np.load(\"../full_density_matrices/rhoA_N{:d}_num.npy\".format(N))\n",
    "rhoB = np.load(\"../full_density_matrices/rhoB_N{:d}_num.npy\".format(N))\n",
    "rhoC = np.load(\"../full_density_matrices/rhoC_N{:d}_num.npy\".format(N))"
   ]
  },
  {
   "cell_type": "markdown",
   "id": "f566e307",
   "metadata": {},
   "source": [
    "# Semidefinite Programming Solver"
   ]
  },
  {
   "cell_type": "code",
   "execution_count": 8,
   "id": "3ea8fdc3",
   "metadata": {},
   "outputs": [],
   "source": [
    "# set picos constants\n",
    "\n",
    "rA = picos.Constant(etaA*rhoA)\n",
    "rB = picos.Constant(etaB*rhoB)\n",
    "rC = picos.Constant(etaC*rhoC)\n",
    "I = picos.Constant(np.eye(d))"
   ]
  },
  {
   "cell_type": "code",
   "execution_count": 9,
   "id": "17dce5b7",
   "metadata": {
    "scrolled": true
   },
   "outputs": [
    {
     "name": "stdout",
     "output_type": "stream",
     "text": [
      "Complex Semidefinite Program\n",
      "  maximize 0.333333 + tr(MA·([64×64] - [64×64]) + MB·([64×64] - [64×64]))\n",
      "  over\n",
      "    64×64 hermitian variables MA, MB\n",
      "  subject to\n",
      "    MA ≽ 0\n",
      "    MB ≽ 0\n",
      "    [64×64] - MA - MB ≽ 0\n",
      "    MA·[64×64] = 0\n",
      "    MB·[64×64] = 0\n"
     ]
    }
   ],
   "source": [
    "# sdp statement\n",
    "\n",
    "P = picos.Problem()\n",
    "MA = picos.HermitianVariable(\"MA\", rA.shape)\n",
    "MB = picos.HermitianVariable(\"MB\", rA.shape)\n",
    "P.set_objective(\"max\", etaC + picos.trace(MA*(rA-rC) + MB*(rB-rC)))\n",
    "for M in [MA,MB]: P.add_constraint( M >> 0)\n",
    "P.add_constraint( I - MA - MB >> 0 )\n",
    "if unambiguous:\n",
    "    P.add_constraint( MA * rB == 0)\n",
    "    P.add_constraint( MB * rA == 0)\n",
    "print(P)"
   ]
  },
  {
   "cell_type": "code",
   "execution_count": 10,
   "id": "291ac437",
   "metadata": {
    "scrolled": false
   },
   "outputs": [],
   "source": [
    "# solve\n",
    "\n",
    "P.solve(solver = \"cvxopt\")\n",
    "Perr = 1-P.value"
   ]
  },
  {
   "cell_type": "code",
   "execution_count": 11,
   "id": "89a991c3",
   "metadata": {},
   "outputs": [
    {
     "name": "stdout",
     "output_type": "stream",
     "text": [
      "\n",
      "Optimal expected failure probability: 0.38888888902425567\n"
     ]
    }
   ],
   "source": [
    "# print and save data\n",
    "\n",
    "print(\"\\nOptimal expected failure probability:\", Perr)\n",
    "#print(\"Optimal X:\", X.value, sep=\"\\n\")\n",
    "\n",
    "fname_surfix = \"\"\n",
    "if unambiguous:\n",
    "    fname_surfix += \"unam\"\n",
    "\n",
    "# save optimal error probability\n",
    "np.savetxt(\"data/\"+fname_surfix+\"perr_md_primal3bp_num_N{:d}.txt\".format(N), [Perr])\n",
    "\n",
    "# save optimal measurement\n",
    "MAval = np.matrix(P.get_valued_variable(\"MA\"))\n",
    "MBval = np.matrix(P.get_valued_variable(\"MB\"))\n",
    "MCval = np.matrix(I) - MAval - MBval\n",
    "\n",
    "np.save(\"data/\"+fname_surfix+\"MA_md_3bp_num_N{:d}.npy\".format(N), MAval)\n",
    "np.save(\"data/\"+fname_surfix+\"MB_md_3bp_num_N{:d}.npy\".format(N), MBval)\n",
    "np.save(\"data/\"+fname_surfix+\"MC_md_3bp_num_N{:d}.npy\".format(N), MCval)"
   ]
  }
 ],
 "metadata": {
  "kernelspec": {
   "display_name": "Python 3 (ipykernel)",
   "language": "python",
   "name": "python3"
  },
  "language_info": {
   "codemirror_mode": {
    "name": "ipython",
    "version": 3
   },
   "file_extension": ".py",
   "mimetype": "text/x-python",
   "name": "python",
   "nbconvert_exporter": "python",
   "pygments_lexer": "ipython3",
   "version": "3.10.10"
  }
 },
 "nbformat": 4,
 "nbformat_minor": 5
}
