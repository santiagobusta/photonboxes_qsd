{
 "cells": [
  {
   "cell_type": "markdown",
   "id": "dbb2ed6d",
   "metadata": {},
   "source": [
    "# Numerical dual semidefinite program solver for the two-box problem\n",
    "\n",
    "## Context\n",
    "\n",
    "In this notebook the optimal expected correct-guessing probability $\\text{P}_\\text{corr}^*$ for UD of the 2BP is numerically computed by using the *picos* package to solve complex semidefinite program (SDP). Specifically, we solve the following (dual) SDP:\n",
    "\n",
    "$$\n",
    "\\begin{align}\n",
    "    \\text{P}_\\text{corr}^* = \\min_{X,Y_A ,Y_B}\\quad & \\text{Tr}(X)\\\\\n",
    "    \\text{subject to } \\quad & X \\succcurlyeq 0 \\\\\n",
    "    & X + Y_A\\eta_B \\rho_B \\succcurlyeq \\eta_A \\rho_A\\\\\n",
    "    & X + Y_B\\eta_A \\rho_A \\succcurlyeq \\eta_B \\rho_B\n",
    "\\end{align}\n",
    "$$\n",
    "\n",
    "## Outputs\n",
    "\n",
    "- Numerically computed minimum expected error probability"
   ]
  },
  {
   "cell_type": "code",
   "execution_count": 71,
   "id": "9b7188a2",
   "metadata": {},
   "outputs": [],
   "source": [
    "import numpy as np\n",
    "from scipy.special import comb, binom\n",
    "from itertools import combinations\n",
    "import picos"
   ]
  },
  {
   "cell_type": "code",
   "execution_count": 72,
   "id": "32e356f6",
   "metadata": {},
   "outputs": [],
   "source": [
    "# simulation parameters\n",
    "\n",
    "n = 2 # half-number of photons\n",
    "N = 2*n # total number of photons\n",
    "d = 2**N # hilbert space dimension\n",
    "etaA = 1/2. # prior probability of box A\n",
    "etaB = 1-etaA # prior probability of box B"
   ]
  },
  {
   "cell_type": "code",
   "execution_count": 73,
   "id": "9b72676c",
   "metadata": {},
   "outputs": [],
   "source": [
    "# load full density matrices\n",
    "\n",
    "rhoA = np.load(\"../full_density_matrices/rhoA_N{:d}_num.npy\".format(N))\n",
    "rhoB = np.load(\"../full_density_matrices/rhoB_N{:d}_num.npy\".format(N))"
   ]
  },
  {
   "cell_type": "markdown",
   "id": "f566e307",
   "metadata": {},
   "source": [
    "# Semidefinite Programming Solver"
   ]
  },
  {
   "cell_type": "code",
   "execution_count": 74,
   "id": "3ea8fdc3",
   "metadata": {},
   "outputs": [],
   "source": [
    "# set picos constants\n",
    "\n",
    "rA = picos.Constant(etaA*rhoA).hermitianized\n",
    "rB = picos.Constant(etaB*rhoB).hermitianized"
   ]
  },
  {
   "cell_type": "code",
   "execution_count": 77,
   "id": "17dce5b7",
   "metadata": {
    "scrolled": true
   },
   "outputs": [
    {
     "name": "stdout",
     "output_type": "stream",
     "text": [
      "Complex Semidefinite Program\n",
      "  minimize tr(X)\n",
      "  over\n",
      "    16×16 hermitian variables X, YA, YB\n",
      "  subject to\n",
      "    X ≽ 0\n",
      "    (X + YA·(([16×16] + [16×16]ᴴ)/2) - ([16×16] + [16×16]ᵀ)/2 + (X +\n",
      "      YA·(([16×16] + [16×16]ᴴ)/2) - ([16×16] + [16×16]ᵀ)/2)ᴴ)/2 ≽ 0\n",
      "    (X + YB·(([16×16] + [16×16]ᵀ)/2) - ([16×16] + [16×16]ᴴ)/2 + (X +\n",
      "      YB·(([16×16] + [16×16]ᵀ)/2) - ([16×16] + [16×16]ᴴ)/2)ᴴ)/2 ≽ 0\n"
     ]
    }
   ],
   "source": [
    "# sdp statement\n",
    "\n",
    "P = picos.Problem()\n",
    "X = picos.HermitianVariable(\"X\", rA.shape)\n",
    "YA = picos.HermitianVariable(\"YA\", rA.shape)\n",
    "YB = picos.HermitianVariable(\"YB\", rA.shape)\n",
    "P.set_objective(\"min\", picos.trace(X))\n",
    "P.add_constraint( X >> 0)\n",
    "P.add_constraint(( X + YA*rB - rA ).hermitianized >> 0)\n",
    "P.add_constraint(( X + YB*rA - rB ).hermitianized >> 0)\n",
    "print(P)"
   ]
  },
  {
   "cell_type": "code",
   "execution_count": 78,
   "id": "291ac437",
   "metadata": {
    "scrolled": false
   },
   "outputs": [],
   "source": [
    "# solve\n",
    "\n",
    "P.solve(solver = \"cvxopt\")\n",
    "Perr = 1-P.value"
   ]
  },
  {
   "cell_type": "code",
   "execution_count": 79,
   "id": "89a991c3",
   "metadata": {},
   "outputs": [
    {
     "name": "stdout",
     "output_type": "stream",
     "text": [
      "\n",
      "Optimal expected failure probability: 0.41666666699524724\n"
     ]
    }
   ],
   "source": [
    "# print and save data\n",
    "\n",
    "print(\"\\nOptimal expected failure probability:\", Perr)\n",
    "#print(\"Optimal X:\", X.value, sep=\"\\n\")\n",
    "\n",
    "np.savetxt(\"data/perr_ud_dual2bp_num_N{:d}.txt\".format(N), [Perr])"
   ]
  }
 ],
 "metadata": {
  "kernelspec": {
   "display_name": "Python 3 (ipykernel)",
   "language": "python",
   "name": "python3"
  },
  "language_info": {
   "codemirror_mode": {
    "name": "ipython",
    "version": 3
   },
   "file_extension": ".py",
   "mimetype": "text/x-python",
   "name": "python",
   "nbconvert_exporter": "python",
   "pygments_lexer": "ipython3",
   "version": "3.10.10"
  }
 },
 "nbformat": 4,
 "nbformat_minor": 5
}
