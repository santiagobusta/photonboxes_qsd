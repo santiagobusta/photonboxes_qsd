{
 "cells": [
  {
   "cell_type": "markdown",
   "id": "dbb2ed6d",
   "metadata": {},
   "source": [
    "# Numerical primal semidefinite program solver for the two-box problem\n",
    "\n",
    "## Context\n",
    "\n",
    "In this notebook the optimal expected correct-guessing probability $\\text{P}_\\text{corr}^*$ for UD of the 2BP is numerically computed by using the *picos* package to solve complex semidefinite program (SDP). Specifically, we solve the following (primal) SDP:\n",
    "\n",
    "$$\n",
    "\\begin{align}\n",
    "    \\text{P}_\\text{corr}^* = \\max_{M_0,M_A ,M_B}\\quad & \\eta_A\\text{Tr}(M_A\\rho_A) + \\eta_B\\text{Tr}(M_B\\rho_B) & &\\\\\n",
    "    \\text{subject to } \\quad & M_j \\succcurlyeq 0 & j=0,A,B \\\\\n",
    "    & M_0 + M_A + M_B = \\mathrm{I}\\\\\n",
    "    & M_A \\rho_B = 0 \\\\\n",
    "    & M_B \\rho_A = 0. \\\\\n",
    "\\end{align}\n",
    "$$\n",
    "\n",
    "When *unbiased=True*, another constraint is added, namely\n",
    "\n",
    "$$\n",
    "\\text{Tr}(M_0\\rho_A)=\\text{Tr}(M_0\\rho_B).\n",
    "$$\n",
    "\n",
    "## Outputs\n",
    "\n",
    "- Numerically computed minimum expected failure probability"
   ]
  },
  {
   "cell_type": "code",
   "execution_count": 1,
   "id": "9b7188a2",
   "metadata": {},
   "outputs": [],
   "source": [
    "import numpy as np\n",
    "import picos"
   ]
  },
  {
   "cell_type": "code",
   "execution_count": 2,
   "id": "32e356f6",
   "metadata": {},
   "outputs": [],
   "source": [
    "# simulation parameters\n",
    "\n",
    "n = 1 # half-number of photons\n",
    "N = 2*n # total number of photons\n",
    "d = 2**N # hilbert space dimension\n",
    "etaA = 1/2. # prior probability of box A\n",
    "etaB = 1 - etaA # prior probability of box B\n",
    "symmetric = False # look for symmetric strategies (assuming etaA = etaB)\n",
    "unbiased = False # look for unbiased strategies (assuming etaA = etaB)"
   ]
  },
  {
   "cell_type": "code",
   "execution_count": 3,
   "id": "9b72676c",
   "metadata": {},
   "outputs": [],
   "source": [
    "# load full density matrices\n",
    "\n",
    "rhoA = np.load(\"../full_density_matrices/rhoA_N{:d}_num.npy\".format(N))\n",
    "rhoB = np.load(\"../full_density_matrices/rhoB_N{:d}_num.npy\".format(N))"
   ]
  },
  {
   "cell_type": "markdown",
   "id": "f566e307",
   "metadata": {},
   "source": [
    "# Semidefinite Programming Solver"
   ]
  },
  {
   "cell_type": "code",
   "execution_count": 4,
   "id": "3ea8fdc3",
   "metadata": {},
   "outputs": [],
   "source": [
    "# set picos constants\n",
    "\n",
    "rA = picos.Constant(etaA*rhoA)\n",
    "rB = picos.Constant(etaB*rhoB)\n",
    "I = picos.Constant(np.eye(d))"
   ]
  },
  {
   "cell_type": "code",
   "execution_count": 5,
   "id": "17dce5b7",
   "metadata": {
    "scrolled": true
   },
   "outputs": [
    {
     "name": "stdout",
     "output_type": "stream",
     "text": [
      "Complex Semidefinite Program\n",
      "  maximize tr(MA·[4×4] + MB·[4×4])\n",
      "  over\n",
      "    4×4 hermitian variables M0, MA, MB\n",
      "  subject to\n",
      "    M0 ≽ 0\n",
      "    MA ≽ 0\n",
      "    MB ≽ 0\n",
      "    M0 + MA + MB = [4×4]\n",
      "    MA·[4×4] = 0\n",
      "    MB·[4×4] = 0\n"
     ]
    }
   ],
   "source": [
    "# sdp statement\n",
    "\n",
    "P = picos.Problem()\n",
    "M0 = picos.HermitianVariable(\"M0\", rA.shape)\n",
    "MA = picos.HermitianVariable(\"MA\", rA.shape)\n",
    "MB = picos.HermitianVariable(\"MB\", rA.shape)\n",
    "P.set_objective(\"max\", picos.trace(MA*rA + MB*rB))\n",
    "for M in [M0,MA,MB]: P.add_constraint( M >> 0)\n",
    "P.add_constraint(M0 + MA + MB == I)\n",
    "P.add_constraint(MA*rB == 0)\n",
    "P.add_constraint(MB*rA == 0)\n",
    "if unbiased: P.add_constraint(picos.trace(M0*(rA-rB)) == 0) # assuming etaA=etaB\n",
    "print(P)"
   ]
  },
  {
   "cell_type": "code",
   "execution_count": 6,
   "id": "291ac437",
   "metadata": {
    "scrolled": false
   },
   "outputs": [],
   "source": [
    "# solve\n",
    "\n",
    "P.solve(solver = \"cvxopt\")\n",
    "Perr = 1-P.value"
   ]
  },
  {
   "cell_type": "code",
   "execution_count": 7,
   "id": "89a991c3",
   "metadata": {},
   "outputs": [
    {
     "name": "stdout",
     "output_type": "stream",
     "text": [
      "\n",
      "Optimal expected failure probability: 0.4999999999954783\n"
     ]
    }
   ],
   "source": [
    "# print and save data\n",
    "\n",
    "print(\"\\nOptimal expected failure probability:\", Perr)\n",
    "#print(\"Optimal X:\", X.value, sep=\"\\n\")\n",
    "\n",
    "# save optimal error probability\n",
    "np.savetxt(\"data/perr_ud_primal2bp_num_N{:d}.txt\".format(N), [Perr])\n",
    "\n",
    "# save optimal measurement\n",
    "fname_surfix = \"\"\n",
    "if unbiased:\n",
    "    fname_surfix += \"unb\"\n",
    "\n",
    "np.save(\"data/\"+fname_surfix+\"M0_ud_2bp_num_N{:d}.npy\".format(N), np.matrix(P.get_valued_variable(\"M0\")))\n",
    "np.save(\"data/\"+fname_surfix+\"MA_ud_2bp_num_N{:d}.npy\".format(N),np.matrix(P.get_valued_variable(\"MA\")))\n",
    "np.save(\"data/\"+fname_surfix+\"MB_ud_2bp_num_N{:d}.npy\".format(N),np.matrix(P.get_valued_variable(\"MB\")))"
   ]
  }
 ],
 "metadata": {
  "kernelspec": {
   "display_name": "Python 3 (ipykernel)",
   "language": "python",
   "name": "python3"
  },
  "language_info": {
   "codemirror_mode": {
    "name": "ipython",
    "version": 3
   },
   "file_extension": ".py",
   "mimetype": "text/x-python",
   "name": "python",
   "nbconvert_exporter": "python",
   "pygments_lexer": "ipython3",
   "version": "3.10.10"
  }
 },
 "nbformat": 4,
 "nbformat_minor": 5
}
