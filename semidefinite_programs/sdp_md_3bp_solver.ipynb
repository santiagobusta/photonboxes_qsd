{
 "cells": [
  {
   "cell_type": "markdown",
   "id": "dbb2ed6d",
   "metadata": {},
   "source": [
    "# Numerical semidefinite program solver for the three-box problem\n",
    "\n",
    "## Context\n",
    "\n",
    "In this notebook the optimal expected correct-guessing probability $\\text{P}_\\text{corr}^*$ is numerically computed by using the *picos* package to solve complex semidefinite program (SDP). Specifically, we solve the following SDP:\n",
    "\n",
    "$$\n",
    "\\begin{align}\n",
    "    \\text{P}_\\text{corr}^* = \\min_X\\quad & \\text{Tr}(X) & & \\\\\n",
    "    \\text{subject to } \\quad & X \\succcurlyeq \\eta_j \\rho_j & j&=A,B,C.\n",
    "\\end{align}\n",
    "$$\n",
    "\n",
    "## Outputs\n",
    "\n",
    "- Numerically computed minimum expected error probability"
   ]
  },
  {
   "cell_type": "code",
   "execution_count": 1,
   "id": "9b7188a2",
   "metadata": {},
   "outputs": [],
   "source": [
    "import numpy as np\n",
    "from scipy.special import comb, binom\n",
    "from itertools import combinations\n",
    "import picos"
   ]
  },
  {
   "cell_type": "code",
   "execution_count": 2,
   "id": "32e356f6",
   "metadata": {},
   "outputs": [],
   "source": [
    "# simulation parameters\n",
    "\n",
    "n = 4 # half-number of photons\n",
    "N = 2*n # total number of photons\n",
    "d = 2**N # hilbert space dimension\n",
    "etaA = 1/3. # prior probability of box A\n",
    "etaB = 1/3. # prior probability of box B\n",
    "etaC = 1-etaA-etaB # prior probability of box C"
   ]
  },
  {
   "cell_type": "code",
   "execution_count": 3,
   "id": "9b72676c",
   "metadata": {},
   "outputs": [],
   "source": [
    "# load full density matrices\n",
    "\n",
    "rhoA = np.load(\"../full_density_matrices/rhoA_N{:d}_num.npy\".format(N))\n",
    "rhoB = np.load(\"../full_density_matrices/rhoB_N{:d}_num.npy\".format(N))\n",
    "rhoC = np.load(\"../full_density_matrices/rhoC_N{:d}_num.npy\".format(N))"
   ]
  },
  {
   "cell_type": "markdown",
   "id": "f566e307",
   "metadata": {},
   "source": [
    "# Semidefinite Programming Solver"
   ]
  },
  {
   "cell_type": "code",
   "execution_count": 4,
   "id": "3ea8fdc3",
   "metadata": {},
   "outputs": [],
   "source": [
    "# set picos constants\n",
    "\n",
    "rA = picos.Constant(etaA*rhoA)\n",
    "rB = picos.Constant(etaB*rhoB)\n",
    "rC = picos.Constant(etaC*rhoC)"
   ]
  },
  {
   "cell_type": "code",
   "execution_count": 5,
   "id": "17dce5b7",
   "metadata": {
    "scrolled": true
   },
   "outputs": [
    {
     "name": "stdout",
     "output_type": "stream",
     "text": [
      "Complex Semidefinite Program\n",
      "  minimize tr(X)\n",
      "  over\n",
      "    256×256 hermitian variable X\n",
      "  subject to\n",
      "    X - [256×256] ≽ 0\n",
      "    X - [256×256] ≽ 0\n",
      "    X - [256×256] ≽ 0\n"
     ]
    }
   ],
   "source": [
    "# sdp statement\n",
    "\n",
    "P = picos.Problem()\n",
    "X = picos.HermitianVariable(\"X\", rA.shape)\n",
    "P.set_objective(\"min\", picos.trace(X))\n",
    "P.add_constraint( X - rA >> 0)\n",
    "P.add_constraint( X - rB >> 0)\n",
    "P.add_constraint( X - rC >> 0)\n",
    "\n",
    "print(P)"
   ]
  },
  {
   "cell_type": "code",
   "execution_count": 44,
   "id": "291ac437",
   "metadata": {
    "scrolled": false
   },
   "outputs": [
    {
     "ename": "OverflowError",
     "evalue": "number of elements exceeds INT_MAX",
     "output_type": "error",
     "traceback": [
      "\u001b[1;31m---------------------------------------------------------------------------\u001b[0m",
      "\u001b[1;31mOverflowError\u001b[0m                             Traceback (most recent call last)",
      "Cell \u001b[1;32mIn[44], line 3\u001b[0m\n\u001b[0;32m      1\u001b[0m \u001b[38;5;66;03m# solve\u001b[39;00m\n\u001b[1;32m----> 3\u001b[0m \u001b[43mP\u001b[49m\u001b[38;5;241;43m.\u001b[39;49m\u001b[43msolve\u001b[49m\u001b[43m(\u001b[49m\u001b[43msolver\u001b[49m\u001b[43m \u001b[49m\u001b[38;5;241;43m=\u001b[39;49m\u001b[43m \u001b[49m\u001b[38;5;124;43m\"\u001b[39;49m\u001b[38;5;124;43mcvxopt\u001b[39;49m\u001b[38;5;124;43m\"\u001b[39;49m\u001b[43m)\u001b[49m\n\u001b[0;32m      4\u001b[0m Perr \u001b[38;5;241m=\u001b[39m \u001b[38;5;241m1\u001b[39m\u001b[38;5;241m-\u001b[39mP\u001b[38;5;241m.\u001b[39mvalue\n",
      "File \u001b[1;32m~\\.conda\\envs\\research\\lib\\site-packages\\picos\\modeling\\problem.py:1804\u001b[0m, in \u001b[0;36mProblem.solve\u001b[1;34m(self, **extra_options)\u001b[0m\n\u001b[0;32m   1800\u001b[0m         \u001b[38;5;28mprint\u001b[39m(\u001b[38;5;124m\"\u001b[39m\u001b[38;5;124mReusing strategy:\u001b[39m\u001b[38;5;130;01m\\n\u001b[39;00m\u001b[38;5;124m  \u001b[39m\u001b[38;5;132;01m{}\u001b[39;00m\u001b[38;5;124m\"\u001b[39m\u001b[38;5;241m.\u001b[39mformat(\n\u001b[0;32m   1801\u001b[0m             \u001b[38;5;124m\"\u001b[39m\u001b[38;5;130;01m\\n\u001b[39;00m\u001b[38;5;124m  \u001b[39m\u001b[38;5;124m\"\u001b[39m\u001b[38;5;241m.\u001b[39mjoin(\u001b[38;5;28mstr\u001b[39m(\u001b[38;5;28mself\u001b[39m\u001b[38;5;241m.\u001b[39m_strategy)\u001b[38;5;241m.\u001b[39msplitlines())))\n\u001b[0;32m   1803\u001b[0m \u001b[38;5;66;03m# Execute the strategy to obtain one or more solutions.\u001b[39;00m\n\u001b[1;32m-> 1804\u001b[0m solutions \u001b[38;5;241m=\u001b[39m \u001b[38;5;28mself\u001b[39m\u001b[38;5;241m.\u001b[39m_strategy\u001b[38;5;241m.\u001b[39mexecute(\u001b[38;5;241m*\u001b[39m\u001b[38;5;241m*\u001b[39mextra_options)\n\u001b[0;32m   1806\u001b[0m \u001b[38;5;66;03m# Report how many solutions were obtained, select the first.\u001b[39;00m\n\u001b[0;32m   1807\u001b[0m \u001b[38;5;28;01mif\u001b[39;00m \u001b[38;5;28misinstance\u001b[39m(solutions, \u001b[38;5;28mlist\u001b[39m):\n",
      "File \u001b[1;32m~\\.conda\\envs\\research\\lib\\site-packages\\picos\\modeling\\strategy.py:148\u001b[0m, in \u001b[0;36mStrategy.execute\u001b[1;34m(self, **extra_options)\u001b[0m\n\u001b[0;32m    137\u001b[0m \u001b[38;5;250m\u001b[39m\u001b[38;5;124;03m\"\"\"Execute the solution strategy.\u001b[39;00m\n\u001b[0;32m    138\u001b[0m \n\u001b[0;32m    139\u001b[0m \u001b[38;5;124;03m:param extra_options:\u001b[39;00m\n\u001b[1;32m   (...)\u001b[0m\n\u001b[0;32m    144\u001b[0m \u001b[38;5;124;03m     :class:`~picos.modeling.Solution` to the problem.\u001b[39;00m\n\u001b[0;32m    145\u001b[0m \u001b[38;5;124;03m\"\"\"\u001b[39;00m\n\u001b[0;32m    146\u001b[0m \u001b[38;5;66;03m# Defer solving to the first reformulation, which is responsible for\u001b[39;00m\n\u001b[0;32m    147\u001b[0m \u001b[38;5;66;03m# applying the extra options (i.e. ExtraOptions).\u001b[39;00m\n\u001b[1;32m--> 148\u001b[0m solution \u001b[38;5;241m=\u001b[39m \u001b[38;5;28mself\u001b[39m\u001b[38;5;241m.\u001b[39mnodes[\u001b[38;5;241m1\u001b[39m]\u001b[38;5;241m.\u001b[39mexecute(\u001b[38;5;241m*\u001b[39m\u001b[38;5;241m*\u001b[39mextra_options)\n\u001b[0;32m    150\u001b[0m \u001b[38;5;66;03m# Attach the solution to the root problem. Note that reformulations are\u001b[39;00m\n\u001b[0;32m    151\u001b[0m \u001b[38;5;66;03m# allowed to already do this within their 'backward' method, but for\u001b[39;00m\n\u001b[0;32m    152\u001b[0m \u001b[38;5;66;03m# performance reasons it is best to do this just once, here.\u001b[39;00m\n\u001b[0;32m    153\u001b[0m \u001b[38;5;28;01mif\u001b[39;00m \u001b[38;5;28misinstance\u001b[39m(solution, \u001b[38;5;28mlist\u001b[39m):\n",
      "File \u001b[1;32m~\\.conda\\envs\\research\\lib\\site-packages\\picos\\reforms\\reform_options.py:106\u001b[0m, in \u001b[0;36mExtraOptions.execute\u001b[1;34m(self, **extra_options)\u001b[0m\n\u001b[0;32m    102\u001b[0m \u001b[38;5;28;01massert\u001b[39;00m \u001b[38;5;28mself\u001b[39m\u001b[38;5;241m.\u001b[39msuccessor, \\\n\u001b[0;32m    103\u001b[0m     \u001b[38;5;124m\"\u001b[39m\u001b[38;5;124mThe reformulation being executed has no successor.\u001b[39m\u001b[38;5;124m\"\u001b[39m\n\u001b[0;32m    105\u001b[0m \u001b[38;5;66;03m# Advance one step and return any solution as-is.\u001b[39;00m\n\u001b[1;32m--> 106\u001b[0m \u001b[38;5;28;01mreturn\u001b[39;00m \u001b[38;5;28;43mself\u001b[39;49m\u001b[38;5;241;43m.\u001b[39;49m\u001b[43msuccessor\u001b[49m\u001b[38;5;241;43m.\u001b[39;49m\u001b[43mexecute\u001b[49m\u001b[43m(\u001b[49m\u001b[43m)\u001b[49m\n",
      "File \u001b[1;32m~\\.conda\\envs\\research\\lib\\site-packages\\picos\\reforms\\reformulation.py:229\u001b[0m, in \u001b[0;36mReformulation.execute\u001b[1;34m(self)\u001b[0m\n\u001b[0;32m    226\u001b[0m \u001b[38;5;28mself\u001b[39m\u001b[38;5;241m.\u001b[39m_verify_prediction()\n\u001b[0;32m    228\u001b[0m \u001b[38;5;66;03m# Advance one step.\u001b[39;00m\n\u001b[1;32m--> 229\u001b[0m outputSolution \u001b[38;5;241m=\u001b[39m \u001b[38;5;28;43mself\u001b[39;49m\u001b[38;5;241;43m.\u001b[39;49m\u001b[43msuccessor\u001b[49m\u001b[38;5;241;43m.\u001b[39;49m\u001b[43mexecute\u001b[49m\u001b[43m(\u001b[49m\u001b[43m)\u001b[49m\n\u001b[0;32m    231\u001b[0m \u001b[38;5;66;03m# Transform the solution of the output problem for the input problem.\u001b[39;00m\n\u001b[0;32m    232\u001b[0m \u001b[38;5;28;01mif\u001b[39;00m \u001b[38;5;28misinstance\u001b[39m(outputSolution, Solution):\n",
      "File \u001b[1;32m~\\.conda\\envs\\research\\lib\\site-packages\\picos\\solvers\\solver.py:712\u001b[0m, in \u001b[0;36mSolver.execute\u001b[1;34m(self)\u001b[0m\n\u001b[0;32m    708\u001b[0m \u001b[38;5;28mself\u001b[39m\u001b[38;5;241m.\u001b[39m_reset_stopwatch()\n\u001b[0;32m    710\u001b[0m \u001b[38;5;28mself\u001b[39m\u001b[38;5;241m.\u001b[39m_verbose(\u001b[38;5;124m\"\u001b[39m\u001b[38;5;124mStarting solution search.\u001b[39m\u001b[38;5;124m\"\u001b[39m)\n\u001b[1;32m--> 712\u001b[0m solution \u001b[38;5;241m=\u001b[39m \u001b[38;5;28;43mself\u001b[39;49m\u001b[38;5;241;43m.\u001b[39;49m\u001b[43m_solve\u001b[49m\u001b[43m(\u001b[49m\u001b[43m)\u001b[49m\n\u001b[0;32m    714\u001b[0m \u001b[38;5;28;01mif\u001b[39;00m \u001b[38;5;28misinstance\u001b[39m(solution, \u001b[38;5;28mlist\u001b[39m):\n\u001b[0;32m    715\u001b[0m     \u001b[38;5;28;01massert\u001b[39;00m \u001b[38;5;28mall\u001b[39m(\u001b[38;5;28misinstance\u001b[39m(s, Solution) \u001b[38;5;28;01mfor\u001b[39;00m s \u001b[38;5;129;01min\u001b[39;00m solution)\n",
      "File \u001b[1;32m~\\.conda\\envs\\research\\lib\\site-packages\\picos\\solvers\\solver_cvxopt.py:506\u001b[0m, in \u001b[0;36mCVXOPTSolver._solve\u001b[1;34m(self)\u001b[0m\n\u001b[0;32m    504\u001b[0m \u001b[38;5;28;01melse\u001b[39;00m:\n\u001b[0;32m    505\u001b[0m     \u001b[38;5;28;01mtry\u001b[39;00m:\n\u001b[1;32m--> 506\u001b[0m         result \u001b[38;5;241m=\u001b[39m cvxopt\u001b[38;5;241m.\u001b[39msolvers\u001b[38;5;241m.\u001b[39mconelp(\n\u001b[0;32m    507\u001b[0m             p[\u001b[38;5;124m\"\u001b[39m\u001b[38;5;124mc\u001b[39m\u001b[38;5;124m\"\u001b[39m], G, h, dims, A, b, \u001b[38;5;241m*\u001b[39m\u001b[38;5;241m*\u001b[39mkwargs)\n\u001b[0;32m    509\u001b[0m         \u001b[38;5;28;01mif\u001b[39;00m \u001b[38;5;129;01mnot\u001b[39;00m userKKT \u001b[38;5;129;01mand\u001b[39;00m result[\u001b[38;5;124m\"\u001b[39m\u001b[38;5;124mstatus\u001b[39m\u001b[38;5;124m\"\u001b[39m] \u001b[38;5;241m==\u001b[39m \u001b[38;5;124m\"\u001b[39m\u001b[38;5;124munknown\u001b[39m\u001b[38;5;124m\"\u001b[39m:\n\u001b[0;32m    510\u001b[0m             \u001b[38;5;28;01mraise\u001b[39;00m \u001b[38;5;167;01mValueError\u001b[39;00m(\u001b[38;5;124m\"\u001b[39m\u001b[38;5;124mThe first solution attempt with \u001b[39m\u001b[38;5;124m\"\u001b[39m\n\u001b[0;32m    511\u001b[0m                 \u001b[38;5;124m\"\u001b[39m\u001b[38;5;124mCHOL as a KKT solver returnd a solution with \u001b[39m\u001b[38;5;124m\"\u001b[39m\n\u001b[0;32m    512\u001b[0m                 \u001b[38;5;124m\"\u001b[39m\u001b[38;5;124munknown status. This exception triggers \u001b[39m\u001b[38;5;124m\"\u001b[39m\n\u001b[0;32m    513\u001b[0m                 \u001b[38;5;124m\"\u001b[39m\u001b[38;5;124manother solution attempt using LDL.\u001b[39m\u001b[38;5;124m\"\u001b[39m)\n",
      "File \u001b[1;32m~\\.conda\\envs\\research\\lib\\site-packages\\cvxopt\\coneprog.py:581\u001b[0m, in \u001b[0;36mconelp\u001b[1;34m(c, G, h, dims, A, b, primalstart, dualstart, kktsolver, xnewcopy, xdot, xaxpy, xscal, ynewcopy, ydot, yaxpy, yscal, **kwargs)\u001b[0m\n\u001b[0;32m    579\u001b[0m     factor \u001b[38;5;241m=\u001b[39m misc\u001b[38;5;241m.\u001b[39mkkt_qr(G, dims, A)\n\u001b[0;32m    580\u001b[0m \u001b[38;5;28;01melif\u001b[39;00m kktsolver \u001b[38;5;241m==\u001b[39m \u001b[38;5;124m'\u001b[39m\u001b[38;5;124mchol\u001b[39m\u001b[38;5;124m'\u001b[39m:\n\u001b[1;32m--> 581\u001b[0m     factor \u001b[38;5;241m=\u001b[39m \u001b[43mmisc\u001b[49m\u001b[38;5;241;43m.\u001b[39;49m\u001b[43mkkt_chol\u001b[49m\u001b[43m(\u001b[49m\u001b[43mG\u001b[49m\u001b[43m,\u001b[49m\u001b[43m \u001b[49m\u001b[43mdims\u001b[49m\u001b[43m,\u001b[49m\u001b[43m \u001b[49m\u001b[43mA\u001b[49m\u001b[43m)\u001b[49m\n\u001b[0;32m    582\u001b[0m \u001b[38;5;28;01melse\u001b[39;00m:\n\u001b[0;32m    583\u001b[0m     factor \u001b[38;5;241m=\u001b[39m misc\u001b[38;5;241m.\u001b[39mkkt_chol2(G, dims, A)\n",
      "File \u001b[1;32m~\\.conda\\envs\\research\\lib\\site-packages\\cvxopt\\misc.py:1252\u001b[0m, in \u001b[0;36mkkt_chol\u001b[1;34m(G, dims, A, mnl)\u001b[0m\n\u001b[0;32m   1249\u001b[0m tauA \u001b[38;5;241m=\u001b[39m matrix(\u001b[38;5;241m0.0\u001b[39m, (p,\u001b[38;5;241m1\u001b[39m))\n\u001b[0;32m   1250\u001b[0m lapack\u001b[38;5;241m.\u001b[39mgeqrf(QA, tauA)\n\u001b[1;32m-> 1252\u001b[0m Gs \u001b[38;5;241m=\u001b[39m \u001b[43mmatrix\u001b[49m\u001b[43m(\u001b[49m\u001b[38;5;241;43m0.0\u001b[39;49m\u001b[43m,\u001b[49m\u001b[43m \u001b[49m\u001b[43m(\u001b[49m\u001b[43mcdim\u001b[49m\u001b[43m,\u001b[49m\u001b[43m \u001b[49m\u001b[43mn\u001b[49m\u001b[43m)\u001b[49m\u001b[43m)\u001b[49m\n\u001b[0;32m   1253\u001b[0m K \u001b[38;5;241m=\u001b[39m matrix(\u001b[38;5;241m0.0\u001b[39m, (n,n)) \n\u001b[0;32m   1254\u001b[0m bzp \u001b[38;5;241m=\u001b[39m matrix(\u001b[38;5;241m0.0\u001b[39m, (cdim_pckd, \u001b[38;5;241m1\u001b[39m))\n",
      "\u001b[1;31mOverflowError\u001b[0m: number of elements exceeds INT_MAX"
     ]
    }
   ],
   "source": [
    "# solve\n",
    "\n",
    "P.solve(solver = \"cvxopt\")\n",
    "Perr = 1-P.value"
   ]
  },
  {
   "cell_type": "code",
   "execution_count": null,
   "id": "89a991c3",
   "metadata": {},
   "outputs": [],
   "source": [
    "# print and save data\n",
    "\n",
    "print(\"\\nOptimal expected error probability:\", Perr)\n",
    "#print(\"Optimal X:\", X.value, sep=\"\\n\")\n",
    "\n",
    "np.savetxt(\"data/perr_md_2bp_num_N{:d}.txt\".format(N), [Perr])"
   ]
  },
  {
   "cell_type": "code",
   "execution_count": null,
   "id": "7998b5c2",
   "metadata": {},
   "outputs": [],
   "source": []
  }
 ],
 "metadata": {
  "kernelspec": {
   "display_name": "Python 3 (ipykernel)",
   "language": "python",
   "name": "python3"
  },
  "language_info": {
   "codemirror_mode": {
    "name": "ipython",
    "version": 3
   },
   "file_extension": ".py",
   "mimetype": "text/x-python",
   "name": "python",
   "nbconvert_exporter": "python",
   "pygments_lexer": "ipython3",
   "version": "3.10.10"
  }
 },
 "nbformat": 4,
 "nbformat_minor": 5
}
