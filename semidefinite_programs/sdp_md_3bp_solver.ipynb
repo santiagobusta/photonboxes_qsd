{
 "cells": [
  {
   "cell_type": "markdown",
   "id": "dbb2ed6d",
   "metadata": {},
   "source": [
    "# Numerical semidefinite program solver for the three-box problem\n",
    "\n",
    "## Context\n",
    "\n",
    "In this notebook the optimal expected correct-guessing probability $\\text{P}_\\text{corr}^*$ is numerically computed by using the *picos* package to solve complex semidefinite program (SDP). Specifically, we solve the following SDP:\n",
    "\n",
    "$$\n",
    "\\begin{align}\n",
    "    \\text{P}_\\text{corr}^* = \\min_X\\quad & \\text{Tr}(X) & & \\\\\n",
    "    \\text{subject to } \\quad & X \\succcurlyeq \\eta_j \\rho_j & j&=A,B,C.\n",
    "\\end{align}\n",
    "$$\n",
    "\n",
    "## Outputs\n",
    "\n",
    "- Numerically computed minimum expected error probability"
   ]
  },
  {
   "cell_type": "code",
   "execution_count": 8,
   "id": "9b7188a2",
   "metadata": {},
   "outputs": [],
   "source": [
    "import numpy as np\n",
    "from scipy.special import comb, binom\n",
    "from itertools import combinations\n",
    "import picos"
   ]
  },
  {
   "cell_type": "code",
   "execution_count": 35,
   "id": "32e356f6",
   "metadata": {},
   "outputs": [],
   "source": [
    "# simulation parameters\n",
    "\n",
    "# simulation parameters\n",
    "\n",
    "n = 1 # half-number of photons\n",
    "N = 2*n # total number of photons\n",
    "d = 2**N # hilbert space dimension\n",
    "etaA = 1/3. # prior probability of box A\n",
    "etaB = 1/3. # prior probability of box B\n",
    "etaC = 1-etaA-etaB # prior probability of box C"
   ]
  },
  {
   "cell_type": "code",
   "execution_count": 36,
   "id": "9b72676c",
   "metadata": {},
   "outputs": [],
   "source": [
    "# load full density matrices\n",
    "\n",
    "rhoA = np.load(\"../full_density_matrices/rhoA_N{:d}_num.npy\".format(N))\n",
    "rhoB = np.load(\"../full_density_matrices/rhoB_N{:d}_num.npy\".format(N))\n",
    "rhoC = np.load(\"../full_density_matrices/rhoC_N{:d}_num.npy\".format(N))"
   ]
  },
  {
   "cell_type": "markdown",
   "id": "f566e307",
   "metadata": {},
   "source": [
    "# Semidefinite Programming Solver"
   ]
  },
  {
   "cell_type": "code",
   "execution_count": 37,
   "id": "3ea8fdc3",
   "metadata": {},
   "outputs": [],
   "source": [
    "# set picos constants\n",
    "\n",
    "rA = picos.Constant(etaA*rhoA)\n",
    "rB = picos.Constant(etaB*rhoB)\n",
    "rC = picos.Constant(etaC*rhoC)"
   ]
  },
  {
   "cell_type": "code",
   "execution_count": 38,
   "id": "17dce5b7",
   "metadata": {
    "scrolled": true
   },
   "outputs": [
    {
     "name": "stdout",
     "output_type": "stream",
     "text": [
      "Complex Semidefinite Program\n",
      "  minimize tr(X)\n",
      "  over\n",
      "    4×4 hermitian variable X\n",
      "  subject to\n",
      "    X - [4×4] ≽ 0\n",
      "    X - [4×4] ≽ 0\n",
      "    X - [4×4] ≽ 0\n"
     ]
    }
   ],
   "source": [
    "# sdp statement\n",
    "\n",
    "P = picos.Problem()\n",
    "X = picos.HermitianVariable(\"X\", rA.shape)\n",
    "P.set_objective(\"min\", picos.trace(X))\n",
    "P.add_constraint( X - rA >> 0)\n",
    "P.add_constraint( X - rB >> 0)\n",
    "P.add_constraint( X - rC >> 0)\n",
    "\n",
    "print(P)"
   ]
  },
  {
   "cell_type": "code",
   "execution_count": 39,
   "id": "291ac437",
   "metadata": {
    "scrolled": false
   },
   "outputs": [],
   "source": [
    "# solve\n",
    "\n",
    "P.solve(solver = \"cvxopt\")\n",
    "Perr = 1-P.value"
   ]
  },
  {
   "cell_type": "code",
   "execution_count": 34,
   "id": "89a991c3",
   "metadata": {},
   "outputs": [
    {
     "name": "stdout",
     "output_type": "stream",
     "text": [
      "\n",
      "Optimal expected error probability: 0.2767895504622233\n"
     ]
    }
   ],
   "source": [
    "# print and save data\n",
    "\n",
    "print(\"\\nOptimal expected error probability:\", Perr)\n",
    "#print(\"Optimal X:\", X.value, sep=\"\\n\")\n",
    "\n",
    "np.savetxt(\"data/perr_md_2bp_num_N{:d}.txt\".format(N), [Perr])"
   ]
  }
 ],
 "metadata": {
  "kernelspec": {
   "display_name": "Python 3 (ipykernel)",
   "language": "python",
   "name": "python3"
  },
  "language_info": {
   "codemirror_mode": {
    "name": "ipython",
    "version": 3
   },
   "file_extension": ".py",
   "mimetype": "text/x-python",
   "name": "python",
   "nbconvert_exporter": "python",
   "pygments_lexer": "ipython3",
   "version": "3.10.10"
  }
 },
 "nbformat": 4,
 "nbformat_minor": 5
}
