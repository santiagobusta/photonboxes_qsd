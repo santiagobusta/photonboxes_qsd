{
 "cells": [
  {
   "cell_type": "markdown",
   "id": "1ee0483e",
   "metadata": {},
   "source": [
    "# Simulation of a probabilistic photonic Controlled-Z gate\n",
    "\n",
    "In this notebook we simulate the probabilistic photonic CZ-gate proposed by Langford et al. (http://dx.doi.org/10.1103/PhysRevLett.95.210504). In this notebook the $0=V$, $1=H$ notation is used."
   ]
  },
  {
   "cell_type": "code",
   "execution_count": 1,
   "id": "5f1b4855",
   "metadata": {},
   "outputs": [],
   "source": [
    "import strawberryfields as sf\n",
    "from strawberryfields.ops import *\n",
    "\n",
    "import numpy as np\n",
    "from numpy import pi, sqrt\n",
    "\n",
    "import matplotlib.pyplot as plt\n",
    "\n",
    "# set the random seed\n",
    "np.random.seed(42)"
   ]
  },
  {
   "cell_type": "code",
   "execution_count": 20,
   "id": "c409f751",
   "metadata": {},
   "outputs": [],
   "source": [
    "#========= Circuit parameters ============\n",
    "\n",
    "n_paths = 3\n",
    "n_modes = n_paths*2\n",
    "cutoff_dim = 3\n",
    "\n",
    "#======== Initial State Preparation ==========\n",
    "\n",
    "# Vacuum State Array\n",
    "VacuumState = np.zeros([cutoff_dim] * n_modes, dtype='complex')\n",
    "\n",
    "# Two-Qubit Input State generator\n",
    "# Control and target photons enter through the first two paths\n",
    "def TwoQubitStateIn(theta1, phi1, theta2 = pi/2, phi2 = 0.):\n",
    "    State = np.copy(VacuumState)\n",
    "    \n",
    "    State[1,0,1,0,0,0] = np.cos(theta1/2)*np.cos(theta2/2)\n",
    "    State[1,0,0,1,0,0] = np.cos(theta1/2)*np.sin(theta2/2)*np.exp(1j*phi2)\n",
    "    State[0,1,1,0,0,0] = np.sin(theta1/2)*np.exp(1j*phi1)*np.cos(theta2/2)\n",
    "    State[0,1,0,1,0,0] = np.sin(theta1/2)*np.exp(1j*phi1)*np.sin(theta2/2)*np.exp(1j*phi2)\n",
    "\n",
    "    return State\n",
    "\n",
    "StateDict = {\n",
    "    \"H\" : TwoQubitStateIn(0., 0.),\n",
    "    \"V\" : TwoQubitStateIn(pi, 0.),\n",
    "    \"D\" : TwoQubitStateIn(pi/2, 0.),\n",
    "    \"A\" : TwoQubitStateIn(pi/2, pi),\n",
    "    \"L\" : TwoQubitStateIn(pi/2, pi/2),\n",
    "    \"R\" : TwoQubitStateIn(pi/2,-pi/2)\n",
    "}\n",
    "\n",
    "#============ Gates' Construction =============\n",
    "\n",
    "def BSgen(R = 1/3.):\n",
    "    r = sqrt(R)\n",
    "    t = sqrt(1-R)\n",
    "    return Interferometer(np.array([[t, -r],[r, t]]))\n",
    "\n",
    "BS1 = BSgen()\n",
    "BS2 = BSgen(2/3.)\n",
    "\n",
    "SWAPZ = Interferometer(np.array([[0,-1],[1,0]]))\n",
    "SWAP = Interferometer(np.array([[0,1],[1,0]]))\n",
    "\n",
    "def HWP(angle):\n",
    "    x = np.cos(2*angle)\n",
    "    y = np.sin(2*angle)\n",
    "    return Interferometer(np.array([[x,y],[y,-x]]))\n",
    "\n",
    "QWPV = Interferometer(np.exp(1j*pi/4)*np.array([[1,0],[0,-1j]]))\n",
    "QWPH = Interferometer(np.exp(-1j*pi/4)*np.array([[1,0],[0,1j]]))"
   ]
  },
  {
   "cell_type": "code",
   "execution_count": 21,
   "id": "41527e3e",
   "metadata": {},
   "outputs": [],
   "source": [
    "#=========== Circuit construction (for pure states) ============\n",
    "\n",
    "PureStateProg = sf.Program(n_modes)\n",
    "InitialState = PureStateProg.params('InitialState')\n",
    "\n",
    "with PureStateProg.context as q:\n",
    "    # prepare initial state\n",
    "    Ket(InitialState) | q\n",
    "\n",
    "    # QWPV for state preparation: L -> D and R -> A while H and V remain unchanged (ignoring global phases)\n",
    "    #QWPV | (q[0], q[1])\n",
    "    \n",
    "    # First PPBS\n",
    "    # Every PPBS acts as a BS for the horizontal modes and as a SWAPZ for the vertical modes\n",
    "    BS1 | (q[0], q[2]) \n",
    "    SWAPZ | (q[1], q[3])\n",
    "    \n",
    "    # Half-wave plates\n",
    "    # Since all half-wave plates used are adjusted so that H -> V and V -> H, they act as SWAP gates\n",
    "    SWAP | (q[0], q[1])\n",
    "    SWAP | (q[2], q[3])\n",
    "\n",
    "    # Second and third PPBS\n",
    "    # For circuit optimization, the second and third PPBS will act such that it leaves the vertical modes unchanged\n",
    "    # while acting as a BS between horizontal and sink modes (modes 4 and 5)\n",
    "    BS2 | (q[0], q[4])\n",
    "    BS2 | (q[5], q[2])\n",
    "    \n",
    "    # Last SWAP\n",
    "    # This swap is equivalent to adding another two HWPs at the end of the first and second paths\n",
    "    # and then swapping the labels from path 1 to path 2 (this is done for compatibility of the CZ gate in computational basis)\n",
    "    # The final HWPs can also be understood as changing the notation 0 <-> V, 1 <-> H to 0 <-> H, 1 <-> V\n",
    "    SWAP | (q[0], q[3])\n",
    "    SWAP | (q[1], q[2])\n",
    "    \n",
    "    # measure\n",
    "    MeasureFock() | q\n",
    "\n",
    "eng = sf.Engine('fock', backend_options={\"cutoff_dim\": cutoff_dim})"
   ]
  },
  {
   "cell_type": "markdown",
   "id": "d6e111c8",
   "metadata": {},
   "source": [
    "# Testing the CZ-Gate"
   ]
  },
  {
   "cell_type": "code",
   "execution_count": 4,
   "id": "f986b300",
   "metadata": {},
   "outputs": [],
   "source": [
    "def print_simulation_results(state, dplaces = 14):\n",
    "    state = np.round(state, dplaces)\n",
    "    print(\"=\"*40)\n",
    "    print(\"Output 00 state probability amplitude:\", state[0,1,0,1,0,0])\n",
    "    print(\"Output 01 state probability amplitude:\", state[0,1,1,0,0,0])\n",
    "    print(\"Output 10 state probability amplitude:\", state[1,0,0,1,0,0])\n",
    "    print(\"Output 11 state probability amplitude:\", state[1,0,1,0,0,0])\n",
    "    \n",
    "    print(\"=\"*40)\n",
    "    print(\"Probability of coincidence:\", np.abs(state[1,0,1,0,0,0])**2 + np.abs(state[1,0,0,1,0,0])**2 + np.abs(state[0,1,1,0,0,0])**2 + np.abs(state[0,1,0,1,0,0])**2)\n",
    "    print(\"Probability of photon path-bunching (same polarization):\", np.abs(state[2,0,0,0,0,0])**2 + np.abs(state[0,2,0,0,0,0])**2\n",
    "                                                 + np.abs(state[0,0,2,0,0,0])**2 + np.abs(state[0,0,0,2,0,0])**2)\n",
    "    print(\"Probability of photon path-bunching (different polarization):\", np.abs(state[1,1,0,0,0,0])**2 + np.abs(state[0,0,1,1,0,0])**2)\n",
    "    print(\"Probability of sinking photons:\", np.abs(state[0,0,0,0,2,0])**2 + np.abs(state[0,0,0,0,0,2])**2\n",
    "                            + (np.abs(state[:,:,:,:,1,:])**2).sum() + (np.abs(state[:,:,:,:,:,1])**2).sum() - np.abs(state[0,0,0,0,1,1])**2)"
   ]
  },
  {
   "cell_type": "code",
   "execution_count": 5,
   "id": "8228d432",
   "metadata": {},
   "outputs": [
    {
     "name": "stdout",
     "output_type": "stream",
     "text": [
      "For an input 00 state:\n",
      "========================================\n",
      "Output 00 state probability amplitude: (-0.33333333333333+0j)\n",
      "Output 01 state probability amplitude: (-0+0j)\n",
      "Output 10 state probability amplitude: (-0+0j)\n",
      "Output 11 state probability amplitude: (-0-0j)\n",
      "========================================\n",
      "Probability of coincidence: 0.11111111111110888\n",
      "Probability of photon path-bunching (same polarization): 0.0\n",
      "Probability of photon path-bunching (different polarization): 0.0\n",
      "Probability of sinking photons: 0.8888888888888902\n"
     ]
    }
   ],
   "source": [
    "print(\"For an input 00 state:\")\n",
    "\n",
    "result = eng.run(PureStateProg, args={'InitialState': TwoQubitStateIn(pi, 0, pi, 0)})\n",
    "print_simulation_results(result.state.data)"
   ]
  },
  {
   "cell_type": "code",
   "execution_count": 6,
   "id": "08299520",
   "metadata": {},
   "outputs": [
    {
     "name": "stdout",
     "output_type": "stream",
     "text": [
      "For an input 01 state:\n",
      "========================================\n",
      "Output 00 state probability amplitude: -0j\n",
      "Output 01 state probability amplitude: (-0.33333333333333+0j)\n",
      "Output 10 state probability amplitude: -0j\n",
      "Output 11 state probability amplitude: -0j\n",
      "========================================\n",
      "Probability of coincidence: 0.11111111111110888\n",
      "Probability of photon path-bunching (same polarization): 0.0\n",
      "Probability of photon path-bunching (different polarization): 0.22222222222222066\n",
      "Probability of sinking photons: 0.6666666666666695\n"
     ]
    }
   ],
   "source": [
    "print(\"For an input 01 state:\")\n",
    "\n",
    "result = eng.run(PureStateProg, args={'InitialState': TwoQubitStateIn(pi, 0, 0, 0)})\n",
    "print_simulation_results(result.state.data)"
   ]
  },
  {
   "cell_type": "code",
   "execution_count": 7,
   "id": "70fa5737",
   "metadata": {
    "scrolled": true
   },
   "outputs": [
    {
     "name": "stdout",
     "output_type": "stream",
     "text": [
      "For an input 10 state:\n",
      "========================================\n",
      "Output 00 state probability amplitude: -0j\n",
      "Output 01 state probability amplitude: -0j\n",
      "Output 10 state probability amplitude: (-0.33333333333333+0j)\n",
      "Output 11 state probability amplitude: -0j\n",
      "========================================\n",
      "Probability of coincidence: 0.11111111111110888\n",
      "Probability of photon path-bunching (same polarization): 0.0\n",
      "Probability of photon path-bunching (different polarization): 0.22222222222222066\n",
      "Probability of sinking photons: 0.6666666666666695\n"
     ]
    }
   ],
   "source": [
    "print(\"For an input 10 state:\")\n",
    "\n",
    "result = eng.run(PureStateProg, args={'InitialState': TwoQubitStateIn(0, 0, pi, 0)})\n",
    "print_simulation_results(result.state.data)"
   ]
  },
  {
   "cell_type": "code",
   "execution_count": 8,
   "id": "7a11ef7a",
   "metadata": {
    "scrolled": true
   },
   "outputs": [
    {
     "name": "stdout",
     "output_type": "stream",
     "text": [
      "For an input 11 state:\n",
      "========================================\n",
      "Output 00 state probability amplitude: (-0+0j)\n",
      "Output 01 state probability amplitude: -0j\n",
      "Output 10 state probability amplitude: -0j\n",
      "Output 11 state probability amplitude: (0.33333333333333-0j)\n",
      "========================================\n",
      "Probability of coincidence: 0.11111111111110888\n",
      "Probability of photon path-bunching (same polarization): 0.8888888888888977\n",
      "Probability of photon path-bunching (different polarization): 0.0\n",
      "Probability of sinking photons: 0.0\n"
     ]
    }
   ],
   "source": [
    "print(\"For an input 11 state:\")\n",
    "\n",
    "result = eng.run(PureStateProg, args={'InitialState': TwoQubitStateIn(0, 0, 0, 0)})\n",
    "print_simulation_results(result.state.data)"
   ]
  },
  {
   "cell_type": "code",
   "execution_count": 9,
   "id": "4188739b",
   "metadata": {},
   "outputs": [
    {
     "name": "stdout",
     "output_type": "stream",
     "text": [
      "For an input 0+ state:\n",
      "========================================\n",
      "Output 00 state probability amplitude: (-0.23570226039552+0j)\n",
      "Output 01 state probability amplitude: (-0.23570226039552+0j)\n",
      "Output 10 state probability amplitude: (-0+0j)\n",
      "Output 11 state probability amplitude: -0j\n",
      "========================================\n",
      "Probability of coincidence: 0.11111111111111503\n",
      "Probability of photon path-bunching (same polarization): 0.0\n",
      "Probability of photon path-bunching (different polarization): 0.11111111111110888\n",
      "Probability of sinking photons: 0.777777777777768\n"
     ]
    }
   ],
   "source": [
    "print(\"For an input 0+ state:\")\n",
    "\n",
    "result = eng.run(PureStateProg, args={'InitialState': TwoQubitStateIn(pi, 0, pi/2, 0)})\n",
    "print_simulation_results(result.state.data)"
   ]
  },
  {
   "cell_type": "code",
   "execution_count": 10,
   "id": "cd67ca26",
   "metadata": {
    "scrolled": true
   },
   "outputs": [
    {
     "name": "stdout",
     "output_type": "stream",
     "text": [
      "For an input 1+ state:\n",
      "========================================\n",
      "Output 00 state probability amplitude: -0j\n",
      "Output 01 state probability amplitude: -0j\n",
      "Output 10 state probability amplitude: (-0.23570226039552+0j)\n",
      "Output 11 state probability amplitude: (0.23570226039552-0j)\n",
      "========================================\n",
      "Probability of coincidence: 0.11111111111111503\n",
      "Probability of photon path-bunching (same polarization): 0.4444444444444413\n",
      "Probability of photon path-bunching (different polarization): 0.11111111111110888\n",
      "Probability of sinking photons: 0.33333333333332954\n"
     ]
    }
   ],
   "source": [
    "print(\"For an input 1+ state:\")\n",
    "\n",
    "result = eng.run(PureStateProg, args={'InitialState': TwoQubitStateIn(0, 0, pi/2, 0)})\n",
    "print_simulation_results(result.state.data)"
   ]
  },
  {
   "cell_type": "code",
   "execution_count": 11,
   "id": "09bbe158",
   "metadata": {},
   "outputs": [
    {
     "name": "stdout",
     "output_type": "stream",
     "text": [
      "For an input ++ state:\n",
      "========================================\n",
      "Output 00 state probability amplitude: (-0.16666666666667+0j)\n",
      "Output 01 state probability amplitude: (-0.16666666666667+0j)\n",
      "Output 10 state probability amplitude: (-0.16666666666667+0j)\n",
      "Output 11 state probability amplitude: (0.16666666666667-0j)\n",
      "========================================\n",
      "Probability of coincidence: 0.11111111111111555\n",
      "Probability of photon path-bunching (same polarization): 0.22222222222221777\n",
      "Probability of photon path-bunching (different polarization): 0.11111111111111503\n",
      "Probability of sinking photons: 0.5555555555555567\n"
     ]
    }
   ],
   "source": [
    "print(\"For an input ++ state:\")\n",
    "\n",
    "result = eng.run(PureStateProg, args={'InitialState': TwoQubitStateIn(pi/2, 0, pi/2, 0)})\n",
    "print_simulation_results(result.state.data)"
   ]
  },
  {
   "cell_type": "code",
   "execution_count": 12,
   "id": "ebd61e20",
   "metadata": {},
   "outputs": [
    {
     "name": "stdout",
     "output_type": "stream",
     "text": [
      "========================================\n",
      "Output 00 state probability amplitude: (-0.16666666666667+0j)\n",
      "Output 01 state probability amplitude: (-0.16666666666667+0j)\n",
      "Output 10 state probability amplitude: (-0.16666666666667+0j)\n",
      "Output 11 state probability amplitude: (0.16666666666667-0j)\n",
      "========================================\n",
      "Probability of coincidence: 0.11111111111111555\n",
      "Probability of photon path-bunching (same polarization): 0.22222222222221777\n",
      "Probability of photon path-bunching (different polarization): 0.11111111111111503\n",
      "Probability of sinking photons: 0.5555555555555567\n"
     ]
    }
   ],
   "source": [
    "result = eng.run(PureStateProg, args={'InitialState': TwoQubitStateIn(pi/2, 0, pi/2, 0)})\n",
    "print_simulation_results(result.state.data)"
   ]
  },
  {
   "cell_type": "code",
   "execution_count": 13,
   "id": "12b94ffc",
   "metadata": {},
   "outputs": [
    {
     "name": "stdout",
     "output_type": "stream",
     "text": [
      "========================================\n",
      "Output 00 state probability amplitude: (0.16666666666667-0j)\n",
      "Output 01 state probability amplitude: (0.16666666666667-0j)\n",
      "Output 10 state probability amplitude: (-0.16666666666667+0j)\n",
      "Output 11 state probability amplitude: (0.16666666666667-0j)\n",
      "========================================\n",
      "Probability of coincidence: 0.11111111111111555\n",
      "Probability of photon path-bunching (same polarization): 0.22222222222221777\n",
      "Probability of photon path-bunching (different polarization): 0.11111111111111503\n",
      "Probability of sinking photons: 0.5555555555555567\n"
     ]
    }
   ],
   "source": [
    "result = eng.run(PureStateProg, args={'InitialState': TwoQubitStateIn(pi/2, pi, pi/2, 0)})\n",
    "print_simulation_results(result.state.data)"
   ]
  },
  {
   "cell_type": "markdown",
   "id": "6b0dbce3",
   "metadata": {},
   "source": [
    "# Box A simulation"
   ]
  },
  {
   "cell_type": "code",
   "execution_count": 31,
   "id": "15786ac5",
   "metadata": {},
   "outputs": [],
   "source": [
    "N = 1000"
   ]
  },
  {
   "cell_type": "code",
   "execution_count": 32,
   "id": "91fd6772",
   "metadata": {},
   "outputs": [],
   "source": [
    "photons = np.array([\"H\"]*N + [\"V\"]*N)\n",
    "np.random.shuffle(photons)\n",
    "\n",
    "samplesA = []\n",
    "\n",
    "for s in photons:\n",
    "    init_state = StateDict[s]\n",
    "    result = eng.run(PureStateProg, args={'InitialState': init_state})\n",
    "    samplesA.append(str(result.samples[0]))\n",
    "\n",
    "labelsA, countsA = np.unique(samplesA,return_counts=True)"
   ]
  },
  {
   "cell_type": "code",
   "execution_count": 33,
   "id": "7bb148cb",
   "metadata": {},
   "outputs": [
    {
     "data": {
      "image/png": "[encoded data removed]",
      "text/plain": [
       "<Figure size 800x600 with 1 Axes>"
      ]
     },
     "metadata": {},
     "output_type": "display_data"
    }
   ],
   "source": [
    "plt.figure(figsize=(8,6))\n",
    "ticksA = range(len(countsA))\n",
    "plt.bar(ticksA,countsA, align='center')\n",
    "plt.xticks(ticksA, labelsA)\n",
    "plt.ylabel(\"Frequency\")\n",
    "plt.show()"
   ]
  },
  {
   "cell_type": "markdown",
   "id": "da2e4f5d",
   "metadata": {},
   "source": [
    "# Box B simulation"
   ]
  },
  {
   "cell_type": "code",
   "execution_count": 34,
   "id": "c95f0315",
   "metadata": {},
   "outputs": [],
   "source": [
    "photons = np.array([\"L\"]*N + [\"R\"]*N)\n",
    "np.random.shuffle(photons)\n",
    "\n",
    "samplesB = []\n",
    "\n",
    "for s in photons:\n",
    "    init_state = StateDict[s]\n",
    "    result = eng.run(PureStateProg, args={'InitialState': init_state})\n",
    "    samplesB.append(str(result.samples[0]))\n",
    "    \n",
    "labelsB, countsB = np.unique(samplesB,return_counts=True)"
   ]
  },
  {
   "cell_type": "code",
   "execution_count": 35,
   "id": "0e1e717f",
   "metadata": {},
   "outputs": [
    {
     "data": {
      "image/png": "[encoded data removed]",
      "text/plain": [
       "<Figure size 800x600 with 1 Axes>"
      ]
     },
     "metadata": {},
     "output_type": "display_data"
    }
   ],
   "source": [
    "plt.figure(figsize=(8,6))\n",
    "ticksB = range(len(countsB))\n",
    "plt.bar(ticksB,countsB, align='center')\n",
    "plt.xticks(ticksB, labelsB)\n",
    "plt.ylabel(\"Frequency\")\n",
    "plt.show()"
   ]
  },
  {
   "cell_type": "code",
   "execution_count": null,
   "id": "302126f1",
   "metadata": {},
   "outputs": [],
   "source": []
  }
 ],
 "metadata": {
  "kernelspec": {
   "display_name": "Python 3 (ipykernel)",
   "language": "python",
   "name": "python3"
  },
  "language_info": {
   "codemirror_mode": {
    "name": "ipython",
    "version": 3
   },
   "file_extension": ".py",
   "mimetype": "text/x-python",
   "name": "python",
   "nbconvert_exporter": "python",
   "pygments_lexer": "ipython3",
   "version": "3.10.10"
  }
 },
 "nbformat": 4,
 "nbformat_minor": 5
}
