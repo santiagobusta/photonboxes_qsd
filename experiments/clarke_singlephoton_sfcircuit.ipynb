{
 "cells": [
  {
   "cell_type": "markdown",
   "id": "480ac29f",
   "metadata": {},
   "source": [
    "# Clarke's experiment numerical circuit simulation for a single-photon pure polarization state\n",
    "\n",
    "## Context\n",
    "\n",
    "In this notebook we simulate Clarke's experiment (https://doi.org/10.1103/PhysRevA.63.040305) for unambiguous discrimination of single-photon polarization states with the addition of an ancilla photon in one of the input ports. For this purpose we use the *strawberry fields* package. We simulate the experiment for a single photon input.\n",
    "\n",
    "## Output\n",
    "\n",
    "- Numerical output photon distributions for a single photon"
   ]
  },
  {
   "cell_type": "code",
   "execution_count": 2,
   "id": "1efa671b",
   "metadata": {},
   "outputs": [],
   "source": [
    "import strawberryfields as sf\n",
    "from strawberryfields.ops import *\n",
    "\n",
    "import numpy as np\n",
    "from numpy import pi, sqrt\n",
    "\n",
    "import matplotlib.pyplot as plt\n",
    "\n",
    "# set the random seed\n",
    "np.random.seed(42)"
   ]
  },
  {
   "cell_type": "code",
   "execution_count": 3,
   "id": "c937a392",
   "metadata": {},
   "outputs": [],
   "source": [
    "n_paths = 3\n",
    "n_modes = n_paths*2\n",
    "cutoff_dim = 2\n",
    "\n",
    "#======== Initial State Preparation ==========\n",
    "\n",
    "# Vacuum State Array\n",
    "VacuumState = np.zeros([cutoff_dim] * n_modes, dtype='complex')\n",
    "\n",
    "# Prepare initial qubit state in Fock basis\n",
    "theta = pi\n",
    "phi = 0\n",
    "\n",
    "InitialState = np.copy(VacuumState)\n",
    "InitialState[1,0,0,0,0,0] = np.cos(theta/2)\n",
    "InitialState[0,1,0,0,0,0] = np.sin(theta/2)*np.exp(1j*phi)\n",
    "\n",
    "#============ Gates' Construction =============\n",
    "\n",
    "SWAP = Interferometer(np.array([[0,1],[1,0]]))\n",
    "\n",
    "def HWP(angle):\n",
    "    x = np.cos(2*angle)\n",
    "    y = np.sin(2*angle)\n",
    "    return Interferometer(np.array([[x,y],[y,-x]]))\n",
    "\n",
    "#============ Other parameters ===============\n",
    "\n",
    "alpha = pi/8 # half-angle between states to discriminate\n",
    "opt_wp4_angle = np.arcsin(np.tan(alpha))/2 # optimal WP4 angle for discrimination"
   ]
  },
  {
   "cell_type": "code",
   "execution_count": 4,
   "id": "ed392abc",
   "metadata": {},
   "outputs": [],
   "source": [
    "prog = sf.Program(n_modes)\n",
    "eng = sf.Engine('fock', backend_options={\"cutoff_dim\": cutoff_dim})\n",
    "\n",
    "with prog.context as q:\n",
    "    # prepare initial states\n",
    "    Ket(InitialState) | q\n",
    "\n",
    "    # apply gates\n",
    "    HWP(alpha/2) | (q[0], q[1]) # WP0, for preparation of H and D into \"standard\" form\n",
    "    SWAP | (q[1], q[3]) # PBS2\n",
    "    HWP(opt_wp4_angle) | (q[0], q[1]) # WP4\n",
    "    SWAP | (q[1], q[5]) # PBS3\n",
    "    HWP(pi/4) | (q[2] , q[3]) # WP5\n",
    "    SWAP | (q[3], q[5]) # PBS5\n",
    "    HWP(3*pi/8) | (q[2], q[3]) # WP6\n",
    "\n",
    "    # count photons\n",
    "    MeasureFock() | q"
   ]
  },
  {
   "cell_type": "code",
   "execution_count": 5,
   "id": "eddd9c24",
   "metadata": {},
   "outputs": [],
   "source": [
    "n_shots = 1000\n",
    "psi0_counts = 0 # inconclusive result\n",
    "psi1_counts = 0 # psi minus state\n",
    "psi2_counts = 0 # psi plus state\n",
    "\n",
    "for n in range(n_shots):\n",
    "    result = eng.run(prog, shots=1)\n",
    "    psi0_counts += result.samples[0,0]\n",
    "    psi1_counts += result.samples[0,2]\n",
    "    psi2_counts += result.samples[0,3]"
   ]
  },
  {
   "cell_type": "code",
   "execution_count": 6,
   "id": "2994bd57",
   "metadata": {},
   "outputs": [
    {
     "data": {
      "image/png": "[encoded data removed]",
      "text/plain": [
       "<Figure size 640x480 with 1 Axes>"
      ]
     },
     "metadata": {},
     "output_type": "display_data"
    }
   ],
   "source": [
    "data = np.array([psi0_counts, psi1_counts, psi2_counts])\n",
    "plt.bar(range(3), data, ec='k',zorder=2)\n",
    "plt.grid(zorder=1)\n",
    "plt.xticks(range(3), [\"Inconclusive\",r\"$\\psi_-$\",r\"$\\psi_+$\"])\n",
    "plt.ylabel(\"Frequency\")\n",
    "plt.show()"
   ]
  }
 ],
 "metadata": {
  "kernelspec": {
   "display_name": "Python 3 (ipykernel)",
   "language": "python",
   "name": "python3"
  },
  "language_info": {
   "codemirror_mode": {
    "name": "ipython",
    "version": 3
   },
   "file_extension": ".py",
   "mimetype": "text/x-python",
   "name": "python",
   "nbconvert_exporter": "python",
   "pygments_lexer": "ipython3",
   "version": "3.10.10"
  }
 },
 "nbformat": 4,
 "nbformat_minor": 5
}
