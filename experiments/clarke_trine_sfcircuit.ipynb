{
 "cells": [
  {
   "cell_type": "markdown",
   "id": "bdb3f374",
   "metadata": {},
   "source": [
    "# Clarke's experiment numerical circuit simulation for the full boxes\n",
    "\n",
    "## Context\n",
    "\n",
    "In this notebook we simulate Clarke's experiment (https://doi.org/10.1103/PhysRevA.63.040305) for unambiguous discrimination of single-photon polarization states with the addition of an ancilla photon in one of the input ports. For this purpose we use the *strawberry fields* package. We simulate the experiment for the three boxes.\n",
    "\n",
    "## Output\n",
    "\n",
    "- Numerical output photon distributions for the three boxes"
   ]
  },
  {
   "cell_type": "code",
   "execution_count": 1,
   "id": "1efa671b",
   "metadata": {},
   "outputs": [],
   "source": [
    "import strawberryfields as sf\n",
    "from strawberryfields.ops import *\n",
    "\n",
    "import numpy as np\n",
    "from numpy import pi, sqrt\n",
    "\n",
    "import matplotlib.pyplot as plt\n",
    "\n",
    "# set the random seed\n",
    "np.random.seed(42)"
   ]
  },
  {
   "cell_type": "code",
   "execution_count": 12,
   "id": "c937a392",
   "metadata": {},
   "outputs": [],
   "source": [
    "#========= Simulation parameters ============\n",
    "\n",
    "n_paths = 2\n",
    "n_modes = n_paths*2 + 1\n",
    "cutoff_dim = 2\n",
    "N = 1000 # half-number of photons per box\n",
    "alpha = pi/8 # half-angle between states to discriminate\n",
    "opt_wp4_angle = np.arcsin(np.tan(alpha))/2 # optimal HWP2 angle for discrimination\n",
    "#opt_wp4_angle = pi/16\n",
    "\n",
    "#======== Initial State Preparation ==========\n",
    "\n",
    "# Vacuum State Array\n",
    "VacuumState = np.zeros([cutoff_dim] * n_modes, dtype='complex')\n",
    "\n",
    "# One-photon maximum entropy state in path 1 with vertically polarized ancilla photon in path 2\n",
    "MaxMixedState = np.zeros([cutoff_dim,cutoff_dim] * n_modes, dtype='complex')\n",
    "MaxMixedState[1,1,0,0,0,0,0,0,0,0] = 1/2\n",
    "MaxMixedState[0,0,1,1,0,0,0,0,0,0] = 1/2\n",
    "\n",
    "MaxMixedState = DensityMatrix(MaxMixedState)\n",
    "\n",
    "def SingleQubitStateIn(theta1, phi1):\n",
    "    State = np.copy(VacuumState)\n",
    "    \n",
    "    State[1,0,0,0,0] = np.cos(theta1/2)\n",
    "    State[0,1,0,0,0] = np.sin(theta1/2)*np.exp(1j*phi1)\n",
    "    \n",
    "    return State\n",
    "\n",
    "StateDict = {\n",
    "    \"H\" : SingleQubitStateIn(0., 0.),\n",
    "    \"V\" : SingleQubitStateIn(pi, 0.),\n",
    "    \"D\" : SingleQubitStateIn(pi/2, 0.),\n",
    "    \"A\" : SingleQubitStateIn(pi/2, pi),\n",
    "    \"L\" : SingleQubitStateIn(pi/2, pi/2),\n",
    "    \"R\" : SingleQubitStateIn(pi/2,-pi/2)\n",
    "}\n",
    "\n",
    "#============ Gates' Construction =============\n",
    "\n",
    "SWAP = Interferometer(np.array([[0,1],[-1,0]])) # not actually a SWAP but a SWAP with a change in phase for one of the inputs\n",
    "\n",
    "def HWP(angle):\n",
    "    x = np.cos(2*angle)\n",
    "    y = np.sin(2*angle)\n",
    "    return Interferometer(np.array([[x,y],[y,-x]]))\n",
    "\n",
    "QWPV = Interferometer(np.exp(1j*pi/4)*np.array([[1,0],[0,-1j]]))\n",
    "QWPH = Interferometer(np.exp(-1j*pi/4)*np.array([[1,0],[0,1j]]))"
   ]
  },
  {
   "cell_type": "code",
   "execution_count": 50,
   "id": "ed392abc",
   "metadata": {},
   "outputs": [],
   "source": [
    "#=========== Circuit construction (for pure states) ============\n",
    "\n",
    "PureStateProg = sf.Program(n_modes)\n",
    "InitialState = PureStateProg.params('InitialState')\n",
    "\n",
    "with PureStateProg.context as q:\n",
    "    # prepare initial state\n",
    "    Ket(InitialState) | q\n",
    "\n",
    "    # Preparation stage\n",
    "    QWPV | (q[0], q[1]) # QWP\n",
    "    BSgate() | (q[0], q[4]) # PPBS for reducing the horizontal amplitude, q[4] is a sinker mode\n",
    "    \n",
    "    # Interferometry\n",
    "    \n",
    "    # Use these two BSgates for tetrad\n",
    "    BSgate() | (q[0], q[2])\n",
    "    BSgate() | (q[1], q[3])\n",
    "    \n",
    "    # Use this PBS for trine\n",
    "    #SWAP | (q[1], q[3]) # PBS1 for trine\n",
    "    \n",
    "    # Use this HWP for tetrad\n",
    "    HWP(pi/4 + 0.5*np.arcsin(1/sqrt(3))) | (q[0], q[1]) # HWP2\n",
    "    \n",
    "    # Use this HWP for trine\n",
    "    #HWP(0.5*np.arcsin(1/np.sqrt(3))) | (q[0], q[1]) # HWP2\n",
    "    \n",
    "    \n",
    "    \n",
    "    #QWPH | (q[2] , q[3]) # HWP3\n",
    "    HWP(pi/4) | (q[2] , q[3]) # HWP3\n",
    "    SWAP | (q[1], q[3]) # PBS3\n",
    "    HWP(pi/4) | (q[2], q[3]) # HWP4\n",
    "\n",
    "    # measure\n",
    "    MeasureFock() | q\n",
    "\n",
    "#=========== Circuit construction (for maximum entropy state) ============\n",
    "    \n",
    "MixedStateProg = sf.Program(n_modes)\n",
    "\n",
    "with MixedStateProg.context as q:\n",
    "    # prepare initial state\n",
    "    MaxMixedState | q\n",
    "\n",
    "    # apply gates\n",
    "    #QWPV | (q[0], q[1]) # QWP\n",
    "    #HWP(alpha/2) | (q[0], q[1]) # HWP1\n",
    "    #HWP(pi/2) | (q[0], q[1])\n",
    "    SWAP | (q[1], q[3]) # PBS1\n",
    "    HWP(opt_wp4_angle) | (q[0], q[1]) # HWP2\n",
    "    #QWPH | (q[2] , q[3]) # HWP3\n",
    "    HWP(pi/4) | (q[2] , q[3]) # HWP3\n",
    "    SWAP | (q[1], q[3]) # PBS3\n",
    "    #HWP(pi/8) | (q[2], q[3]) # HWP4\n",
    "\n",
    "    # measure\n",
    "    MeasureFock() | q\n",
    "    \n",
    "eng = sf.Engine('fock', backend_options={\"cutoff_dim\": cutoff_dim})"
   ]
  },
  {
   "cell_type": "markdown",
   "id": "a78a352d",
   "metadata": {},
   "source": [
    "# Box A Simulation"
   ]
  },
  {
   "cell_type": "code",
   "execution_count": 51,
   "id": "eddd9c24",
   "metadata": {},
   "outputs": [],
   "source": [
    "photons = np.array([\"H\"]*N + [\"V\"]*N)\n",
    "np.random.shuffle(photons)\n",
    "\n",
    "samplesA = []\n",
    "\n",
    "for s in photons:\n",
    "    init_state = StateDict[s]\n",
    "    result = eng.run(PureStateProg, args={'InitialState': init_state})\n",
    "    samplesA.append(str(result.samples[0]))\n",
    "\n",
    "labelsA, countsA = np.unique(samplesA,return_counts=True)"
   ]
  },
  {
   "cell_type": "code",
   "execution_count": 52,
   "id": "a0805ac3",
   "metadata": {
    "scrolled": false
   },
   "outputs": [
    {
     "data": {
      "image/png": "[encoded data removed]",
      "text/plain": [
       "<Figure size 640x480 with 1 Axes>"
      ]
     },
     "metadata": {},
     "output_type": "display_data"
    }
   ],
   "source": [
    "plt.figure()\n",
    "ticksA = range(len(countsA))\n",
    "plt.bar(ticksA,countsA, align='center')\n",
    "plt.xticks(ticksA, labelsA)\n",
    "plt.ylabel(\"Frequency\")\n",
    "plt.show()"
   ]
  },
  {
   "cell_type": "markdown",
   "id": "0da29940",
   "metadata": {},
   "source": [
    "# Box B Simulation"
   ]
  },
  {
   "cell_type": "code",
   "execution_count": 53,
   "id": "303b4433",
   "metadata": {},
   "outputs": [],
   "source": [
    "photons = np.array([\"L\"]*N + [\"R\"]*N)\n",
    "np.random.shuffle(photons)\n",
    "\n",
    "samplesB = []\n",
    "\n",
    "for s in photons:\n",
    "    init_state = StateDict[s]\n",
    "    result = eng.run(PureStateProg, args={'InitialState': init_state})\n",
    "    samplesB.append(str(result.samples[0]))\n",
    "    \n",
    "labelsB, countsB = np.unique(samplesB,return_counts=True)"
   ]
  },
  {
   "cell_type": "code",
   "execution_count": 54,
   "id": "a3242b06",
   "metadata": {},
   "outputs": [
    {
     "data": {
      "image/png": "[encoded data removed]",
      "text/plain": [
       "<Figure size 640x480 with 1 Axes>"
      ]
     },
     "metadata": {},
     "output_type": "display_data"
    }
   ],
   "source": [
    "plt.figure()\n",
    "ticksB = range(len(countsB))\n",
    "plt.bar(ticksB,countsB, align='center')\n",
    "plt.xticks(ticksB, labelsB)\n",
    "plt.ylabel(\"Frequency\")\n",
    "plt.show()"
   ]
  },
  {
   "cell_type": "markdown",
   "id": "e5789b25",
   "metadata": {},
   "source": [
    "# Box C Simulation"
   ]
  },
  {
   "cell_type": "code",
   "execution_count": 187,
   "id": "459dd1d1",
   "metadata": {},
   "outputs": [],
   "source": [
    "samplesC = []\n",
    "\n",
    "for s in photons:\n",
    "    result = eng.run(MixedStateProg)\n",
    "    samplesC.append(str(result.samples[0]))\n",
    "\n",
    "labelsC, countsC = np.unique(samplesC,return_counts=True)"
   ]
  },
  {
   "cell_type": "code",
   "execution_count": 188,
   "id": "0a88d0d1",
   "metadata": {},
   "outputs": [
    {
     "data": {
      "image/png": "[encoded data removed]",
      "text/plain": [
       "<Figure size 640x480 with 1 Axes>"
      ]
     },
     "metadata": {},
     "output_type": "display_data"
    }
   ],
   "source": [
    "plt.figure()\n",
    "ticksC = range(len(countsC))\n",
    "plt.bar(ticksC,countsC, align='center')\n",
    "plt.xticks(ticksC, labelsC)\n",
    "plt.ylabel(\"Frequency\")\n",
    "plt.show()"
   ]
  },
  {
   "cell_type": "markdown",
   "id": "f1b8983e",
   "metadata": {},
   "source": [
    "# All boxes graphs"
   ]
  },
  {
   "cell_type": "code",
   "execution_count": 11,
   "id": "6b2cb211",
   "metadata": {},
   "outputs": [
    {
     "data": {
      "image/png": "[encoded data removed]",
      "text/plain": [
       "<Figure size 1200x400 with 3 Axes>"
      ]
     },
     "metadata": {},
     "output_type": "display_data"
    }
   ],
   "source": [
    "fig, ax = plt.subplots(1, 3, figsize=(12,4))\n",
    "ax[0].set_title(\"Box A\")\n",
    "ax[0].bar(range(2), freqsA[-2:], ec='k',zorder=2)\n",
    "ax[0].grid(zorder=1)\n",
    "ax[0].set_xticks(range(2), [\"C12\",\"C13\"])\n",
    "ax[0].set_ylabel(\"Number of coincidences\")\n",
    "ax[0].set_ylim([0,1300])\n",
    "\n",
    "ax[1].set_title(\"Box B\")\n",
    "ax[1].bar(range(2), freqsB[-2:], ec='k',zorder=2)\n",
    "ax[1].grid(zorder=1)\n",
    "ax[1].set_xticks(range(2), [\"C12\",\"C13\"])\n",
    "ax[1].set_ylim([0,1300])\n",
    "#ax[1].set_ylabel(\"Number of coincidences\")\n",
    "\n",
    "ax[2].set_title(\"Box C\")\n",
    "ax[2].bar(range(2), freqsC[-2:], ec='k',zorder=2)\n",
    "ax[2].grid(zorder=1)\n",
    "ax[2].set_xticks(range(2), [\"C12\",\"C13\"])\n",
    "ax[2].set_ylim([0,1300])\n",
    "#ax[2].set_ylabel(\"Number of coincidences\")\n",
    "\n",
    "plt.tight_layout()\n",
    "plt.show()"
   ]
  }
 ],
 "metadata": {
  "kernelspec": {
   "display_name": "Python 3 (ipykernel)",
   "language": "python",
   "name": "python3"
  },
  "language_info": {
   "codemirror_mode": {
    "name": "ipython",
    "version": 3
   },
   "file_extension": ".py",
   "mimetype": "text/x-python",
   "name": "python",
   "nbconvert_exporter": "python",
   "pygments_lexer": "ipython3",
   "version": "3.10.10"
  }
 },
 "nbformat": 4,
 "nbformat_minor": 5
}
