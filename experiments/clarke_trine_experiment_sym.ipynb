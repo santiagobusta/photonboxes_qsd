{
 "cells": [
  {
   "cell_type": "markdown",
   "id": "65aa4367",
   "metadata": {},
   "source": [
    "# Clarke's trine experiment symbolic simulation for single-photon pure polarization states\n",
    "\n",
    "## Context\n",
    "\n",
    "In this notebook we symbolically compute unitary evolution associated to Clarke's experiment (https://doi.org/10.1103/PhysRevA.63.040305) for minimum-error discrimination between overcomplete single-photon polarization. For this purpose we use the *sympy* package. We test multiple single-photon states at the original input and also different parameters for the optical elements.\n",
    "\n",
    "## Output\n",
    "\n",
    "- Symbolic output photon states\n",
    "- Symbolic output photon distributions"
   ]
  },
  {
   "cell_type": "code",
   "execution_count": 38,
   "id": "29fa7c08",
   "metadata": {},
   "outputs": [],
   "source": [
    "from sympy import *\n",
    "from sympy.physics.quantum import TensorProduct"
   ]
  },
  {
   "cell_type": "code",
   "execution_count": 47,
   "id": "3d490a0a",
   "metadata": {
    "scrolled": true
   },
   "outputs": [],
   "source": [
    "var(\"s1 s2\")\n",
    "var(\"a1 a2 a3 alpha\", real=True)\n",
    "\n",
    "# lower case for 2x2 matrices, upper case for 6x6 matrices\n",
    "\n",
    "opt_a1 = asin(1/sqrt(3))/2\n",
    "\n",
    "S0 = Matrix([s1,s2,0,0]) # initial state vector\n",
    "idd = eye(2)\n",
    "IDD = eye(4)\n",
    "zero = idd*0\n",
    "hwp1 = Matrix([[cos(2*a1),sin(2*a1)],[sin(2*a1),-cos(2*a1)]])\n",
    "hwp2 = Matrix([[cos(2*a2),sin(2*a2)],[sin(2*a2),-cos(2*a2)]]).subs(a2,pi/4)\n",
    "hwp3 = Matrix([[cos(2*a3),sin(2*a3)],[sin(2*a3),-cos(2*a3)]]).subs(a3,pi/8)"
   ]
  },
  {
   "cell_type": "code",
   "execution_count": 48,
   "id": "3506f078",
   "metadata": {},
   "outputs": [],
   "source": [
    "# wave plates\n",
    "HWP1 = Matrix(BlockMatrix([[hwp1,zero],[zero,idd]]))\n",
    "HWP2 = Matrix(BlockMatrix([[idd,zero],[zero,hwp2]]))\n",
    "HWP3 = Matrix(BlockMatrix([[idd,zero],[zero,hwp3]]))\n",
    "\n",
    "# polarizing beam splitter\n",
    "PBS = IDD.copy()\n",
    "PBS[1,1] = PBS[3,3] = 0\n",
    "PBS[1,3] = PBS[3,1] = 1"
   ]
  },
  {
   "cell_type": "code",
   "execution_count": 49,
   "id": "93e94287",
   "metadata": {},
   "outputs": [
    {
     "data": {
      "text/latex": [
       "$\\displaystyle \\left[\\begin{matrix}s_{1} \\cos{\\left(2 a_{1} \\right)}\\\\s_{1} \\sin{\\left(2 a_{1} \\right)}\\\\s_{2}\\\\0\\end{matrix}\\right]$"
      ],
      "text/plain": [
       "Matrix([\n",
       "[s1*cos(2*a1)],\n",
       "[s1*sin(2*a1)],\n",
       "[          s2],\n",
       "[           0]])"
      ]
     },
     "execution_count": 49,
     "metadata": {},
     "output_type": "execute_result"
    }
   ],
   "source": [
    "# Stage 1 (PBS1 and HWP1 and HWP2)\n",
    "\n",
    "S1 = HWP2.multiply(HWP1.multiply(PBS.multiply(S0)))\n",
    "S1"
   ]
  },
  {
   "cell_type": "code",
   "execution_count": 50,
   "id": "a519f72a",
   "metadata": {},
   "outputs": [
    {
     "data": {
      "text/latex": [
       "$\\displaystyle \\left[\\begin{matrix}s_{1} \\cos{\\left(2 a_{1} \\right)}\\\\0\\\\\\frac{\\sqrt{2} s_{1} \\sin{\\left(2 a_{1} \\right)}}{2} + \\frac{\\sqrt{2} s_{2}}{2}\\\\- \\frac{\\sqrt{2} s_{1} \\sin{\\left(2 a_{1} \\right)}}{2} + \\frac{\\sqrt{2} s_{2}}{2}\\end{matrix}\\right]$"
      ],
      "text/plain": [
       "Matrix([\n",
       "[                          s1*cos(2*a1)],\n",
       "[                                     0],\n",
       "[ sqrt(2)*s1*sin(2*a1)/2 + sqrt(2)*s2/2],\n",
       "[-sqrt(2)*s1*sin(2*a1)/2 + sqrt(2)*s2/2]])"
      ]
     },
     "execution_count": 50,
     "metadata": {},
     "output_type": "execute_result"
    }
   ],
   "source": [
    "# Stage 2 (PBS2 and PBS3 and HWP3)\n",
    "\n",
    "S_test = HWP3.multiply(PBS.multiply(S1))\n",
    "S_test"
   ]
  },
  {
   "cell_type": "markdown",
   "id": "5b1563ef",
   "metadata": {},
   "source": [
    "# For specific input states"
   ]
  },
  {
   "cell_type": "code",
   "execution_count": 51,
   "id": "7d50a4e7",
   "metadata": {},
   "outputs": [
    {
     "data": {
      "text/latex": [
       "$\\displaystyle \\left[\\begin{matrix}\\cos{\\left(2 a_{1} \\right)}\\\\0\\\\\\frac{\\sqrt{2} \\sin{\\left(2 a_{1} \\right)}}{2}\\\\- \\frac{\\sqrt{2} \\sin{\\left(2 a_{1} \\right)}}{2}\\end{matrix}\\right]$"
      ],
      "text/plain": [
       "Matrix([\n",
       "[           cos(2*a1)],\n",
       "[                   0],\n",
       "[ sqrt(2)*sin(2*a1)/2],\n",
       "[-sqrt(2)*sin(2*a1)/2]])"
      ]
     },
     "execution_count": 51,
     "metadata": {},
     "output_type": "execute_result"
    }
   ],
   "source": [
    "SH = S_test.subs([(s1,1),(s2,0)]) # Horizontal photon (third trine state)\n",
    "simplify(SH)"
   ]
  },
  {
   "cell_type": "code",
   "execution_count": 52,
   "id": "b360bfb9",
   "metadata": {},
   "outputs": [
    {
     "data": {
      "text/latex": [
       "$\\displaystyle \\left[\\begin{matrix}0\\\\0\\\\\\frac{\\sqrt{2}}{2}\\\\\\frac{\\sqrt{2}}{2}\\end{matrix}\\right]$"
      ],
      "text/plain": [
       "Matrix([\n",
       "[        0],\n",
       "[        0],\n",
       "[sqrt(2)/2],\n",
       "[sqrt(2)/2]])"
      ]
     },
     "execution_count": 52,
     "metadata": {},
     "output_type": "execute_result"
    }
   ],
   "source": [
    "SV = S_test.subs([(s1,0),(s2,1)]) # Vertical photon (third antitrine state)\n",
    "simplify(SV)"
   ]
  },
  {
   "cell_type": "code",
   "execution_count": 53,
   "id": "271d0e53",
   "metadata": {},
   "outputs": [
    {
     "data": {
      "text/latex": [
       "$\\displaystyle \\left[\\begin{matrix}\\frac{\\cos{\\left(2 a_{1} \\right)}}{2}\\\\0\\\\\\frac{\\sqrt{2} \\sin{\\left(2 a_{1} \\right)}}{4} + \\frac{\\sqrt{6}}{4}\\\\- \\frac{\\sqrt{2} \\sin{\\left(2 a_{1} \\right)}}{4} + \\frac{\\sqrt{6}}{4}\\end{matrix}\\right]$"
      ],
      "text/plain": [
       "Matrix([\n",
       "[                     cos(2*a1)/2],\n",
       "[                               0],\n",
       "[ sqrt(2)*sin(2*a1)/4 + sqrt(6)/4],\n",
       "[-sqrt(2)*sin(2*a1)/4 + sqrt(6)/4]])"
      ]
     },
     "execution_count": 53,
     "metadata": {},
     "output_type": "execute_result"
    }
   ],
   "source": [
    "SL = S_test.subs([(s1,Rational(1,2)),(s2,sqrt(3)*Rational(1,2))]) # first trine state\n",
    "simplify(SL)"
   ]
  },
  {
   "cell_type": "code",
   "execution_count": 54,
   "id": "6a1d4f77",
   "metadata": {},
   "outputs": [
    {
     "data": {
      "text/latex": [
       "$\\displaystyle \\left[\\begin{matrix}\\frac{\\cos{\\left(2 a_{1} \\right)}}{2}\\\\0\\\\\\frac{\\sqrt{2} \\sin{\\left(2 a_{1} \\right)}}{4} - \\frac{\\sqrt{6}}{4}\\\\- \\frac{\\sqrt{2} \\sin{\\left(2 a_{1} \\right)}}{4} - \\frac{\\sqrt{6}}{4}\\end{matrix}\\right]$"
      ],
      "text/plain": [
       "Matrix([\n",
       "[                     cos(2*a1)/2],\n",
       "[                               0],\n",
       "[ sqrt(2)*sin(2*a1)/4 - sqrt(6)/4],\n",
       "[-sqrt(2)*sin(2*a1)/4 - sqrt(6)/4]])"
      ]
     },
     "execution_count": 54,
     "metadata": {},
     "output_type": "execute_result"
    }
   ],
   "source": [
    "SR = S_test.subs([(s1,Rational(1,2)),(s2,-sqrt(3)*Rational(1,2))]) # second trine state\n",
    "simplify(SR)"
   ]
  },
  {
   "cell_type": "code",
   "execution_count": null,
   "id": "e4203dab",
   "metadata": {},
   "outputs": [],
   "source": []
  }
 ],
 "metadata": {
  "kernelspec": {
   "display_name": "Python 3 (ipykernel)",
   "language": "python",
   "name": "python3"
  },
  "language_info": {
   "codemirror_mode": {
    "name": "ipython",
    "version": 3
   },
   "file_extension": ".py",
   "mimetype": "text/x-python",
   "name": "python",
   "nbconvert_exporter": "python",
   "pygments_lexer": "ipython3",
   "version": "3.10.10"
  }
 },
 "nbformat": 4,
 "nbformat_minor": 5
}
