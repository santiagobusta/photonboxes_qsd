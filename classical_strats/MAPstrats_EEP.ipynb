{
 "cells": [
  {
   "cell_type": "markdown",
   "id": "cf2197da",
   "metadata": {},
   "source": [
    "# Expected error probabilities of the classical maximum a posteriori strategies"
   ]
  },
  {
   "cell_type": "code",
   "execution_count": 1,
   "id": "96bcf7ce",
   "metadata": {},
   "outputs": [],
   "source": [
    "import numpy as np\n",
    "import matplotlib.pyplot as plt\n",
    "from scipy.special import comb, binom"
   ]
  },
  {
   "cell_type": "code",
   "execution_count": 2,
   "id": "5f6cd52a",
   "metadata": {},
   "outputs": [],
   "source": [
    "# box and measurement parameters\n",
    "N = 100 # half number of photons per box\n",
    "alpha = 0"
   ]
  },
  {
   "cell_type": "code",
   "execution_count": 50,
   "id": "72a7039b",
   "metadata": {},
   "outputs": [],
   "source": [
    "def likelihood( n , N = 1 , alpha = 0., box = \"A\"):\n",
    "\n",
    "    P = np.zeros_like(n, dtype=\"float64\")\n",
    "    \n",
    "    if box == \"C\":\n",
    "        P += 2**(-2*N)*comb(2*N , n)\n",
    "    else:\n",
    "        if box == \"A\": p = np.cos(np.pi/8 + alpha)**2\n",
    "        elif box == \"B\": p = np.cos(np.pi/8 - alpha)**2\n",
    "        \n",
    "        q = 1 - p\n",
    "        \n",
    "        kmin = np.maximum(0, n-N)\n",
    "        kmax = np.minimum(n, N)\n",
    "        \n",
    "        for j in range(len(n)):\n",
    "            for k in range(kmin[j],kmax[j] + 1):\n",
    "                P[j] += comb(N , k)*comb(N, n[j] - k)*np.power(p, N - n[j] + 2*k)*np.power(q, N + n[j] - 2*k)\n",
    "    \n",
    "    return P\n",
    "\n",
    "def EEP( LHA, LHB, LHC ): # expected error probability\n",
    "    \n",
    "    # inferring events when the maximum likelihood is well defined\n",
    "    Ainfer_event = (LHA>LHB)*(LHA>LHC)\n",
    "    Binfer_event = (LHB>LHA)*(LHB>LHC)\n",
    "    Cinfer_event = (LHC>LHA)*(LHC>LHB)\n",
    "    \n",
    "    ABcoincidence = (LHA==LHB)*(LHA!=LHC)\n",
    "    ACcoincidence = (LHA==LHC)*(LHA!=LHB)\n",
    "    BCcoincidence = (LHB==LHC)*(LHA!=LHB)\n",
    "    \n",
    "    ABCcoincidence = (LHA==LHB)*(LHA==LHC)\n",
    "    \n",
    "    # EXPECTED CONDITIONAL SUCCESS PROBABILITIES\n",
    "    ESPA = LHA[Ainfer_event].sum() # when the maximum likelihood is evidently A, infer A correctly\n",
    "    ESPA += LHA[ABcoincidence].sum()/2+LHA[ACcoincidence].sum()/2. # when two likelihoods are equal, throw a dice\n",
    "    ESPA += LHA[ABCcoincidence].sum()/3 # when the three likelihoods are equal, throw a three sided dice\n",
    "    \n",
    "    ESPB = LHB[Binfer_event].sum() # when the maximum likelihood is evidently B, infer B correctly\n",
    "    ESPB += LHB[ABcoincidence].sum()/2+LHB[BCcoincidence].sum()/2. # when two likelihoods are equal, throw a dice\n",
    "    ESPB += LHB[ABCcoincidence].sum()/3 # when the three likelihoods are equal, throw a three sided dice\n",
    "    \n",
    "    ESPC = LHC[Cinfer_event].sum() # when the maximum likelihood is evidently C, infer C correctly\n",
    "    ESPC += LHC[ACcoincidence].sum()/2+LHC[BCcoincidence].sum()/2. # when two likelihoods are equal, throw a dice\n",
    "    ESPC += LHC[ABCcoincidence].sum()/3 # when the three likelihoods are equal, throw a three sided dice\n",
    "    \n",
    "    EEP_dict = {\n",
    "        \"A\": 1 - ESPA,\n",
    "        \"B\": 1 - ESPB,\n",
    "        \"C\": 1 - ESPC,\n",
    "        \"Overall\": 1 - (ESPA+ESPB+ESPC)/3.\n",
    "    }\n",
    "    \n",
    "    return EEP_dict"
   ]
  },
  {
   "cell_type": "code",
   "execution_count": 4,
   "id": "30e7bcd8",
   "metadata": {},
   "outputs": [],
   "source": [
    "LHA = likelihood(np.arange(2*N), N, alpha, box=\"A\")\n",
    "LHB = likelihood(np.arange(2*N), N, alpha, box=\"B\")\n",
    "LHC = likelihood(np.arange(2*N), N, alpha, box=\"C\")"
   ]
  },
  {
   "cell_type": "code",
   "execution_count": 5,
   "id": "b775f213",
   "metadata": {},
   "outputs": [
    {
     "data": {
      "text/plain": [
       "[<matplotlib.lines.Line2D at 0x1f63b90b970>]"
      ]
     },
     "execution_count": 5,
     "metadata": {},
     "output_type": "execute_result"
    },
    {
     "data": {
      "image/png": "[encoded data removed]",
      "text/plain": [
       "<Figure size 640x480 with 1 Axes>"
      ]
     },
     "metadata": {},
     "output_type": "display_data"
    }
   ],
   "source": [
    "plt.plot(np.arange(2*N), LHA)\n",
    "plt.plot(np.arange(2*N), LHB)\n",
    "plt.plot(np.arange(2*N), LHC)"
   ]
  },
  {
   "cell_type": "markdown",
   "id": "d68b7f42",
   "metadata": {},
   "source": [
    "# For varying values of alpha, fixed N"
   ]
  },
  {
   "cell_type": "code",
   "execution_count": null,
   "id": "e6e46da4",
   "metadata": {},
   "outputs": [],
   "source": [
    "n_alphas = 101\n",
    "alpha_range = np.linspace(-np.pi/8, np.pi/8, n_alphas)\n",
    "N = 150\n",
    "\n",
    "EEPs = np.zeros((n_alphas,4), dtype=\"object\")\n",
    "\n",
    "for j in range(n_alphas):\n",
    "    LHA = np.round(likelihood(np.arange(2*N), N, alpha_range[j], box=\"A\"), 12)\n",
    "    LHB = np.round(likelihood(np.arange(2*N), N, alpha_range[j], box=\"B\"), 12)\n",
    "    LHC = np.round(likelihood(np.arange(2*N), N, alpha_range[j], box=\"C\"), 12)\n",
    "    \n",
    "    EEPs[j] = np.array(list(EEP(LHA,LHB,LHC).values()))\n",
    "    \n",
    "np.save(\"EEP3BPvsAlpha_N{:d}.npy\".format(2*N), EEPs)"
   ]
  },
  {
   "cell_type": "code",
   "execution_count": null,
   "id": "2e992a78",
   "metadata": {},
   "outputs": [],
   "source": [
    "plt.plot(alpha_range,EEPs)"
   ]
  },
  {
   "cell_type": "code",
   "execution_count": null,
   "id": "8b3b00f6",
   "metadata": {},
   "outputs": [],
   "source": []
  }
 ],
 "metadata": {
  "kernelspec": {
   "display_name": "Python 3 (ipykernel)",
   "language": "python",
   "name": "python3"
  },
  "language_info": {
   "codemirror_mode": {
    "name": "ipython",
    "version": 3
   },
   "file_extension": ".py",
   "mimetype": "text/x-python",
   "name": "python",
   "nbconvert_exporter": "python",
   "pygments_lexer": "ipython3",
   "version": "3.10.10"
  }
 },
 "nbformat": 4,
 "nbformat_minor": 5
}
