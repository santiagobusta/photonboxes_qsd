{
 "cells": [
  {
   "cell_type": "markdown",
   "id": "1bd6ebdb",
   "metadata": {},
   "source": [
    "# Symbolic minimum-error discrimination eigensystem for the two-box problem\n",
    "\n",
    "## Context\n",
    "\n",
    "In this notebook the eigensystem which leads to the optimal measurement for minimum-error discrimination (MD) for the two-box problem (2BP) is symbolically computed using the standard sympy methods\n",
    "\n",
    "## Outputs\n",
    "\n",
    "- Symbolically computed optimal measurement vectors for the 2BP\n",
    "- Symbolically computed minimum expected error probability"
   ]
  },
  {
   "cell_type": "code",
   "execution_count": 43,
   "id": "d841cb07",
   "metadata": {},
   "outputs": [],
   "source": [
    "import numpy as np\n",
    "import matplotlib.pyplot as plt\n",
    "import pickle\n",
    "from sympy.matrices import Matrix\n",
    "from sympy import Rational, simplify, sqrt, Abs\n",
    "from sympy.physics.quantum import TensorProduct"
   ]
  },
  {
   "cell_type": "code",
   "execution_count": 44,
   "id": "46a18bb9",
   "metadata": {},
   "outputs": [],
   "source": [
    "# functions\n",
    "\n",
    "def gram_schmidt(V): # gram-schmidt orthonormalization\n",
    "    orthogonal = []\n",
    "\n",
    "    for i in range(len(V)):\n",
    "        v = V[i].copy()\n",
    "        \n",
    "        for j in range(i):\n",
    "            v = v - (v.T.conjugate() * orthogonal[j])[0] * orthogonal[j]\n",
    "        \n",
    "        v = v / sqrt((v.T.conjugate() * v)[0])\n",
    "        orthogonal.append(v)\n",
    "    \n",
    "    return orthogonal"
   ]
  },
  {
   "cell_type": "code",
   "execution_count": 76,
   "id": "6a5db01b",
   "metadata": {},
   "outputs": [],
   "source": [
    "# simulation parameters\n",
    "\n",
    "n = 4 # half-number of photons\n",
    "N = 2*n # total number of photons\n",
    "d = 2**N # hilbert space dimension\n",
    "etaA = Rational(1,2) # prior probability of box A\n",
    "etaB = 1-etaA # prior probability of box B"
   ]
  },
  {
   "cell_type": "code",
   "execution_count": 77,
   "id": "dc6ded4b",
   "metadata": {},
   "outputs": [],
   "source": [
    "# load full density matrices\n",
    "\n",
    "with open(\"../full_density_matrices/rhoA_N{:d}_sym.bin\".format(N),\"rb\") as inf:\n",
    "    rhoA = pickle.load(inf)\n",
    "\n",
    "with open(\"../full_density_matrices/rhoB_N{:d}_sym.bin\".format(N),\"rb\") as inf:\n",
    "    rhoB = pickle.load(inf)"
   ]
  },
  {
   "cell_type": "code",
   "execution_count": 78,
   "id": "d024fa85",
   "metadata": {},
   "outputs": [],
   "source": [
    "# compute optimal measurement matrix\n",
    "\n",
    "lamda = etaB*rhoB - etaA*rhoA"
   ]
  },
  {
   "cell_type": "code",
   "execution_count": 79,
   "id": "f2f53b8a",
   "metadata": {},
   "outputs": [],
   "source": [
    "# compute eigensystem\n",
    "\n",
    "vecs = lamda.eigenvects()"
   ]
  },
  {
   "cell_type": "code",
   "execution_count": 80,
   "id": "9de61ccf",
   "metadata": {
    "scrolled": false
   },
   "outputs": [],
   "source": [
    "# sort eigenvalues and eigenvectors\n",
    "\n",
    "eigvals = np.array([], dtype='object')\n",
    "eigvecs = []\n",
    "counter = 0\n",
    "\n",
    "for i in range(len(vecs)):\n",
    "    #print(\"Eigenvalue:\\t\", vecs[i][0]) # uncomment to check eigenvalues\n",
    "    #print(\"Multiplicity:\\t\", vecs[i][1] ) # uncomment to check multiplicity of eigenvalues\n",
    "    \n",
    "    for j in range(vecs[i][1]):\n",
    "        eigvals = np.concatenate((eigvals, [vecs[i][0]]))\n",
    "        vec = vecs[i][2][j]\n",
    "        \n",
    "        A = vec.T.conjugate() * vec\n",
    "        vec = vec/sqrt(A[0])\n",
    "        eigvecs.append(vec)\n",
    "        \n",
    "        #vec = np.array(vec).flatten().astype(np.float64)\n",
    "        #print(vec)\n",
    "        #eigvecs[:,counter] = vec\n",
    "        \n",
    "        counter += 1\n",
    "    #print(\"\\n\")\n",
    "\n",
    "inds = eigvals.argsort()\n",
    "eigvals = eigvals[inds[::-1]] # sort in decreasing order\n",
    "eigvecs = np.array(eigvecs)[inds[::-1]]"
   ]
  },
  {
   "cell_type": "code",
   "execution_count": 81,
   "id": "8285087d",
   "metadata": {},
   "outputs": [],
   "source": [
    "# find orthonormal bases for the positive, negative and null eigenspaces\n",
    "\n",
    "orthonormalize = False # the gram-schmidt process can take too much time for n > 2 (N > 4) and not necessary\n",
    "\n",
    "if orthonormalize:\n",
    "    pos_vecs = eigvecs[eigvals > 0]\n",
    "    pos_vecs = [Matrix(a) for a in pos_vecs]\n",
    "    pos_vecs = gram_schmidt(pos_vecs)\n",
    "    nul_vecs = eigvecs[eigvals == 0]\n",
    "    nul_vecs = [Matrix(a) for a in nul_vecs]\n",
    "    nul_vecs = gram_schmidt(nul_vecs)\n",
    "    neg_vecs = eigvecs[eigvals < 0]\n",
    "    neg_vecs = [Matrix(a) for a in neg_vecs]\n",
    "    neg_vecs = gram_schmidt(neg_vecs)\n",
    "    new_eigvecs = pos_vecs+nul_vecs+neg_vecs\n",
    "else:\n",
    "    new_eigvecs = eigvecs"
   ]
  },
  {
   "cell_type": "code",
   "execution_count": 82,
   "id": "bbc12c4c",
   "metadata": {
    "scrolled": false
   },
   "outputs": [],
   "source": [
    "# visualize orthonormalized eigenvectors\n",
    "\n",
    "visualize = False # visualization can be too consuming for n > 2 (N > 4) and not necessary\n",
    "\n",
    "if visualize:\n",
    "    for v in new_eigvecs: display(simplify(v.T))"
   ]
  },
  {
   "cell_type": "code",
   "execution_count": 83,
   "id": "11913525",
   "metadata": {},
   "outputs": [],
   "source": [
    "# save eigenvalues and eigenvectors in binary files\n",
    "\n",
    "with open(\"../data/eigvals_md_2bp_sym_N{:d}.bin\".format(N), \"wb\") as outf:\n",
    "    pickle.dump(eigvals, outf)\n",
    "    \n",
    "with open(\"../data/eigvecs_md_2bp_sym_N{:d}.bin\".format(N), \"wb\") as outf:\n",
    "    pickle.dump(new_eigvecs, outf)"
   ]
  },
  {
   "cell_type": "code",
   "execution_count": 84,
   "id": "1e9a82e5",
   "metadata": {},
   "outputs": [
    {
     "name": "stdout",
     "output_type": "stream",
     "text": [
      "-sqrt(3)/14 - sqrt(55)/1120 + 1/4\n"
     ]
    }
   ],
   "source": [
    "# save the minimum expected error probability\n",
    "\n",
    "Perr = 0\n",
    "for v in eigvals: Perr += Abs(v)\n",
    "Perr = (1 - Perr)*Rational(1,2)\n",
    "print(Perr)\n",
    "np.savetxt(\"../data/perr_md_2bp_sym_N{:d}.txt\".format(N), [Perr]) # save numerical (not symbolic) value"
   ]
  },
  {
   "cell_type": "code",
   "execution_count": 85,
   "id": "29dd0bd4",
   "metadata": {},
   "outputs": [
    {
     "data": {
      "text/latex": [
       "$\\displaystyle - \\frac{\\sqrt{3}}{14} - \\frac{\\sqrt{55}}{1120} + \\frac{1}{4}$"
      ],
      "text/plain": [
       "-sqrt(3)/14 - sqrt(55)/1120 + 1/4"
      ]
     },
     "execution_count": 85,
     "metadata": {},
     "output_type": "execute_result"
    }
   ],
   "source": [
    "Perr"
   ]
  }
 ],
 "metadata": {
  "kernelspec": {
   "display_name": "Python 3 (ipykernel)",
   "language": "python",
   "name": "python3"
  },
  "language_info": {
   "codemirror_mode": {
    "name": "ipython",
    "version": 3
   },
   "file_extension": ".py",
   "mimetype": "text/x-python",
   "name": "python",
   "nbconvert_exporter": "python",
   "pygments_lexer": "ipython3",
   "version": "3.10.10"
  }
 },
 "nbformat": 4,
 "nbformat_minor": 5
}
