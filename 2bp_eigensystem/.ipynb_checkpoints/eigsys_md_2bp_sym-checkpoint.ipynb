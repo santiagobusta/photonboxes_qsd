{
 "cells": [
  {
   "cell_type": "code",
   "execution_count": null,
   "id": "15491268",
   "metadata": {},
   "outputs": [],
   "source": []
  },
  {
   "cell_type": "code",
   "execution_count": 1,
   "id": "d841cb07",
   "metadata": {},
   "outputs": [],
   "source": [
    "import numpy as np\n",
    "import matplotlib.pyplot as plt\n",
    "from scipy.special import comb, binom\n",
    "from itertools import combinations\n",
    "from sympy.matrices import Matrix\n",
    "from sympy import Rational, simplify, sqrt"
   ]
  },
  {
   "cell_type": "code",
   "execution_count": 2,
   "id": "c86f3db4",
   "metadata": {},
   "outputs": [],
   "source": [
    "def gram_schmidt(V):\n",
    "    # Orthogonalized, To Be Returned\n",
    "    orthogonal = []\n",
    "\n",
    "    # At each step, take vector\n",
    "    for i in range(len(V)):\n",
    "        v = V[i].copy()\n",
    "        \n",
    "        # Subtract off the \"components\" from current orthogonal set.\n",
    "        for j in range(i):\n",
    "            v = v - (v.T.conjugate() * orthogonal[j])[0] * orthogonal[j]\n",
    "        \n",
    "        # Normalization\n",
    "        v = v / sqrt((v.T.conjugate() * v)[0])\n",
    "        orthogonal.append(v)\n",
    "    \n",
    "    return orthogonal"
   ]
  },
  {
   "cell_type": "code",
   "execution_count": 3,
   "id": "6a5db01b",
   "metadata": {},
   "outputs": [
    {
     "name": "stdout",
     "output_type": "stream",
     "text": [
      "['V', 'V', 'V', 'V']\n"
     ]
    }
   ],
   "source": [
    "n = 2 # Half-number of photons\n",
    "N = 2*n\n",
    "d = 2**N # Hilbert space dimension\n",
    "C = comb(N,n)\n",
    "S = [\"V\"]*2*n\n",
    "L = np.arange(N)\n",
    "print(S)"
   ]
  },
  {
   "cell_type": "code",
   "execution_count": 4,
   "id": "9742ac5b",
   "metadata": {},
   "outputs": [
    {
     "data": {
      "text/plain": [
       "True"
      ]
     },
     "execution_count": 4,
     "metadata": {},
     "output_type": "execute_result"
    }
   ],
   "source": [
    "comb_list = []\n",
    "\n",
    "for c in combinations(L,n):\n",
    "    s = np.copy(S)\n",
    "    for i in c: s[i] = 'H'\n",
    "    comb_list.append(s)\n",
    "    \n",
    "len(comb_list) == C"
   ]
  },
  {
   "cell_type": "code",
   "execution_count": 5,
   "id": "c3f34005",
   "metadata": {
    "scrolled": false
   },
   "outputs": [
    {
     "name": "stdout",
     "output_type": "stream",
     "text": [
      "H H V V\n",
      "H V H V\n",
      "H V V H\n",
      "V H H V\n",
      "V H V H\n",
      "V V H H\n"
     ]
    },
    {
     "name": "stderr",
     "output_type": "stream",
     "text": [
      "C:\\Users\\ACER\\AppData\\Local\\Temp\\ipykernel_13384\\2811271560.py:21: ComplexWarning: Casting complex values to real discards the imaginary part\n",
      "  rhoB = Matrix(np.round(rhoB*8,10).astype(\"int\"))*Rational(1,8*C)\n"
     ]
    }
   ],
   "source": [
    "H = np.array([1,0]); V = np.array([0,1])\n",
    "L = np.array([1,1j])/np.sqrt(2); R = np.array([1,-1j])/np.sqrt(2)\n",
    "get_vecA = {\"H\" : H, \"V\" : V}\n",
    "get_vecB = {\"H\" : L, \"V\" : R}\n",
    "rhoA = 0\n",
    "rhoB = 0\n",
    "\n",
    "for c in comb_list:\n",
    "    print(*c)\n",
    "    vec = 1\n",
    "    \n",
    "    [vec := np.outer(vec,get_vecA[l]).flatten() for l in c]\n",
    "    rhoA += np.outer(vec,np.conjugate(vec))\n",
    "    \n",
    "    vec = 1\n",
    "    \n",
    "    [vec := np.outer(vec,get_vecB[l]).flatten() for l in c]\n",
    "    rhoB += np.outer(vec,np.conjugate(vec))\n",
    "\n",
    "rhoA = Matrix(np.round(rhoA,10))*Rational(1,C)\n",
    "rhoB = Matrix(np.round(rhoB*8,10).astype(\"int\"))*Rational(1,8*C)"
   ]
  },
  {
   "cell_type": "code",
   "execution_count": 6,
   "id": "d024fa85",
   "metadata": {},
   "outputs": [],
   "source": [
    "L = (rhoB-rhoA)*Rational(1,2)\n",
    "vecs = L.eigenvects()"
   ]
  },
  {
   "cell_type": "code",
   "execution_count": 7,
   "id": "9de61ccf",
   "metadata": {
    "scrolled": false
   },
   "outputs": [
    {
     "name": "stdout",
     "output_type": "stream",
     "text": [
      "Eigenvalue:\t -1/12\n",
      "Multiplicity:\t 3\n",
      "\n",
      "\n",
      "Eigenvalue:\t 0\n",
      "Multiplicity:\t 8\n",
      "\n",
      "\n",
      "Eigenvalue:\t 1/12\n",
      "Multiplicity:\t 3\n",
      "\n",
      "\n",
      "Eigenvalue:\t -sqrt(3)/24\n",
      "Multiplicity:\t 1\n",
      "\n",
      "\n",
      "Eigenvalue:\t sqrt(3)/24\n",
      "Multiplicity:\t 1\n",
      "\n",
      "\n"
     ]
    }
   ],
   "source": [
    "eigvals = np.array([], dtype='object')\n",
    "eigvecs = []\n",
    "counter = 0\n",
    "\n",
    "for i in range(len(vecs)):\n",
    "    print(\"Eigenvalue:\\t\", vecs[i][0])\n",
    "    print(\"Multiplicity:\\t\", vecs[i][1] )\n",
    "    \n",
    "    for j in range(vecs[i][1]):\n",
    "        eigvals = np.concatenate((eigvals, [vecs[i][0]]))\n",
    "        vec = vecs[i][2][j]\n",
    "        \n",
    "        A = vec.T.conjugate() * vec\n",
    "        vec = vec/sqrt(A[0])\n",
    "        eigvecs.append(vec)\n",
    "        \n",
    "        #vec = np.array(vec).flatten().astype(np.float64)\n",
    "        #print(vec)\n",
    "        #eigvecs[:,counter] = vec\n",
    "        \n",
    "        counter += 1\n",
    "    print(\"\\n\")\n",
    "\n",
    "inds = eigvals.argsort()\n",
    "eigvals = eigvals[inds[::-1]]\n",
    "eigvecs = np.array(eigvecs)[inds[::-1]]"
   ]
  },
  {
   "cell_type": "code",
   "execution_count": 8,
   "id": "8285087d",
   "metadata": {},
   "outputs": [],
   "source": [
    "pos_vecs = eigvecs[eigvals > 0]\n",
    "pos_vecs = [Matrix(a) for a in pos_vecs]\n",
    "pos_vecs = gram_schmidt(pos_vecs)\n",
    "nul_vecs = eigvecs[eigvals == 0]\n",
    "nul_vecs = [Matrix(a) for a in nul_vecs]\n",
    "nul_vecs = gram_schmidt(nul_vecs)\n",
    "neg_vecs = eigvecs[eigvals < 0]\n",
    "neg_vecs = [Matrix(a) for a in neg_vecs]\n",
    "neg_vecs = gram_schmidt(neg_vecs)\n",
    "\n",
    "new_eigvecs = pos_vecs+nul_vecs+neg_vecs"
   ]
  },
  {
   "cell_type": "code",
   "execution_count": 9,
   "id": "f9d27950",
   "metadata": {},
   "outputs": [],
   "source": [
    "Id = Matrix([[0]*16]).T * Matrix([[0]*16])\n",
    "for v in new_eigvecs:\n",
    "    Id += v * v.T.conjugate()"
   ]
  },
  {
   "cell_type": "code",
   "execution_count": 10,
   "id": "b43a1f17",
   "metadata": {
    "scrolled": false
   },
   "outputs": [
    {
     "data": {
      "text/latex": [
       "$\\displaystyle \\left[\\begin{array}{cccccccccccccccc}1 & 0 & 0 & 0 & 0 & 0 & 0 & 0 & 0 & 0 & 0 & 0 & 0 & 0 & 0 & 0\\\\0 & 1 & 0 & 0 & 0 & 0 & 0 & 0 & 0 & 0 & 0 & 0 & 0 & 0 & 0 & 0\\\\0 & 0 & 1 & 0 & 0 & 0 & 0 & 0 & 0 & 0 & 0 & 0 & 0 & 0 & 0 & 0\\\\0 & 0 & 0 & 1 & 0 & 0 & 0 & 0 & 0 & 0 & 0 & 0 & 0 & 0 & 0 & 0\\\\0 & 0 & 0 & 0 & 1 & 0 & 0 & 0 & 0 & 0 & 0 & 0 & 0 & 0 & 0 & 0\\\\0 & 0 & 0 & 0 & 0 & 1 & 0 & 0 & 0 & 0 & 0 & 0 & 0 & 0 & 0 & 0\\\\0 & 0 & 0 & 0 & 0 & 0 & 1 & 0 & 0 & 0 & 0 & 0 & 0 & 0 & 0 & 0\\\\0 & 0 & 0 & 0 & 0 & 0 & 0 & 1 & 0 & 0 & 0 & 0 & 0 & 0 & 0 & 0\\\\0 & 0 & 0 & 0 & 0 & 0 & 0 & 0 & 1 & 0 & 0 & 0 & 0 & 0 & 0 & 0\\\\0 & 0 & 0 & 0 & 0 & 0 & 0 & 0 & 0 & 1 & 0 & 0 & 0 & 0 & 0 & 0\\\\0 & 0 & 0 & 0 & 0 & 0 & 0 & 0 & 0 & 0 & 1 & 0 & 0 & 0 & 0 & 0\\\\0 & 0 & 0 & 0 & 0 & 0 & 0 & 0 & 0 & 0 & 0 & 1 & 0 & 0 & 0 & 0\\\\0 & 0 & 0 & 0 & 0 & 0 & 0 & 0 & 0 & 0 & 0 & 0 & 1 & 0 & 0 & 0\\\\0 & 0 & 0 & 0 & 0 & 0 & 0 & 0 & 0 & 0 & 0 & 0 & 0 & 1 & 0 & 0\\\\0 & 0 & 0 & 0 & 0 & 0 & 0 & 0 & 0 & 0 & 0 & 0 & 0 & 0 & 1 & 0\\\\0 & 0 & 0 & 0 & 0 & 0 & 0 & 0 & 0 & 0 & 0 & 0 & 0 & 0 & 0 & 1\\end{array}\\right]$"
      ],
      "text/plain": [
       "Matrix([\n",
       "[1, 0, 0, 0, 0, 0, 0, 0, 0, 0, 0, 0, 0, 0, 0, 0],\n",
       "[0, 1, 0, 0, 0, 0, 0, 0, 0, 0, 0, 0, 0, 0, 0, 0],\n",
       "[0, 0, 1, 0, 0, 0, 0, 0, 0, 0, 0, 0, 0, 0, 0, 0],\n",
       "[0, 0, 0, 1, 0, 0, 0, 0, 0, 0, 0, 0, 0, 0, 0, 0],\n",
       "[0, 0, 0, 0, 1, 0, 0, 0, 0, 0, 0, 0, 0, 0, 0, 0],\n",
       "[0, 0, 0, 0, 0, 1, 0, 0, 0, 0, 0, 0, 0, 0, 0, 0],\n",
       "[0, 0, 0, 0, 0, 0, 1, 0, 0, 0, 0, 0, 0, 0, 0, 0],\n",
       "[0, 0, 0, 0, 0, 0, 0, 1, 0, 0, 0, 0, 0, 0, 0, 0],\n",
       "[0, 0, 0, 0, 0, 0, 0, 0, 1, 0, 0, 0, 0, 0, 0, 0],\n",
       "[0, 0, 0, 0, 0, 0, 0, 0, 0, 1, 0, 0, 0, 0, 0, 0],\n",
       "[0, 0, 0, 0, 0, 0, 0, 0, 0, 0, 1, 0, 0, 0, 0, 0],\n",
       "[0, 0, 0, 0, 0, 0, 0, 0, 0, 0, 0, 1, 0, 0, 0, 0],\n",
       "[0, 0, 0, 0, 0, 0, 0, 0, 0, 0, 0, 0, 1, 0, 0, 0],\n",
       "[0, 0, 0, 0, 0, 0, 0, 0, 0, 0, 0, 0, 0, 1, 0, 0],\n",
       "[0, 0, 0, 0, 0, 0, 0, 0, 0, 0, 0, 0, 0, 0, 1, 0],\n",
       "[0, 0, 0, 0, 0, 0, 0, 0, 0, 0, 0, 0, 0, 0, 0, 1]])"
      ]
     },
     "execution_count": 10,
     "metadata": {},
     "output_type": "execute_result"
    }
   ],
   "source": [
    "simplify(Id)"
   ]
  },
  {
   "cell_type": "code",
   "execution_count": 14,
   "id": "bbc12c4c",
   "metadata": {
    "scrolled": false
   },
   "outputs": [
    {
     "data": {
      "text/latex": [
       "$\\displaystyle \\left[\\begin{array}{cccccccccccccccc}0 & - \\frac{1}{2} & 0 & 0 & 0 & 0 & 0 & - \\frac{1}{2} & \\frac{1}{2} & 0 & 0 & 0 & 0 & 0 & \\frac{1}{2} & 0\\end{array}\\right]$"
      ],
      "text/plain": [
       "Matrix([[0, -1/2, 0, 0, 0, 0, 0, -1/2, 1/2, 0, 0, 0, 0, 0, 1/2, 0]])"
      ]
     },
     "metadata": {},
     "output_type": "display_data"
    },
    {
     "data": {
      "text/latex": [
       "$\\displaystyle \\left[\\begin{array}{cccccccccccccccc}0 & \\frac{\\sqrt{3}}{6} & - \\frac{\\sqrt{3}}{3} & 0 & 0 & 0 & 0 & - \\frac{\\sqrt{3}}{6} & \\frac{\\sqrt{3}}{6} & 0 & 0 & 0 & 0 & \\frac{\\sqrt{3}}{3} & - \\frac{\\sqrt{3}}{6} & 0\\end{array}\\right]$"
      ],
      "text/plain": [
       "Matrix([[0, sqrt(3)/6, -sqrt(3)/3, 0, 0, 0, 0, -sqrt(3)/6, sqrt(3)/6, 0, 0, 0, 0, sqrt(3)/3, -sqrt(3)/6, 0]])"
      ]
     },
     "metadata": {},
     "output_type": "display_data"
    },
    {
     "data": {
      "text/latex": [
       "$\\displaystyle \\left[\\begin{array}{cccccccccccccccc}0 & \\frac{\\sqrt{6}}{12} & \\frac{\\sqrt{6}}{12} & 0 & - \\frac{\\sqrt{6}}{4} & 0 & 0 & - \\frac{\\sqrt{6}}{12} & \\frac{\\sqrt{6}}{12} & 0 & 0 & \\frac{\\sqrt{6}}{4} & 0 & - \\frac{\\sqrt{6}}{12} & - \\frac{\\sqrt{6}}{12} & 0\\end{array}\\right]$"
      ],
      "text/plain": [
       "Matrix([[0, sqrt(6)/12, sqrt(6)/12, 0, -sqrt(6)/4, 0, 0, -sqrt(6)/12, sqrt(6)/12, 0, 0, sqrt(6)/4, 0, -sqrt(6)/12, -sqrt(6)/12, 0]])"
      ]
     },
     "metadata": {},
     "output_type": "display_data"
    },
    {
     "data": {
      "text/latex": [
       "$\\displaystyle \\left[\\begin{array}{cccccccccccccccc}\\frac{\\sqrt{2}}{4 \\sqrt{2 - \\sqrt{3}}} & 0 & 0 & \\frac{\\sqrt{6} \\sqrt{2 - \\sqrt{3}}}{12} & 0 & \\frac{\\sqrt{6} \\sqrt{2 - \\sqrt{3}}}{12} & \\frac{\\sqrt{6} \\sqrt{2 - \\sqrt{3}}}{12} & 0 & 0 & \\frac{\\sqrt{6} \\sqrt{2 - \\sqrt{3}}}{12} & \\frac{\\sqrt{6} \\sqrt{2 - \\sqrt{3}}}{12} & 0 & \\frac{\\sqrt{6} \\sqrt{2 - \\sqrt{3}}}{12} & 0 & 0 & \\frac{\\sqrt{2}}{4 \\sqrt{2 - \\sqrt{3}}}\\end{array}\\right]$"
      ],
      "text/plain": [
       "Matrix([[sqrt(2)/(4*sqrt(2 - sqrt(3))), 0, 0, sqrt(6)*sqrt(2 - sqrt(3))/12, 0, sqrt(6)*sqrt(2 - sqrt(3))/12, sqrt(6)*sqrt(2 - sqrt(3))/12, 0, 0, sqrt(6)*sqrt(2 - sqrt(3))/12, sqrt(6)*sqrt(2 - sqrt(3))/12, 0, sqrt(6)*sqrt(2 - sqrt(3))/12, 0, 0, sqrt(2)/(4*sqrt(2 - sqrt(3)))]])"
      ]
     },
     "metadata": {},
     "output_type": "display_data"
    },
    {
     "data": {
      "text/latex": [
       "$\\displaystyle \\left[\\begin{array}{cccccccccccccccc}- \\frac{\\sqrt{2}}{2} & 0 & 0 & 0 & 0 & 0 & 0 & 0 & 0 & 0 & 0 & 0 & 0 & 0 & 0 & \\frac{\\sqrt{2}}{2}\\end{array}\\right]$"
      ],
      "text/plain": [
       "Matrix([[-sqrt(2)/2, 0, 0, 0, 0, 0, 0, 0, 0, 0, 0, 0, 0, 0, 0, sqrt(2)/2]])"
      ]
     },
     "metadata": {},
     "output_type": "display_data"
    },
    {
     "data": {
      "text/latex": [
       "$\\displaystyle \\left[\\begin{array}{cccccccccccccccc}0 & \\frac{\\sqrt{2}}{2} & 0 & 0 & 0 & 0 & 0 & 0 & 0 & 0 & 0 & 0 & 0 & 0 & \\frac{\\sqrt{2}}{2} & 0\\end{array}\\right]$"
      ],
      "text/plain": [
       "Matrix([[0, sqrt(2)/2, 0, 0, 0, 0, 0, 0, 0, 0, 0, 0, 0, 0, sqrt(2)/2, 0]])"
      ]
     },
     "metadata": {},
     "output_type": "display_data"
    },
    {
     "data": {
      "text/latex": [
       "$\\displaystyle \\left[\\begin{array}{cccccccccccccccc}0 & 0 & \\frac{\\sqrt{2}}{2} & 0 & 0 & 0 & 0 & 0 & 0 & 0 & 0 & 0 & 0 & \\frac{\\sqrt{2}}{2} & 0 & 0\\end{array}\\right]$"
      ],
      "text/plain": [
       "Matrix([[0, 0, sqrt(2)/2, 0, 0, 0, 0, 0, 0, 0, 0, 0, 0, sqrt(2)/2, 0, 0]])"
      ]
     },
     "metadata": {},
     "output_type": "display_data"
    },
    {
     "data": {
      "text/latex": [
       "$\\displaystyle \\left[\\begin{array}{cccccccccccccccc}0 & 0 & 0 & \\frac{1}{2} & 0 & 0 & - \\frac{1}{2} & 0 & 0 & - \\frac{1}{2} & 0 & 0 & \\frac{1}{2} & 0 & 0 & 0\\end{array}\\right]$"
      ],
      "text/plain": [
       "Matrix([[0, 0, 0, 1/2, 0, 0, -1/2, 0, 0, -1/2, 0, 0, 1/2, 0, 0, 0]])"
      ]
     },
     "metadata": {},
     "output_type": "display_data"
    },
    {
     "data": {
      "text/latex": [
       "$\\displaystyle \\left[\\begin{array}{cccccccccccccccc}0 & 0 & 0 & 0 & \\frac{\\sqrt{2}}{2} & 0 & 0 & 0 & 0 & 0 & 0 & \\frac{\\sqrt{2}}{2} & 0 & 0 & 0 & 0\\end{array}\\right]$"
      ],
      "text/plain": [
       "Matrix([[0, 0, 0, 0, sqrt(2)/2, 0, 0, 0, 0, 0, 0, sqrt(2)/2, 0, 0, 0, 0]])"
      ]
     },
     "metadata": {},
     "output_type": "display_data"
    },
    {
     "data": {
      "text/latex": [
       "$\\displaystyle \\left[\\begin{array}{cccccccccccccccc}0 & 0 & 0 & - \\frac{\\sqrt{3}}{6} & 0 & \\frac{\\sqrt{3}}{3} & - \\frac{\\sqrt{3}}{6} & 0 & 0 & - \\frac{\\sqrt{3}}{6} & \\frac{\\sqrt{3}}{3} & 0 & - \\frac{\\sqrt{3}}{6} & 0 & 0 & 0\\end{array}\\right]$"
      ],
      "text/plain": [
       "Matrix([[0, 0, 0, -sqrt(3)/6, 0, sqrt(3)/3, -sqrt(3)/6, 0, 0, -sqrt(3)/6, sqrt(3)/3, 0, -sqrt(3)/6, 0, 0, 0]])"
      ]
     },
     "metadata": {},
     "output_type": "display_data"
    },
    {
     "data": {
      "text/latex": [
       "$\\displaystyle \\left[\\begin{array}{cccccccccccccccc}0 & \\frac{\\sqrt{10}}{10} & \\frac{\\sqrt{10}}{10} & 0 & \\frac{\\sqrt{10}}{10} & 0 & 0 & 0 & \\frac{\\sqrt{10}}{5} & 0 & 0 & - \\frac{\\sqrt{10}}{10} & 0 & - \\frac{\\sqrt{10}}{10} & - \\frac{\\sqrt{10}}{10} & 0\\end{array}\\right]$"
      ],
      "text/plain": [
       "Matrix([[0, sqrt(10)/10, sqrt(10)/10, 0, sqrt(10)/10, 0, 0, 0, sqrt(10)/5, 0, 0, -sqrt(10)/10, 0, -sqrt(10)/10, -sqrt(10)/10, 0]])"
      ]
     },
     "metadata": {},
     "output_type": "display_data"
    },
    {
     "data": {
      "text/latex": [
       "$\\displaystyle \\left[\\begin{array}{cccccccccccccccc}0 & - \\frac{\\sqrt{10}}{20} & - \\frac{\\sqrt{10}}{20} & 0 & - \\frac{\\sqrt{10}}{20} & 0 & 0 & \\frac{\\sqrt{10}}{4} & \\frac{3 \\sqrt{10}}{20} & 0 & 0 & \\frac{\\sqrt{10}}{20} & 0 & \\frac{\\sqrt{10}}{20} & \\frac{\\sqrt{10}}{20} & 0\\end{array}\\right]$"
      ],
      "text/plain": [
       "Matrix([[0, -sqrt(10)/20, -sqrt(10)/20, 0, -sqrt(10)/20, 0, 0, sqrt(10)/4, 3*sqrt(10)/20, 0, 0, sqrt(10)/20, 0, sqrt(10)/20, sqrt(10)/20, 0]])"
      ]
     },
     "metadata": {},
     "output_type": "display_data"
    },
    {
     "data": {
      "text/latex": [
       "$\\displaystyle \\left[\\begin{array}{cccccccccccccccc}\\frac{\\sqrt{2}}{4 \\sqrt{\\sqrt{3} + 2}} & 0 & 0 & - \\frac{\\sqrt{6} \\sqrt{\\sqrt{3} + 2}}{12} & 0 & - \\frac{\\sqrt{6} \\sqrt{\\sqrt{3} + 2}}{12} & - \\frac{\\sqrt{6} \\sqrt{\\sqrt{3} + 2}}{12} & 0 & 0 & - \\frac{\\sqrt{6} \\sqrt{\\sqrt{3} + 2}}{12} & - \\frac{\\sqrt{6} \\sqrt{\\sqrt{3} + 2}}{12} & 0 & - \\frac{\\sqrt{6} \\sqrt{\\sqrt{3} + 2}}{12} & 0 & 0 & \\frac{\\sqrt{2}}{4 \\sqrt{\\sqrt{3} + 2}}\\end{array}\\right]$"
      ],
      "text/plain": [
       "Matrix([[sqrt(2)/(4*sqrt(sqrt(3) + 2)), 0, 0, -sqrt(6)*sqrt(sqrt(3) + 2)/12, 0, -sqrt(6)*sqrt(sqrt(3) + 2)/12, -sqrt(6)*sqrt(sqrt(3) + 2)/12, 0, 0, -sqrt(6)*sqrt(sqrt(3) + 2)/12, -sqrt(6)*sqrt(sqrt(3) + 2)/12, 0, -sqrt(6)*sqrt(sqrt(3) + 2)/12, 0, 0, sqrt(2)/(4*sqrt(sqrt(3) + 2))]])"
      ]
     },
     "metadata": {},
     "output_type": "display_data"
    },
    {
     "data": {
      "text/latex": [
       "$\\displaystyle \\left[\\begin{array}{cccccccccccccccc}0 & 0 & 0 & - \\frac{\\sqrt{2}}{2} & 0 & 0 & 0 & 0 & 0 & 0 & 0 & 0 & \\frac{\\sqrt{2}}{2} & 0 & 0 & 0\\end{array}\\right]$"
      ],
      "text/plain": [
       "Matrix([[0, 0, 0, -sqrt(2)/2, 0, 0, 0, 0, 0, 0, 0, 0, sqrt(2)/2, 0, 0, 0]])"
      ]
     },
     "metadata": {},
     "output_type": "display_data"
    },
    {
     "data": {
      "text/latex": [
       "$\\displaystyle \\left[\\begin{array}{cccccccccccccccc}0 & 0 & 0 & 0 & 0 & - \\frac{\\sqrt{2}}{2} & 0 & 0 & 0 & 0 & \\frac{\\sqrt{2}}{2} & 0 & 0 & 0 & 0 & 0\\end{array}\\right]$"
      ],
      "text/plain": [
       "Matrix([[0, 0, 0, 0, 0, -sqrt(2)/2, 0, 0, 0, 0, sqrt(2)/2, 0, 0, 0, 0, 0]])"
      ]
     },
     "metadata": {},
     "output_type": "display_data"
    },
    {
     "data": {
      "text/latex": [
       "$\\displaystyle \\left[\\begin{array}{cccccccccccccccc}0 & 0 & 0 & 0 & 0 & 0 & - \\frac{\\sqrt{2}}{2} & 0 & 0 & \\frac{\\sqrt{2}}{2} & 0 & 0 & 0 & 0 & 0 & 0\\end{array}\\right]$"
      ],
      "text/plain": [
       "Matrix([[0, 0, 0, 0, 0, 0, -sqrt(2)/2, 0, 0, sqrt(2)/2, 0, 0, 0, 0, 0, 0]])"
      ]
     },
     "metadata": {},
     "output_type": "display_data"
    }
   ],
   "source": [
    "for v in new_eigvecs:\n",
    "    display(simplify(v.T))"
   ]
  },
  {
   "cell_type": "code",
   "execution_count": 27,
   "id": "d46ec963",
   "metadata": {},
   "outputs": [],
   "source": [
    "np.save(\"data//4qubit_measurement_eigenavalues_symb\", eigvals)\n",
    "np.save(\"data//4qubit_measurement_eigenstates_symb\", new_eigvecs)"
   ]
  },
  {
   "cell_type": "code",
   "execution_count": 27,
   "id": "11913525",
   "metadata": {},
   "outputs": [
    {
     "data": {
      "text/latex": [
       "$\\displaystyle \\left[\\begin{matrix}0\\\\0\\\\0\\\\0\\\\0\\\\0\\\\0\\\\\\frac{\\sqrt{2}}{2}\\\\\\frac{\\sqrt{2}}{2}\\\\0\\\\0\\\\0\\\\0\\\\0\\\\0\\\\0\\end{matrix}\\right]$"
      ],
      "text/plain": [
       "Matrix([\n",
       "[        0],\n",
       "[        0],\n",
       "[        0],\n",
       "[        0],\n",
       "[        0],\n",
       "[        0],\n",
       "[        0],\n",
       "[sqrt(2)/2],\n",
       "[sqrt(2)/2],\n",
       "[        0],\n",
       "[        0],\n",
       "[        0],\n",
       "[        0],\n",
       "[        0],\n",
       "[        0],\n",
       "[        0]])"
      ]
     },
     "execution_count": 27,
     "metadata": {},
     "output_type": "execute_result"
    }
   ],
   "source": [
    "simplify((2*new_eigvecs[11]+new_eigvecs[10])/sqrt(5))"
   ]
  },
  {
   "cell_type": "code",
   "execution_count": 28,
   "id": "fd5fdafa",
   "metadata": {},
   "outputs": [
    {
     "data": {
      "text/latex": [
       "$\\displaystyle \\left[\\begin{matrix}0\\\\- \\frac{\\sqrt{2}}{4}\\\\- \\frac{\\sqrt{2}}{4}\\\\0\\\\- \\frac{\\sqrt{2}}{4}\\\\0\\\\0\\\\\\frac{\\sqrt{2}}{4}\\\\- \\frac{\\sqrt{2}}{4}\\\\0\\\\0\\\\\\frac{\\sqrt{2}}{4}\\\\0\\\\\\frac{\\sqrt{2}}{4}\\\\\\frac{\\sqrt{2}}{4}\\\\0\\end{matrix}\\right]$"
      ],
      "text/plain": [
       "Matrix([\n",
       "[         0],\n",
       "[-sqrt(2)/4],\n",
       "[-sqrt(2)/4],\n",
       "[         0],\n",
       "[-sqrt(2)/4],\n",
       "[         0],\n",
       "[         0],\n",
       "[ sqrt(2)/4],\n",
       "[-sqrt(2)/4],\n",
       "[         0],\n",
       "[         0],\n",
       "[ sqrt(2)/4],\n",
       "[         0],\n",
       "[ sqrt(2)/4],\n",
       "[ sqrt(2)/4],\n",
       "[         0]])"
      ]
     },
     "execution_count": 28,
     "metadata": {},
     "output_type": "execute_result"
    }
   ],
   "source": [
    "simplify((new_eigvecs[11]-2*new_eigvecs[10])/sqrt(5))"
   ]
  }
 ],
 "metadata": {
  "kernelspec": {
   "display_name": "Python 3 (ipykernel)",
   "language": "python",
   "name": "python3"
  },
  "language_info": {
   "codemirror_mode": {
    "name": "ipython",
    "version": 3
   },
   "file_extension": ".py",
   "mimetype": "text/x-python",
   "name": "python",
   "nbconvert_exporter": "python",
   "pygments_lexer": "ipython3",
   "version": "3.10.10"
  }
 },
 "nbformat": 4,
 "nbformat_minor": 5
}
