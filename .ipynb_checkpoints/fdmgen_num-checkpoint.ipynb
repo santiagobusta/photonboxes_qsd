{
 "cells": [
  {
   "cell_type": "markdown",
   "id": "491107cd",
   "metadata": {},
   "source": [
    "# Numerical generator of the full density matrices\n",
    "\n",
    "## Context\n",
    "\n",
    "In this notebook the full density matrices for the three-box problem are numerically computed using the *itertools.combinations* function based on the formula\n",
    "\n",
    "$$\n",
    "\\rho_A = \\frac{1}{\\binom{2N}{N}} \\sum_{\\tau \\in J_N}  | \\Psi_A^\\tau \\rangle \\langle \\Psi_A^\\tau | ,\n",
    "$$\n",
    "\n",
    "where $J_N$ is the set of all $N$-combinations of $J=\\{1,\\dots,2N\\}$ and $\\Psi_A^\\tau$ is the state for which photons with index $j\\in \\tau$ are in state $H$ and the rest in state $V$. The full density matrix $\\rho_B$ is similarly defined, and $\\rho_C$ is given by\n",
    "\n",
    "$$\n",
    "\\rho_C = \\underbrace{\\left(\\frac{1}{2} \\mathrm{I}\\right) \\otimes \\dots \\otimes \\left(\\frac{1}{2} \\mathrm{I}\\right)}_{2N\\text{ times}} = \\frac{1}{2^{2N}} \\mathrm{I}^{\\otimes 2N},\n",
    "$$\n",
    "\n",
    "where $\\mathrm I$ is the identity operator in the single-photon polarization state space $\\mathbb C ^2$.\n",
    "\n",
    "## Outputs\n",
    "\n",
    "- Numerically computed full density matrices of boxes A, B and C"
   ]
  },
  {
   "cell_type": "code",
   "execution_count": 1,
   "id": "89c70703",
   "metadata": {},
   "outputs": [],
   "source": [
    "import numpy as np\n",
    "from scipy.special import comb\n",
    "from itertools import combinations"
   ]
  },
  {
   "cell_type": "code",
   "execution_count": 11,
   "id": "c7eb027c",
   "metadata": {},
   "outputs": [],
   "source": [
    "# simulation parameters\n",
    "\n",
    "n = 6 # half-number of photons\n",
    "N = 2*n # total number of photons\n",
    "d = 2**N # hilbert space dimension\n",
    "C = comb(N,n) # number of photon combinations\n",
    "S = [\"V\"]*2*n"
   ]
  },
  {
   "cell_type": "code",
   "execution_count": 12,
   "id": "eba9a09c",
   "metadata": {},
   "outputs": [
    {
     "name": "stdout",
     "output_type": "stream",
     "text": [
      "['H' 'H' 'H' 'H' 'H' 'V' 'H' 'V' 'V' 'V' 'V' 'V']\n"
     ]
    }
   ],
   "source": [
    "# computing all photon combinations\n",
    "\n",
    "comb_list = [] # list of all photon combinations\n",
    "\n",
    "for c in combinations(np.arange(N),n):\n",
    "    s = np.copy(S)\n",
    "    for i in c: s[i] = 'H'\n",
    "    comb_list.append(s)\n",
    "    \n",
    "print(comb_list[1]) # instance"
   ]
  },
  {
   "cell_type": "code",
   "execution_count": 13,
   "id": "3aa1f710",
   "metadata": {},
   "outputs": [],
   "source": [
    "# defining photon state vectors\n",
    "\n",
    "H = np.array([1,0]); V = np.array([0,1]) # HV states\n",
    "L = np.array([1,1j])/np.sqrt(2); R = np.array([1,-1j])/np.sqrt(2) # LR states\n",
    "\n",
    "get_vecA = {\"H\" : H, \"V\" : V}\n",
    "get_vecB = {\"H\" : L, \"V\" : R}"
   ]
  },
  {
   "cell_type": "code",
   "execution_count": 14,
   "id": "91b7705a",
   "metadata": {},
   "outputs": [],
   "source": [
    "# building the full density matrices\n",
    "\n",
    "rhoA = 0\n",
    "rhoB = 0\n",
    "\n",
    "for c in comb_list:\n",
    "    # print(*c) # uncomment to see all combinations\n",
    "    vec = 1\n",
    "    \n",
    "    [vec := np.outer(vec,get_vecA[l]).flatten() for l in c]\n",
    "    rhoA += np.outer(vec,np.conjugate(vec))\n",
    "    \n",
    "    vec = 1\n",
    "    \n",
    "    [vec := np.outer(vec,get_vecB[l]).flatten() for l in c]\n",
    "    rhoB += np.outer(vec,np.conjugate(vec))\n",
    "    \n",
    "rhoA = rhoA/C\n",
    "rhoB = rhoB/C\n",
    "\n",
    "rhoC = np.eye(d)/d # maximum entropy density matrix"
   ]
  },
  {
   "cell_type": "code",
   "execution_count": 15,
   "id": "07dde188",
   "metadata": {},
   "outputs": [],
   "source": [
    "# save the matrices\n",
    "\n",
    "np.save(\"full_density_matrices/rhoA_N{:d}_num.npy\".format(N),rhoA)\n",
    "np.save(\"full_density_matrices/rhoB_N{:d}_num.npy\".format(N),rhoB)\n",
    "np.save(\"full_density_matrices/rhoC_N{:d}_num.npy\".format(N),rhoC)"
   ]
  }
 ],
 "metadata": {
  "kernelspec": {
   "display_name": "Python 3 (ipykernel)",
   "language": "python",
   "name": "python3"
  },
  "language_info": {
   "codemirror_mode": {
    "name": "ipython",
    "version": 3
   },
   "file_extension": ".py",
   "mimetype": "text/x-python",
   "name": "python",
   "nbconvert_exporter": "python",
   "pygments_lexer": "ipython3",
   "version": "3.10.10"
  }
 },
 "nbformat": 4,
 "nbformat_minor": 5
}
