{
 "cells": [
  {
   "cell_type": "code",
   "execution_count": 1,
   "id": "1efa671b",
   "metadata": {},
   "outputs": [],
   "source": [
    "import strawberryfields as sf\n",
    "from strawberryfields.ops import *\n",
    "\n",
    "import numpy as np\n",
    "from numpy import pi, sqrt\n",
    "\n",
    "import matplotlib.pyplot as plt\n",
    "\n",
    "# set the random seed\n",
    "np.random.seed(42)"
   ]
  },
  {
   "cell_type": "code",
   "execution_count": 10,
   "id": "c937a392",
   "metadata": {},
   "outputs": [],
   "source": [
    "n_paths = 3\n",
    "n_modes = n_paths*2\n",
    "cutoff_dim = 2\n",
    "\n",
    "#======== Initial State Preparation ==========\n",
    "\n",
    "# Vacuum State Array\n",
    "VacuumState = np.zeros([cutoff_dim] * n_modes, dtype='complex')\n",
    "\n",
    "# One-photon maximally mixed state\n",
    "MaxMixedState = np.zeros([cutoff_dim,cutoff_dim] * n_modes, dtype='complex')\n",
    "MaxMixedState[1,0,0,0,0,0][1,0,0,0,0,0] = 1/2\n",
    "MaxMixedState[0,1,0,0,0,0][0,1,0,0,0,0] = 1/2\n",
    "MaxMixedState = DensityMatrix(MaxMixedState)\n",
    "\n",
    "def QubitState(theta, phi, p):\n",
    "    State = np.copy(VacuumState)\n",
    "    State[1,0,0,0,0,0] = np.cos(theta/2)\n",
    "    State[0,1,0,0,0,0] = np.sin(theta/2)*np.exp(1j*phi)\n",
    "    return Ket(State)\n",
    "\n",
    "StateDict = {\n",
    "    \"H\" : 0\n",
    "}\n",
    "\n",
    "#============ Gates' Construction =============\n",
    "\n",
    "SWAP = Interferometer(np.array([[0,1],[1,0]]))\n",
    "\n",
    "def HWP(angle):\n",
    "    x = np.cos(2*angle)\n",
    "    y = np.sin(2*angle)\n",
    "    return Interferometer(np.array([[x,y],[y,-x]]))\n",
    "\n",
    "#============ Other parameters ===============\n",
    "\n",
    "alpha = pi/8 # half-angle between states to discriminate\n",
    "opt_wp4_angle = np.arcsin(np.tan(alpha))/2 # optimal WP4 angle for discrimination"
   ]
  },
  {
   "cell_type": "code",
   "execution_count": 17,
   "id": "870bc206",
   "metadata": {},
   "outputs": [
    {
     "data": {
      "text/plain": [
       "<strawberryfields.ops.DensityMatrix at 0x23feddd58d0>"
      ]
     },
     "execution_count": 17,
     "metadata": {},
     "output_type": "execute_result"
    }
   ],
   "source": [
    "MaxMixedState"
   ]
  },
  {
   "cell_type": "code",
   "execution_count": 13,
   "id": "ed392abc",
   "metadata": {},
   "outputs": [],
   "source": [
    "prog = sf.Program(n_modes)\n",
    "InitialState = prog.params('InitialState')\n",
    "eng = sf.Engine('fock', backend_options={\"cutoff_dim\": cutoff_dim})\n",
    "\n",
    "with prog.context as q:\n",
    "    # prepare initial states\n",
    "    #Ket(InitialState) | q\n",
    "    MaxMixedState | q\n",
    "\n",
    "    # apply gates\n",
    "    HWP(alpha/2) | (q[0], q[1]) # WP0, for preparation of H and D into \"standard\" form\n",
    "    SWAP | (q[1], q[3]) # PBS2\n",
    "    HWP(opt_wp4_angle) | (q[0], q[1]) # WP4\n",
    "    SWAP | (q[1], q[5]) # PBS3\n",
    "    HWP(pi/4) | (q[2] , q[3]) # WP5\n",
    "    SWAP | (q[3], q[5]) # PBS5\n",
    "    HWP(3*pi/8) | (q[2], q[3]) # WP6\n",
    "\n",
    "    # Perform homodyne measurements\n",
    "    MeasureFock() | q"
   ]
  },
  {
   "cell_type": "code",
   "execution_count": 15,
   "id": "eddd9c24",
   "metadata": {},
   "outputs": [
    {
     "ename": "ValueError",
     "evalue": "probabilities contain NaN",
     "output_type": "error",
     "traceback": [
      "\u001b[1;31m---------------------------------------------------------------------------\u001b[0m",
      "\u001b[1;31mValueError\u001b[0m                                Traceback (most recent call last)",
      "Cell \u001b[1;32mIn[15], line 7\u001b[0m\n\u001b[0;32m      4\u001b[0m psi2_counts \u001b[38;5;241m=\u001b[39m \u001b[38;5;241m0\u001b[39m \u001b[38;5;66;03m# psi plus state\u001b[39;00m\n\u001b[0;32m      6\u001b[0m \u001b[38;5;28;01mfor\u001b[39;00m n \u001b[38;5;129;01min\u001b[39;00m \u001b[38;5;28mrange\u001b[39m(n_shots):\n\u001b[1;32m----> 7\u001b[0m     result \u001b[38;5;241m=\u001b[39m \u001b[43meng\u001b[49m\u001b[38;5;241;43m.\u001b[39;49m\u001b[43mrun\u001b[49m\u001b[43m(\u001b[49m\u001b[43mprog\u001b[49m\u001b[43m,\u001b[49m\u001b[43m \u001b[49m\u001b[43mshots\u001b[49m\u001b[38;5;241;43m=\u001b[39;49m\u001b[38;5;241;43m1\u001b[39;49m\u001b[43m)\u001b[49m\n\u001b[0;32m      8\u001b[0m     psi0_counts \u001b[38;5;241m+\u001b[39m\u001b[38;5;241m=\u001b[39m result\u001b[38;5;241m.\u001b[39msamples[\u001b[38;5;241m0\u001b[39m,\u001b[38;5;241m0\u001b[39m]\n\u001b[0;32m      9\u001b[0m     psi1_counts \u001b[38;5;241m+\u001b[39m\u001b[38;5;241m=\u001b[39m result\u001b[38;5;241m.\u001b[39msamples[\u001b[38;5;241m0\u001b[39m,\u001b[38;5;241m2\u001b[39m]\n",
      "File \u001b[1;32m~\\.conda\\envs\\research\\lib\\site-packages\\strawberryfields\\engine.py:570\u001b[0m, in \u001b[0;36mLocalEngine.run\u001b[1;34m(self, program, args, compile_options, **kwargs)\u001b[0m\n\u001b[0;32m    565\u001b[0m         \u001b[38;5;28;01mif\u001b[39;00m c\u001b[38;5;241m.\u001b[39mop\u001b[38;5;241m.\u001b[39mmeasurement_deps \u001b[38;5;129;01mand\u001b[39;00m eng_run_options[\u001b[38;5;124m\"\u001b[39m\u001b[38;5;124mshots\u001b[39m\u001b[38;5;124m\"\u001b[39m] \u001b[38;5;241m>\u001b[39m \u001b[38;5;241m1\u001b[39m:\n\u001b[0;32m    566\u001b[0m             \u001b[38;5;28;01mraise\u001b[39;00m \u001b[38;5;167;01mNotImplementedError\u001b[39;00m(\n\u001b[0;32m    567\u001b[0m                 \u001b[38;5;124m\"\u001b[39m\u001b[38;5;124mFeed-forwarding of measurements cannot be used together with multiple shots.\u001b[39m\u001b[38;5;124m\"\u001b[39m\n\u001b[0;32m    568\u001b[0m             )\n\u001b[1;32m--> 570\u001b[0m \u001b[38;5;28;01mreturn\u001b[39;00m \u001b[38;5;28msuper\u001b[39m()\u001b[38;5;241m.\u001b[39m_run(\n\u001b[0;32m    571\u001b[0m     program_lst, args\u001b[38;5;241m=\u001b[39margs, compile_options\u001b[38;5;241m=\u001b[39mcompile_options, \u001b[38;5;241m*\u001b[39m\u001b[38;5;241m*\u001b[39meng_run_options\n\u001b[0;32m    572\u001b[0m )\n",
      "File \u001b[1;32m~\\.conda\\envs\\research\\lib\\site-packages\\strawberryfields\\engine.py:306\u001b[0m, in \u001b[0;36mBaseEngine._run\u001b[1;34m(self, program, args, compile_options, **kwargs)\u001b[0m\n\u001b[0;32m    303\u001b[0m p\u001b[38;5;241m.\u001b[39mbind_params(args)\n\u001b[0;32m    304\u001b[0m p\u001b[38;5;241m.\u001b[39mlock()\n\u001b[1;32m--> 306\u001b[0m _, \u001b[38;5;28mself\u001b[39m\u001b[38;5;241m.\u001b[39msamples, \u001b[38;5;28mself\u001b[39m\u001b[38;5;241m.\u001b[39msamples_dict \u001b[38;5;241m=\u001b[39m \u001b[38;5;28mself\u001b[39m\u001b[38;5;241m.\u001b[39m_run_program(p, \u001b[38;5;241m*\u001b[39m\u001b[38;5;241m*\u001b[39mkwargs)\n\u001b[0;32m    307\u001b[0m \u001b[38;5;28mself\u001b[39m\u001b[38;5;241m.\u001b[39mrun_progs\u001b[38;5;241m.\u001b[39mappend(p)\n\u001b[0;32m    309\u001b[0m \u001b[38;5;28;01mif\u001b[39;00m \u001b[38;5;28misinstance\u001b[39m(p, TDMProgram) \u001b[38;5;129;01mand\u001b[39;00m received_rolled:\n",
      "File \u001b[1;32m~\\.conda\\envs\\research\\lib\\site-packages\\strawberryfields\\engine.py:430\u001b[0m, in \u001b[0;36mLocalEngine._run_program\u001b[1;34m(self, prog, **kwargs)\u001b[0m\n\u001b[0;32m    427\u001b[0m \u001b[38;5;28;01mfor\u001b[39;00m cmd \u001b[38;5;129;01min\u001b[39;00m prog\u001b[38;5;241m.\u001b[39mcircuit:\n\u001b[0;32m    428\u001b[0m     \u001b[38;5;28;01mtry\u001b[39;00m:\n\u001b[0;32m    429\u001b[0m         \u001b[38;5;66;03m# try to apply it to the backend and, if op is a measurement, store it in values\u001b[39;00m\n\u001b[1;32m--> 430\u001b[0m         val \u001b[38;5;241m=\u001b[39m cmd\u001b[38;5;241m.\u001b[39mop\u001b[38;5;241m.\u001b[39mapply(cmd\u001b[38;5;241m.\u001b[39mreg, \u001b[38;5;28mself\u001b[39m\u001b[38;5;241m.\u001b[39mbackend, \u001b[38;5;241m*\u001b[39m\u001b[38;5;241m*\u001b[39mkwargs)\n\u001b[0;32m    431\u001b[0m         \u001b[38;5;28;01mif\u001b[39;00m val \u001b[38;5;129;01mis\u001b[39;00m \u001b[38;5;129;01mnot\u001b[39;00m \u001b[38;5;28;01mNone\u001b[39;00m:\n\u001b[0;32m    432\u001b[0m             \u001b[38;5;28;01mfor\u001b[39;00m i, r \u001b[38;5;129;01min\u001b[39;00m \u001b[38;5;28menumerate\u001b[39m(cmd\u001b[38;5;241m.\u001b[39mreg):\n",
      "File \u001b[1;32m~\\.conda\\envs\\research\\lib\\site-packages\\strawberryfields\\ops.py:325\u001b[0m, in \u001b[0;36mMeasurement.apply\u001b[1;34m(self, reg, backend, **kwargs)\u001b[0m\n\u001b[0;32m    322\u001b[0m \u001b[38;5;28;01mif\u001b[39;00m _shots \u001b[38;5;129;01mis\u001b[39;00m \u001b[38;5;28;01mNone\u001b[39;00m:\n\u001b[0;32m    323\u001b[0m     \u001b[38;5;28;01mreturn\u001b[39;00m \u001b[38;5;28;01mNone\u001b[39;00m\n\u001b[1;32m--> 325\u001b[0m values \u001b[38;5;241m=\u001b[39m \u001b[38;5;28msuper\u001b[39m()\u001b[38;5;241m.\u001b[39mapply(reg, backend, \u001b[38;5;241m*\u001b[39m\u001b[38;5;241m*\u001b[39mkwargs)\n\u001b[0;32m    327\u001b[0m \u001b[38;5;66;03m# store the results in the register reference objects\u001b[39;00m\n\u001b[0;32m    328\u001b[0m \u001b[38;5;28;01mfor\u001b[39;00m v, r \u001b[38;5;129;01min\u001b[39;00m \u001b[38;5;28mzip\u001b[39m(np\u001b[38;5;241m.\u001b[39mtranspose(values), reg):\n",
      "File \u001b[1;32m~\\.conda\\envs\\research\\lib\\site-packages\\strawberryfields\\ops.py:228\u001b[0m, in \u001b[0;36mOperation.apply\u001b[1;34m(self, reg, backend, **kwargs)\u001b[0m\n\u001b[0;32m    226\u001b[0m temp \u001b[38;5;241m=\u001b[39m [rr\u001b[38;5;241m.\u001b[39mind \u001b[38;5;28;01mfor\u001b[39;00m rr \u001b[38;5;129;01min\u001b[39;00m reg]\n\u001b[0;32m    227\u001b[0m \u001b[38;5;66;03m# call the child class specialized _apply method\u001b[39;00m\n\u001b[1;32m--> 228\u001b[0m \u001b[38;5;28;01mreturn\u001b[39;00m \u001b[38;5;28mself\u001b[39m\u001b[38;5;241m.\u001b[39m_apply(temp, backend, \u001b[38;5;241m*\u001b[39m\u001b[38;5;241m*\u001b[39mkwargs)\n",
      "File \u001b[1;32m~\\.conda\\envs\\research\\lib\\site-packages\\strawberryfields\\ops.py:1179\u001b[0m, in \u001b[0;36mMeasureFock._apply\u001b[1;34m(self, reg, backend, shots, **kwargs)\u001b[0m\n\u001b[0;32m   1178\u001b[0m \u001b[38;5;28;01mdef\u001b[39;00m \u001b[38;5;21m_apply\u001b[39m(\u001b[38;5;28mself\u001b[39m, reg, backend, shots\u001b[38;5;241m=\u001b[39m\u001b[38;5;241m1\u001b[39m, \u001b[38;5;241m*\u001b[39m\u001b[38;5;241m*\u001b[39mkwargs):\n\u001b[1;32m-> 1179\u001b[0m     samples \u001b[38;5;241m=\u001b[39m backend\u001b[38;5;241m.\u001b[39mmeasure_fock(reg, shots\u001b[38;5;241m=\u001b[39mshots, select\u001b[38;5;241m=\u001b[39m\u001b[38;5;28mself\u001b[39m\u001b[38;5;241m.\u001b[39mselect, \u001b[38;5;241m*\u001b[39m\u001b[38;5;241m*\u001b[39mkwargs)\n\u001b[0;32m   1181\u001b[0m     \u001b[38;5;28;01mif\u001b[39;00m \u001b[38;5;28misinstance\u001b[39m(samples, \u001b[38;5;28mlist\u001b[39m):\n\u001b[0;32m   1182\u001b[0m         samples \u001b[38;5;241m=\u001b[39m np\u001b[38;5;241m.\u001b[39marray(samples)\n",
      "File \u001b[1;32m~\\.conda\\envs\\research\\lib\\site-packages\\strawberryfields\\backends\\fockbackend\\backend.py:295\u001b[0m, in \u001b[0;36mFockBackend.measure_fock\u001b[1;34m(self, modes, shots, select, **kwargs)\u001b[0m\n\u001b[0;32m    291\u001b[0m \u001b[38;5;28;01mif\u001b[39;00m shots \u001b[38;5;241m!=\u001b[39m \u001b[38;5;241m1\u001b[39m:\n\u001b[0;32m    292\u001b[0m     \u001b[38;5;28;01mraise\u001b[39;00m \u001b[38;5;167;01mNotImplementedError\u001b[39;00m(\n\u001b[0;32m    293\u001b[0m         \u001b[38;5;124m\"\u001b[39m\u001b[38;5;124mfock backend currently does not support \u001b[39m\u001b[38;5;124m\"\u001b[39m \u001b[38;5;124m\"\u001b[39m\u001b[38;5;124mshots != 1 for Fock measurement\u001b[39m\u001b[38;5;124m\"\u001b[39m\n\u001b[0;32m    294\u001b[0m     )\n\u001b[1;32m--> 295\u001b[0m \u001b[38;5;28;01mreturn\u001b[39;00m \u001b[38;5;28;43mself\u001b[39;49m\u001b[38;5;241;43m.\u001b[39;49m\u001b[43mcircuit\u001b[49m\u001b[38;5;241;43m.\u001b[39;49m\u001b[43mmeasure_fock\u001b[49m\u001b[43m(\u001b[49m\u001b[38;5;28;43mself\u001b[39;49m\u001b[38;5;241;43m.\u001b[39;49m\u001b[43m_remap_modes\u001b[49m\u001b[43m(\u001b[49m\u001b[43mmodes\u001b[49m\u001b[43m)\u001b[49m\u001b[43m,\u001b[49m\u001b[43m \u001b[49m\u001b[43mselect\u001b[49m\u001b[38;5;241;43m=\u001b[39;49m\u001b[43mselect\u001b[49m\u001b[43m)\u001b[49m\n",
      "File \u001b[1;32m~\\.conda\\envs\\research\\lib\\site-packages\\strawberryfields\\backends\\fockbackend\\circuit.py:684\u001b[0m, in \u001b[0;36mCircuit.measure_fock\u001b[1;34m(self, modes, select)\u001b[0m\n\u001b[0;32m    681\u001b[0m \u001b[38;5;66;03m# Make a random choice\u001b[39;00m\n\u001b[0;32m    682\u001b[0m \u001b[38;5;28;01mif\u001b[39;00m \u001b[38;5;28msum\u001b[39m(dist) \u001b[38;5;241m!=\u001b[39m \u001b[38;5;241m1\u001b[39m:\n\u001b[0;32m    683\u001b[0m     \u001b[38;5;66;03m# WARNING: distribution is not normalized, could hide errors\u001b[39;00m\n\u001b[1;32m--> 684\u001b[0m     i \u001b[38;5;241m=\u001b[39m \u001b[43mnp\u001b[49m\u001b[38;5;241;43m.\u001b[39;49m\u001b[43mrandom\u001b[49m\u001b[38;5;241;43m.\u001b[39;49m\u001b[43mchoice\u001b[49m\u001b[43m(\u001b[49m\u001b[38;5;28;43mlist\u001b[39;49m\u001b[43m(\u001b[49m\u001b[38;5;28;43mrange\u001b[39;49m\u001b[43m(\u001b[49m\u001b[38;5;28;43mlen\u001b[39;49m\u001b[43m(\u001b[49m\u001b[43mdist\u001b[49m\u001b[43m)\u001b[49m\u001b[43m)\u001b[49m\u001b[43m)\u001b[49m\u001b[43m,\u001b[49m\u001b[43m \u001b[49m\u001b[43mp\u001b[49m\u001b[38;5;241;43m=\u001b[39;49m\u001b[43mdist\u001b[49m\u001b[43m \u001b[49m\u001b[38;5;241;43m/\u001b[39;49m\u001b[43m \u001b[49m\u001b[38;5;28;43msum\u001b[39;49m\u001b[43m(\u001b[49m\u001b[43mdist\u001b[49m\u001b[43m)\u001b[49m\u001b[43m)\u001b[49m\n\u001b[0;32m    685\u001b[0m \u001b[38;5;28;01melse\u001b[39;00m:\n\u001b[0;32m    686\u001b[0m     i \u001b[38;5;241m=\u001b[39m np\u001b[38;5;241m.\u001b[39mrandom\u001b[38;5;241m.\u001b[39mchoice(\u001b[38;5;28mlist\u001b[39m(\u001b[38;5;28mrange\u001b[39m(\u001b[38;5;28mlen\u001b[39m(dist))), p\u001b[38;5;241m=\u001b[39mdist)\n",
      "File \u001b[1;32mmtrand.pyx:935\u001b[0m, in \u001b[0;36mnumpy.random.mtrand.RandomState.choice\u001b[1;34m()\u001b[0m\n",
      "\u001b[1;31mValueError\u001b[0m: probabilities contain NaN"
     ]
    }
   ],
   "source": [
    "n_shots = 10\n",
    "psi0_counts = 0 # inconclusive result\n",
    "psi1_counts = 0 # psi minus state\n",
    "psi2_counts = 0 # psi plus state\n",
    "\n",
    "for n in range(n_shots):\n",
    "    result = eng.run(prog, shots=1)\n",
    "    psi0_counts += result.samples[0,0]\n",
    "    psi1_counts += result.samples[0,2]\n",
    "    psi2_counts += result.samples[0,3]"
   ]
  },
  {
   "cell_type": "code",
   "execution_count": 16,
   "id": "2994bd57",
   "metadata": {},
   "outputs": [
    {
     "data": {
      "image/png": "[encoded data removed]",
      "text/plain": [
       "<Figure size 640x480 with 1 Axes>"
      ]
     },
     "metadata": {},
     "output_type": "display_data"
    }
   ],
   "source": [
    "data = np.array([psi0_counts, psi1_counts, psi2_counts])\n",
    "plt.bar(range(3), data, ec='k',zorder=2)\n",
    "plt.grid(zorder=1)\n",
    "plt.xticks(range(3), [\"Inconclusive\",r\"$\\psi_-$\",r\"$\\psi_+$\"])\n",
    "plt.ylabel(\"Frequency\")\n",
    "plt.show()"
   ]
  },
  {
   "cell_type": "code",
   "execution_count": null,
   "id": "32871d65",
   "metadata": {},
   "outputs": [],
   "source": []
  }
 ],
 "metadata": {
  "kernelspec": {
   "display_name": "Python 3 (ipykernel)",
   "language": "python",
   "name": "python3"
  },
  "language_info": {
   "codemirror_mode": {
    "name": "ipython",
    "version": 3
   },
   "file_extension": ".py",
   "mimetype": "text/x-python",
   "name": "python",
   "nbconvert_exporter": "python",
   "pygments_lexer": "ipython3",
   "version": "3.10.10"
  }
 },
 "nbformat": 4,
 "nbformat_minor": 5
}
