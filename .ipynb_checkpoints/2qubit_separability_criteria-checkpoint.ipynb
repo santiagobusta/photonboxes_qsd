{
 "cells": [
  {
   "cell_type": "markdown",
   "id": "f12a23c2",
   "metadata": {},
   "source": [
    "https://doi.org/10.48550/arXiv.quant-ph/0504160"
   ]
  },
  {
   "cell_type": "code",
   "execution_count": 1,
   "id": "d07f9ba0",
   "metadata": {},
   "outputs": [],
   "source": [
    "import numpy as np\n",
    "N = 4 # number of qubits"
   ]
  },
  {
   "cell_type": "code",
   "execution_count": 20,
   "id": "e1d0dbca",
   "metadata": {},
   "outputs": [],
   "source": [
    "def partial_transpose(A, k): # perform a partial transpose of the k-th qubit in matrix A\n",
    "    J = list(range(2*N))\n",
    "    J[2*k] = 2*k+1\n",
    "    J[2*k+1] = 2*k\n",
    "    return A.transpose(*J)\n",
    "\n",
    "def reshuffle(A, k, l):\n",
    "    J = list(range(2*N))\n",
    "    J[2*l] = 2*k+1\n",
    "    J[2*k+1] = 2*l\n",
    "    return A.transpose(*J)\n",
    "\n",
    "def statevec_prep(u):\n",
    "    v = np.zeros([2]*N, dtype='complex')\n",
    "    for j in range(2**N):\n",
    "        bits = np.array(list('{0:04b}'.format(j))).astype('int') # from integer to 4 digit binary number\n",
    "        a, b, c, d = bits\n",
    "        v[a,b,c,d] = u[j]\n",
    "    return v\n",
    "\n",
    "def statevec_2_operator(v):\n",
    "    rho = np.zeros([2]*2*N, dtype='complex')\n",
    "    for j in range(2**N):\n",
    "        bits1 = np.array(list('{0:04b}'.format(j))).astype('int') # from integer to 4 digit binary number\n",
    "        a1, b1, c1, d1 = bits1\n",
    "        for k in range(2**N):\n",
    "            bits2 = np.array(list('{0:04b}'.format(k))).astype('int') # from integer to 4 digit binary number\n",
    "            a2, b2, c2, d2 = bits2\n",
    "            rho[a1,a2,b1,b2,c1,c2,d1,d2] = v[a1,b1,c1,d1]*np.conjugate(v[a2,b2,c2,d2])\n",
    "    return rho\n",
    "\n",
    "def rho_2_standard(rho):\n",
    "    sigma = np.zeros((2**N,2**N), dtype='complex')\n",
    "    for j in range(2**N):\n",
    "        bits1 = np.array(list('{0:04b}'.format(j))).astype('int') # from integer to 4 digit binary number\n",
    "        a1, b1, c1, d1 = bits1\n",
    "        for k in range(2**N):\n",
    "            bits2 = np.array(list('{0:04b}'.format(k))).astype('int') # from integer to 4 digit binary number\n",
    "            a2, b2, c2, d2 = bits2\n",
    "            sigma[j,k] = rho[a1,a2,b1,b2,c1,c2,d1,d2]\n",
    "    return sigma\n",
    "\n",
    "def check_for_neglambda(rho, DEC=15):\n",
    "    return ((np.round(np.linalg.eigvals(rho_2_standard(rho)), DEC) < 0)).any()\n",
    "\n",
    "def separability_criteria(rho):\n",
    "    pairs = [(0,1),(2,3),(1,3),(0,2),(1,2),(0,3)]\n",
    "    qtr = [3,0,2,1,0,1]\n",
    "    \n",
    "    # QT Row\n",
    "    for j in range(N):\n",
    "        rho_p = partial_transpose(rho,j)\n",
    "        print(\"QT \"+str(j)+\"\\t\\t: \", check_for_neglambda(rho_p))\n",
    "        \n",
    "    # 2QT Row\n",
    "    for j in range(1,N):\n",
    "        rho_p = partial_transpose(partial_transpose(rho,0),j)\n",
    "        print(\"2QT \"+str(j)+\"\\t\\t: \", check_for_neglambda(rho_p))\n",
    "        \n",
    "    # R and R+QT Row\n",
    "    for j in range(6):\n",
    "        rho_p = reshuffle(rho, pairs[j][0], pairs[j][1])\n",
    "        print(\"R \"+str(pairs[j])+\"\\t: \", check_for_neglambda(rho_p))\n",
    "        rho_p = partial_transpose(rho_p, qtr[j])\n",
    "        print(\"R+QT \"+str(pairs[j])+\"\\t: \", check_for_neglambda(rho_p))\n",
    "        \n",
    "    # 2R Row\n",
    "    rho_p = reshuffle(reshuffle(rho, 0, 1),2,3)\n",
    "    print(\"2R (01,23)\\t: \", check_for_neglambda(rho_p))\n",
    "\n",
    "    rho_p = reshuffle(reshuffle(rho, 0, 2),1,3)\n",
    "    print(\"2R (02,13)\\t: \", check_for_neglambda(rho_p))\n",
    "    \n",
    "    # R + R' Row\n",
    "    rho_p = reshuffle(reshuffle(rho, 0, 1),3,2)\n",
    "    print(\"R+R' (01,23)\\t: \", check_for_neglambda(rho_p))"
   ]
  },
  {
   "cell_type": "markdown",
   "id": "847354e6",
   "metadata": {},
   "source": [
    "# Separable state example"
   ]
  },
  {
   "cell_type": "code",
   "execution_count": 21,
   "id": "2f31519c",
   "metadata": {},
   "outputs": [],
   "source": [
    "# u_sep will be a separable HHVV state\n",
    "u_sep = np.zeros(2**N)\n",
    "u_sep[3] = 1\n",
    "rho = statevec_2_operator(statevec_prep(u_sep))\n",
    "# print(np.round(np.linalg.eigvals(rho_2_standard(rho)),10)) #check that rho is pure"
   ]
  },
  {
   "cell_type": "code",
   "execution_count": 22,
   "id": "e24146db",
   "metadata": {},
   "outputs": [
    {
     "name": "stdout",
     "output_type": "stream",
     "text": [
      "QT 0\t\t:  False\n",
      "QT 1\t\t:  False\n",
      "QT 2\t\t:  False\n",
      "QT 3\t\t:  False\n",
      "2QT 1\t\t:  False\n",
      "2QT 2\t\t:  False\n",
      "2QT 3\t\t:  False\n",
      "R (0, 1)\t:  False\n",
      "R+QT (0, 1)\t:  False\n",
      "R (2, 3)\t:  False\n",
      "R+QT (2, 3)\t:  False\n",
      "R (1, 3)\t:  False\n",
      "R+QT (1, 3)\t:  False\n",
      "R (0, 2)\t:  False\n",
      "R+QT (0, 2)\t:  False\n",
      "R (1, 2)\t:  False\n",
      "R+QT (1, 2)\t:  False\n",
      "R (0, 3)\t:  False\n",
      "R+QT (0, 3)\t:  False\n",
      "2R (01,23)\t:  False\n",
      "2R (02,13)\t:  False\n",
      "R+R' (01,23)\t:  False\n",
      "\n",
      "If any true, then state rho_p is NOT fully separable\n",
      "If all true, then state rho_p is NOT separable in any form\n",
      "If false, then nothing can be stated about rho_p (generally that it is separable)\n"
     ]
    }
   ],
   "source": [
    "separability_criteria(rho)\n",
    "print()\n",
    "print(\"If any true, then state rho_p is NOT fully separable\")\n",
    "print(\"If all true, then state rho_p is NOT separable in any form\")\n",
    "print(\"If false, then nothing can be stated about rho_p (generally that it is separable)\")"
   ]
  },
  {
   "cell_type": "markdown",
   "id": "a989df43",
   "metadata": {},
   "source": [
    "# GHZ state example"
   ]
  },
  {
   "cell_type": "code",
   "execution_count": 23,
   "id": "7085cac7",
   "metadata": {},
   "outputs": [],
   "source": [
    "# u_sep will be a separable HHVV state\n",
    "GHZ = np.zeros(2**N)\n",
    "GHZ[0] = 1/np.sqrt(2)\n",
    "GHZ[-1] = 1/np.sqrt(2)\n",
    "rho = statevec_2_operator(statevec_prep(GHZ))\n",
    "# print(np.round(np.linalg.eigvals(rho_2_standard(rho)),10)) #check that rho is pure"
   ]
  },
  {
   "cell_type": "code",
   "execution_count": 24,
   "id": "cba52a9b",
   "metadata": {},
   "outputs": [
    {
     "name": "stdout",
     "output_type": "stream",
     "text": [
      "QT 0\t\t:  True\n",
      "QT 1\t\t:  True\n",
      "QT 2\t\t:  True\n",
      "QT 3\t\t:  True\n",
      "2QT 1\t\t:  True\n",
      "2QT 2\t\t:  True\n",
      "2QT 3\t\t:  True\n",
      "R (0, 1)\t:  False\n",
      "R+QT (0, 1)\t:  False\n",
      "R (2, 3)\t:  False\n",
      "R+QT (2, 3)\t:  False\n",
      "R (1, 3)\t:  False\n",
      "R+QT (1, 3)\t:  False\n",
      "R (0, 2)\t:  False\n",
      "R+QT (0, 2)\t:  False\n",
      "R (1, 2)\t:  False\n",
      "R+QT (1, 2)\t:  False\n",
      "R (0, 3)\t:  False\n",
      "R+QT (0, 3)\t:  False\n",
      "2R (01,23)\t:  False\n",
      "2R (02,13)\t:  False\n",
      "R+R' (01,23)\t:  False\n",
      "\n",
      "If any true, then state rho_p is NOT fully separable\n",
      "If all true, then state rho_p is NOT separable in any form\n",
      "If false, then nothing can be stated about rho_p (generally that it is separable)\n"
     ]
    }
   ],
   "source": [
    "separability_criteria(rho)\n",
    "print()\n",
    "print(\"If any true, then state rho_p is NOT fully separable\")\n",
    "print(\"If all true, then state rho_p is NOT separable in any form\")\n",
    "print(\"If false, then nothing can be stated about rho_p (generally that it is separable)\")"
   ]
  },
  {
   "cell_type": "markdown",
   "id": "ad5e815e",
   "metadata": {},
   "source": [
    "# Optimal measurement separability test"
   ]
  },
  {
   "cell_type": "code",
   "execution_count": 31,
   "id": "9f6e890b",
   "metadata": {},
   "outputs": [],
   "source": [
    "eigenvecs = np.load(\"data/4qubit_measurement_eigenstates.npy\")\n",
    "LambdaPos_eigvecs = eigenvecs[:,:4]\n",
    "LambdaNeg_eigvecs = eigenvecs[:,-4:]\n",
    "LambdaZero_eigvecs = eigenvecs[:,4:-3]\n",
    "\n",
    "PosProjector = np.zeros([2]*2*N, dtype='complex')\n",
    "NegProjector = np.zeros([2]*2*N, dtype='complex')\n",
    "ZeroProjector = np.zeros([2]*2*N, dtype='complex')\n",
    "\n",
    "for j in range(4):\n",
    "    PosProjector += statevec_2_operator(statevec_prep(LambdaPos_eigvecs[:,j]))\n",
    "    NegProjector += statevec_2_operator(statevec_prep(LambdaNeg_eigvecs[:,j]))\n",
    "    ZeroProjector += statevec_2_operator(statevec_prep(LambdaZero_eigvecs[:,j]))"
   ]
  },
  {
   "cell_type": "code",
   "execution_count": 34,
   "id": "3f00ff4c",
   "metadata": {},
   "outputs": [
    {
     "name": "stdout",
     "output_type": "stream",
     "text": [
      "QT 0\t\t:  True\n",
      "QT 1\t\t:  True\n",
      "QT 2\t\t:  True\n",
      "QT 3\t\t:  True\n",
      "2QT 1\t\t:  True\n",
      "2QT 2\t\t:  True\n",
      "2QT 3\t\t:  True\n",
      "R (0, 1)\t:  True\n",
      "R+QT (0, 1)\t:  True\n",
      "R (2, 3)\t:  True\n",
      "R+QT (2, 3)\t:  True\n",
      "R (1, 3)\t:  True\n",
      "R+QT (1, 3)\t:  True\n",
      "R (0, 2)\t:  True\n",
      "R+QT (0, 2)\t:  True\n",
      "R (1, 2)\t:  True\n",
      "R+QT (1, 2)\t:  True\n",
      "R (0, 3)\t:  True\n",
      "R+QT (0, 3)\t:  True\n",
      "2R (01,23)\t:  True\n",
      "2R (02,13)\t:  True\n",
      "R+R' (01,23)\t:  True\n",
      "\n",
      "If any true, then state rho_p is NOT fully separable\n",
      "If all true, then state rho_p is NOT separable in any form\n",
      "If false, then nothing can be stated about rho_p (generally that it is separable)\n"
     ]
    }
   ],
   "source": [
    "separability_criteria(PosProjector/4)\n",
    "print()\n",
    "print(\"If any true, then state rho_p is NOT fully separable\")\n",
    "print(\"If all true, then state rho_p is NOT separable in any form\")\n",
    "print(\"If false, then nothing can be stated about rho_p (generally that it is separable)\")"
   ]
  },
  {
   "cell_type": "code",
   "execution_count": 35,
   "id": "2147d15d",
   "metadata": {},
   "outputs": [
    {
     "data": {
      "text/plain": [
       "array([[ 1.19+0.j  , -0.04+0.02j,  0.08+0.04j,  0.01+0.j  , -0.1 -0.05j,\n",
       "        -0.01+0.j  ,  0.  -0.01j,  0.13+0.j  ,  0.07-0.06j,  0.  -0.01j,\n",
       "        -0.01+0.j  , -0.04+0.j  ,  0.01+0.j  ,  0.14+0.1j ,  0.02+0.07j,\n",
       "        -0.19-0.j  ],\n",
       "       [-0.04-0.02j,  0.65+0.j  , -0.32+0.08j,  0.01-0.j  , -0.3 +0.j  ,\n",
       "         0.01-0.01j, -0.02+0.01j,  0.19-0.07j, -0.19-0.03j, -0.02+0.01j,\n",
       "         0.01-0.01j,  0.05-0.03j,  0.01-0.j  ,  0.22+0.05j, -0.14-0.04j,\n",
       "         0.04+0.02j],\n",
       "       [ 0.08-0.04j, -0.32-0.08j,  0.56+0.j  , -0.  -0.01j, -0.1 +0.11j,\n",
       "        -0.01+0.01j,  0.02-0.j  ,  0.08+0.02j, -0.1 +0.11j,  0.02-0.j  ,\n",
       "        -0.01+0.01j,  0.06+0.04j, -0.  -0.01j, -0.25-0.07j,  0.08-0.16j,\n",
       "        -0.08+0.04j],\n",
       "       [ 0.01-0.j  ,  0.01+0.j  , -0.  +0.01j,  0.48+0.j  , -0.02-0.01j,\n",
       "         0.23-0.2j ,  0.19-0.01j,  0.01+0.j  , -0.  +0.j  ,  0.14+0.01j,\n",
       "         0.11+0.2j , -0.01-0.01j, -0.15+0.j  ,  0.01+0.01j,  0.03+0.j  ,\n",
       "        -0.01+0.j  ],\n",
       "       [-0.1 +0.05j, -0.3 -0.j  , -0.1 -0.11j, -0.02+0.01j,  0.7 +0.j  ,\n",
       "        -0.  -0.j  ,  0.02-0.j  , -0.07-0.03j, -0.06-0.11j,  0.02-0.j  ,\n",
       "        -0.  -0.j  , -0.15+0.07j, -0.02+0.01j, -0.13-0.05j, -0.28+0.07j,\n",
       "         0.1 -0.05j],\n",
       "       [-0.01-0.j  ,  0.01+0.01j, -0.01-0.01j,  0.23+0.2j , -0.  +0.j  ,\n",
       "         0.65+0.j  ,  0.32+0.01j,  0.01-0.01j,  0.01-0.01j,  0.  -0.01j,\n",
       "        -0.31-0.j  , -0.  +0.j  ,  0.11-0.2j , -0.02-0.01j,  0.01+0.01j,\n",
       "         0.01+0.j  ],\n",
       "       [ 0.  +0.01j, -0.02-0.01j,  0.02+0.j  ,  0.19+0.01j,  0.02+0.j  ,\n",
       "         0.32-0.01j,  0.88+0.j  , -0.02+0.01j, -0.01+0.j  , -0.53-0.j  ,\n",
       "         0.  +0.01j,  0.01+0.j  ,  0.14-0.01j,  0.  +0.j  , -0.03-0.01j,\n",
       "        -0.  -0.01j],\n",
       "       [ 0.13-0.j  ,  0.19+0.07j,  0.08-0.02j,  0.01-0.j  , -0.07+0.03j,\n",
       "         0.01+0.01j, -0.02-0.01j,  0.71+0.j  ,  0.01-0.02j, -0.02-0.01j,\n",
       "         0.01+0.01j, -0.24+0.06j,  0.01-0.j  , -0.08-0.02j, -0.04+0.09j,\n",
       "        -0.13+0.j  ],\n",
       "       [ 0.07+0.06j, -0.19+0.03j, -0.1 -0.11j, -0.  -0.j  , -0.06+0.11j,\n",
       "         0.01+0.01j, -0.01-0.j  ,  0.01+0.02j,  0.8 +0.j  , -0.01-0.j  ,\n",
       "         0.01+0.01j,  0.02+0.12j, -0.  -0.j  , -0.03-0.08j, -0.07+0.05j,\n",
       "        -0.07-0.06j],\n",
       "       [ 0.  +0.01j, -0.02-0.01j,  0.02+0.j  ,  0.14-0.01j,  0.02+0.j  ,\n",
       "         0.  +0.01j, -0.53+0.j  , -0.02+0.01j, -0.01+0.j  ,  0.88+0.j  ,\n",
       "         0.32-0.01j,  0.01+0.j  ,  0.19+0.01j,  0.  +0.j  , -0.03-0.01j,\n",
       "        -0.  -0.01j],\n",
       "       [-0.01-0.j  ,  0.01+0.01j, -0.01-0.01j,  0.11-0.2j , -0.  +0.j  ,\n",
       "        -0.31+0.j  ,  0.  -0.01j,  0.01-0.01j,  0.01-0.01j,  0.32+0.01j,\n",
       "         0.65+0.j  , -0.  +0.j  ,  0.23+0.2j , -0.02-0.01j,  0.01+0.01j,\n",
       "         0.01+0.j  ],\n",
       "       [-0.04-0.j  ,  0.05+0.03j,  0.06-0.04j, -0.01+0.01j, -0.15-0.07j,\n",
       "        -0.  -0.j  ,  0.01-0.j  , -0.24-0.06j,  0.02-0.12j,  0.01-0.j  ,\n",
       "        -0.  -0.j  ,  0.43+0.j  , -0.01+0.01j, -0.17+0.04j, -0.24+0.11j,\n",
       "         0.04+0.j  ],\n",
       "       [ 0.01-0.j  ,  0.01+0.j  , -0.  +0.01j, -0.15-0.j  , -0.02-0.01j,\n",
       "         0.11+0.2j ,  0.14+0.01j,  0.01+0.j  , -0.  +0.j  ,  0.19-0.01j,\n",
       "         0.23-0.2j , -0.01-0.01j,  0.48+0.j  ,  0.01+0.01j,  0.03+0.j  ,\n",
       "        -0.01+0.j  ],\n",
       "       [ 0.14-0.1j ,  0.22-0.05j, -0.25+0.07j,  0.01-0.01j, -0.13+0.05j,\n",
       "        -0.02+0.01j,  0.  -0.j  , -0.08+0.02j, -0.03+0.08j,  0.  -0.j  ,\n",
       "        -0.02+0.01j, -0.17-0.04j,  0.01-0.01j,  0.69+0.j  , -0.05-0.12j,\n",
       "        -0.14+0.1j ],\n",
       "       [ 0.02-0.07j, -0.14+0.04j,  0.08+0.16j,  0.03-0.j  , -0.28-0.07j,\n",
       "         0.01-0.01j, -0.03+0.01j, -0.04-0.09j, -0.07-0.05j, -0.03+0.01j,\n",
       "         0.01-0.01j, -0.24-0.11j,  0.03-0.j  , -0.05+0.12j,  1.05+0.j  ,\n",
       "        -0.02+0.07j],\n",
       "       [-0.19+0.j  ,  0.04-0.02j, -0.08-0.04j, -0.01-0.j  ,  0.1 +0.05j,\n",
       "         0.01-0.j  , -0.  +0.01j, -0.13-0.j  , -0.07+0.06j, -0.  +0.01j,\n",
       "         0.01-0.j  ,  0.04-0.j  , -0.01-0.j  , -0.14-0.1j , -0.02-0.07j,\n",
       "         1.19+0.j  ]])"
      ]
     },
     "execution_count": 35,
     "metadata": {},
     "output_type": "execute_result"
    }
   ],
   "source": [
    "np.round(rho_2_standard(PosProjector+NegProjector+ZeroProjector),2)"
   ]
  }
 ],
 "metadata": {
  "kernelspec": {
   "display_name": "Python 3 (ipykernel)",
   "language": "python",
   "name": "python3"
  },
  "language_info": {
   "codemirror_mode": {
    "name": "ipython",
    "version": 3
   },
   "file_extension": ".py",
   "mimetype": "text/x-python",
   "name": "python",
   "nbconvert_exporter": "python",
   "pygments_lexer": "ipython3",
   "version": "3.10.10"
  }
 },
 "nbformat": 4,
 "nbformat_minor": 5
}
