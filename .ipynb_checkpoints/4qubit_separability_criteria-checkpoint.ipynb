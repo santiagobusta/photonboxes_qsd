{
 "cells": [
  {
   "cell_type": "markdown",
   "id": "113676b0",
   "metadata": {},
   "source": [
    "https://doi.org/10.48550/arXiv.quant-ph/0504160"
   ]
  },
  {
   "cell_type": "code",
   "execution_count": 1,
   "id": "f0f09eb2",
   "metadata": {},
   "outputs": [],
   "source": [
    "import numpy as np\n",
    "from scipy.special import comb, binom\n",
    "from itertools import combinations\n",
    "N = 4 # number of qubits"
   ]
  },
  {
   "cell_type": "code",
   "execution_count": 215,
   "id": "eab680b7",
   "metadata": {},
   "outputs": [],
   "source": [
    "def partial_transpose(A, k): # perform a partial transpose of the k-th qubit in matrix A\n",
    "    J = list(range(2*N))\n",
    "    J[2*k] = 2*k+1\n",
    "    J[2*k+1] = 2*k\n",
    "    return A.transpose(*J)\n",
    "\n",
    "def reshuffle(A, k, l):\n",
    "    J = list(range(2*N))\n",
    "    J[2*l] = 2*k+1\n",
    "    J[2*k+1] = 2*l\n",
    "    return A.transpose(*J)\n",
    "\n",
    "def statevec_prep(u):\n",
    "    v = np.zeros([2]*N, dtype='complex')\n",
    "    for j in range(2**N):\n",
    "        bits = np.array(list('{0:04b}'.format(j))).astype('int') # from integer to 4 digit binary number\n",
    "        a, b, c, d = bits\n",
    "        v[a,b,c,d] = u[j]\n",
    "    return v\n",
    "\n",
    "def statevec_2_operator(v):\n",
    "    rho = np.zeros([2]*2*N, dtype='complex')\n",
    "    for j in range(2**N):\n",
    "        bits1 = np.array(list('{0:04b}'.format(j))).astype('int') # from integer to 4 digit binary number\n",
    "        a1, b1, c1, d1 = bits1\n",
    "        for k in range(2**N):\n",
    "            bits2 = np.array(list('{0:04b}'.format(k))).astype('int') # from integer to 4 digit binary number\n",
    "            a2, b2, c2, d2 = bits2\n",
    "            rho[a1,a2,b1,b2,c1,c2,d1,d2] = v[a1,b1,c1,d1]*np.conjugate(v[a2,b2,c2,d2])\n",
    "    return rho\n",
    "\n",
    "def rho_2_standard(rho):\n",
    "    sigma = np.zeros((2**N,2**N), dtype='complex')\n",
    "    for j in range(2**N):\n",
    "        bits1 = np.array(list('{0:04b}'.format(j))).astype('int') # from integer to 4 digit binary number\n",
    "        a1, b1, c1, d1 = bits1\n",
    "        for k in range(2**N):\n",
    "            bits2 = np.array(list('{0:04b}'.format(k))).astype('int') # from integer to 4 digit binary number\n",
    "            a2, b2, c2, d2 = bits2\n",
    "            sigma[j,k] = rho[a1,a2,b1,b2,c1,c2,d1,d2]\n",
    "    return sigma\n",
    "\n",
    "def check_for_neglambda(rho, DEC=1):\n",
    "    return ((np.round(np.linalg.eigvals(rho_2_standard(rho)), DEC) < 0)).any()\n",
    "\n",
    "def check_for_tracenorm(rho, TOL=5e-2): \n",
    "    # A bigger TOL gives a higher chance of failing the separability test\n",
    "    # That is, a bigger chance of not concluding anything about the state\n",
    "    # Thus, if a state gives TRUE even for high values of TOL, it is very likely that the state is indeed entangled\n",
    "    # A value of TOL=5e-2 is good enough for most purposes\n",
    "    # A value of TOL=1e-1 is good if one wants to be even more sure about the non-separabilty\n",
    "    tracenorm = np.sum(np.abs(np.linalg.eigvals(rho_2_standard(rho))))\n",
    "    #print(tracenorm)\n",
    "    return tracenorm > 1+TOL\n",
    "\n",
    "def separability_criteria(rho, expand=True, use_neglambda = False):\n",
    "    Test = False\n",
    "    pairs = [(0,1),(2,3),(1,3),(0,2),(1,2),(0,3)]\n",
    "    qtr = [3,0,2,1,0,1]\n",
    "    \n",
    "    # QT Row\n",
    "    for j in range(N):\n",
    "        rho_p = partial_transpose(rho,j)\n",
    "        if use_neglambda: check = check_for_neglambda(rho_p)\n",
    "        else: check = check_for_tracenorm(rho_p)\n",
    "        Test += check\n",
    "        if expand: print(\"QT \"+str(j)+\"\\t\\t: \", check)\n",
    "        \n",
    "    # 2QT Row\n",
    "    for j in range(1,N):\n",
    "        rho_p = partial_transpose(partial_transpose(rho,0),j)\n",
    "        if use_neglambda: check = check_for_neglambda(rho_p)\n",
    "        else: check = check_for_tracenorm(rho_p)\n",
    "        Test += check\n",
    "        if expand: print(\"2QT \"+str(j)+\"\\t\\t: \", check)\n",
    "        \n",
    "    # R and R+QT Row\n",
    "    for j in range(6):\n",
    "        rho_p = reshuffle(rho, pairs[j][0], pairs[j][1])\n",
    "        if use_neglambda: check = check_for_neglambda(rho_p)\n",
    "        else: check = check_for_tracenorm(rho_p)\n",
    "        Test += check\n",
    "        if expand: print(\"R \"+str(pairs[j])+\"\\t: \", check)\n",
    "        \n",
    "        rho_p = partial_transpose(rho_p, qtr[j])\n",
    "        if use_neglambda: check = check_for_neglambda(rho_p)\n",
    "        else: check = check_for_tracenorm(rho_p)\n",
    "        Test += check\n",
    "        if expand: print(\"R+QT \"+str(pairs[j])+\"\\t: \", check)\n",
    "        \n",
    "    # 2R Row\n",
    "    rho_p = reshuffle(reshuffle(rho, 0, 1),2,3)\n",
    "    if use_neglambda: check = check_for_neglambda(rho_p)\n",
    "    else: check = check_for_tracenorm(rho_p)\n",
    "    Test += check\n",
    "    if expand: print(\"2R (01,23)\\t: \", check)\n",
    "\n",
    "    rho_p = reshuffle(reshuffle(rho, 0, 2),1,3)\n",
    "    if use_neglambda: check = check_for_neglambda(rho_p)\n",
    "    else: check = check_for_tracenorm(rho_p)\n",
    "    Test += check\n",
    "    if expand: print(\"2R (02,13)\\t: \", check)\n",
    "    \n",
    "    # R + R' Row\n",
    "    rho_p = reshuffle(reshuffle(rho, 0, 1),3,2)\n",
    "    if use_neglambda: check = check_for_neglambda(rho_p)\n",
    "    else: check = check_for_tracenorm(rho_p)\n",
    "    Test += check\n",
    "    if expand: print(\"R+R' (01,23)\\t: \", check)\n",
    "    \n",
    "    return Test"
   ]
  },
  {
   "cell_type": "markdown",
   "id": "081e779e",
   "metadata": {},
   "source": [
    "# Separable state example"
   ]
  },
  {
   "cell_type": "code",
   "execution_count": 216,
   "id": "01b706cc",
   "metadata": {},
   "outputs": [],
   "source": [
    "# u_sep will be a separable HHVV state\n",
    "u_sep = np.zeros(2**N)\n",
    "u_sep[3] = 1\n",
    "rho = statevec_2_operator(statevec_prep(u_sep))\n",
    "# print(np.round(np.linalg.eigvals(rho_2_standard(rho)),10)) #check that rho is pure"
   ]
  },
  {
   "cell_type": "code",
   "execution_count": 217,
   "id": "177bcd7e",
   "metadata": {},
   "outputs": [
    {
     "name": "stdout",
     "output_type": "stream",
     "text": [
      "QT 0\t\t:  False\n",
      "QT 1\t\t:  False\n",
      "QT 2\t\t:  False\n",
      "QT 3\t\t:  False\n",
      "2QT 1\t\t:  False\n",
      "2QT 2\t\t:  False\n",
      "2QT 3\t\t:  False\n",
      "R (0, 1)\t:  False\n",
      "R+QT (0, 1)\t:  False\n",
      "R (2, 3)\t:  False\n",
      "R+QT (2, 3)\t:  False\n",
      "R (1, 3)\t:  False\n",
      "R+QT (1, 3)\t:  False\n",
      "R (0, 2)\t:  False\n",
      "R+QT (0, 2)\t:  False\n",
      "R (1, 2)\t:  False\n",
      "R+QT (1, 2)\t:  False\n",
      "R (0, 3)\t:  False\n",
      "R+QT (0, 3)\t:  False\n",
      "2R (01,23)\t:  False\n",
      "2R (02,13)\t:  False\n",
      "R+R' (01,23)\t:  False\n",
      "\n",
      "If any true, then state rho_p is NOT fully separable\n"
     ]
    }
   ],
   "source": [
    "separability_criteria(rho)\n",
    "print()\n",
    "print(\"If any true, then state rho_p is NOT fully separable\")"
   ]
  },
  {
   "cell_type": "markdown",
   "id": "2c8f9045",
   "metadata": {},
   "source": [
    "# GHZ state example"
   ]
  },
  {
   "cell_type": "code",
   "execution_count": 218,
   "id": "21444e14",
   "metadata": {},
   "outputs": [],
   "source": [
    "# u_sep will be a separable HHVV state\n",
    "GHZ = np.zeros(2**N)\n",
    "GHZ[0] = 1/np.sqrt(2)\n",
    "GHZ[-1] = 1/np.sqrt(2)\n",
    "rho = statevec_2_operator(statevec_prep(GHZ))\n",
    "# print(np.round(np.linalg.eigvals(rho_2_standard(rho)),10)) #check that rho is pure"
   ]
  },
  {
   "cell_type": "code",
   "execution_count": 219,
   "id": "d715bfd3",
   "metadata": {},
   "outputs": [
    {
     "name": "stdout",
     "output_type": "stream",
     "text": [
      "QT 0\t\t:  False\n",
      "QT 1\t\t:  False\n",
      "QT 2\t\t:  False\n",
      "QT 3\t\t:  False\n",
      "2QT 1\t\t:  False\n",
      "2QT 2\t\t:  False\n",
      "2QT 3\t\t:  False\n",
      "R (0, 1)\t:  False\n",
      "R+QT (0, 1)\t:  False\n",
      "R (2, 3)\t:  False\n",
      "R+QT (2, 3)\t:  False\n",
      "R (1, 3)\t:  False\n",
      "R+QT (1, 3)\t:  False\n",
      "R (0, 2)\t:  False\n",
      "R+QT (0, 2)\t:  False\n",
      "R (1, 2)\t:  False\n",
      "R+QT (1, 2)\t:  False\n",
      "R (0, 3)\t:  False\n",
      "R+QT (0, 3)\t:  False\n",
      "2R (01,23)\t:  False\n",
      "2R (02,13)\t:  False\n",
      "R+R' (01,23)\t:  False\n",
      "\n",
      "If any true, then state rho_p is NOT fully separable\n"
     ]
    }
   ],
   "source": [
    "separability_criteria(rho)\n",
    "print()\n",
    "print(\"If any true, then state rho_p is NOT fully separable\")"
   ]
  },
  {
   "cell_type": "markdown",
   "id": "498e611d",
   "metadata": {},
   "source": [
    "# Optimal measurement separability test"
   ]
  },
  {
   "cell_type": "code",
   "execution_count": 220,
   "id": "7a90e08d",
   "metadata": {},
   "outputs": [],
   "source": [
    "eigenvecs = np.load(\"data/4qubit_measurement_eigenstates.npy\")\n",
    "LambdaPos_eigvecs = eigenvecs[:,:4]\n",
    "LambdaNeg_eigvecs = eigenvecs[:,-4:]\n",
    "LambdaZero_eigvecs = eigenvecs[:,4:-4]\n",
    "\n",
    "PosProjector = np.zeros([2]*2*N, dtype='complex')\n",
    "NegProjector = np.zeros([2]*2*N, dtype='complex')\n",
    "ZeroProjector = np.zeros([2]*2*N, dtype='complex')\n",
    "\n",
    "for j in range(4):\n",
    "    PosProjector += statevec_2_operator(statevec_prep(LambdaPos_eigvecs[:,j]))\n",
    "    NegProjector += statevec_2_operator(statevec_prep(LambdaNeg_eigvecs[:,j]))\n",
    "    ZeroProjector += statevec_2_operator(statevec_prep(LambdaZero_eigvecs[:,j]))\n",
    "    ZeroProjector += statevec_2_operator(statevec_prep(LambdaZero_eigvecs[:,4+j]))"
   ]
  },
  {
   "cell_type": "code",
   "execution_count": 221,
   "id": "75f1d3e8",
   "metadata": {},
   "outputs": [
    {
     "name": "stdout",
     "output_type": "stream",
     "text": [
      "QT 0\t\t:  False\n",
      "QT 1\t\t:  False\n",
      "QT 2\t\t:  False\n",
      "QT 3\t\t:  False\n",
      "2QT 1\t\t:  False\n",
      "2QT 2\t\t:  False\n",
      "2QT 3\t\t:  False\n",
      "R (0, 1)\t:  False\n",
      "R+QT (0, 1)\t:  False\n",
      "R (2, 3)\t:  False\n",
      "R+QT (2, 3)\t:  False\n",
      "R (1, 3)\t:  False\n",
      "R+QT (1, 3)\t:  False\n",
      "R (0, 2)\t:  False\n",
      "R+QT (0, 2)\t:  False\n",
      "R (1, 2)\t:  False\n",
      "R+QT (1, 2)\t:  False\n",
      "R (0, 3)\t:  False\n",
      "R+QT (0, 3)\t:  False\n",
      "2R (01,23)\t:  False\n",
      "2R (02,13)\t:  False\n",
      "R+R' (01,23)\t:  False\n",
      "\n",
      "If any true, then state rho_p is NOT fully separable\n"
     ]
    }
   ],
   "source": [
    "# For the complete Hilbert space\n",
    "separability_criteria((NegProjector+PosProjector+ZeroProjector)/16)\n",
    "print()\n",
    "print(\"If any true, then state rho_p is NOT fully separable\")"
   ]
  },
  {
   "cell_type": "markdown",
   "id": "8003b158",
   "metadata": {},
   "source": [
    "# Time to try all $2^8 = 256$ combinations of the $\\lambda=0$ terms"
   ]
  },
  {
   "cell_type": "code",
   "execution_count": 222,
   "id": "b0451d20",
   "metadata": {},
   "outputs": [],
   "source": [
    "def try_combinations(Proj, k, expand=True): # add all k-combinations of the lambda zero terms\n",
    "    J = np.arange(8)\n",
    "    Test = True\n",
    "    \n",
    "    for c in combinations(J,k):\n",
    "        Proj_copy = Proj.copy()\n",
    "        print(\"Trying combination \"+ str(c))\n",
    "        for i in c:\n",
    "            Proj_copy += statevec_2_operator(statevec_prep(LambdaZero_eigvecs[:,i]))\n",
    "        \n",
    "        check = separability_criteria(Proj_copy/(4+k), False)\n",
    "        Test *= check\n",
    "        if expand: print(check)\n",
    "    \n",
    "    return Test\n",
    "        "
   ]
  },
  {
   "cell_type": "markdown",
   "id": "7bb52855",
   "metadata": {},
   "source": [
    "## 8 choose 0 combinations (1 combination)"
   ]
  },
  {
   "cell_type": "code",
   "execution_count": 223,
   "id": "944a85e2",
   "metadata": {},
   "outputs": [
    {
     "name": "stdout",
     "output_type": "stream",
     "text": [
      "QT 0\t\t:  False\n",
      "QT 1\t\t:  False\n",
      "QT 2\t\t:  False\n",
      "QT 3\t\t:  False\n",
      "2QT 1\t\t:  False\n",
      "2QT 2\t\t:  False\n",
      "2QT 3\t\t:  False\n",
      "R (0, 1)\t:  False\n",
      "R+QT (0, 1)\t:  False\n",
      "R (2, 3)\t:  False\n",
      "R+QT (2, 3)\t:  False\n",
      "R (1, 3)\t:  False\n",
      "R+QT (1, 3)\t:  False\n",
      "R (0, 2)\t:  False\n",
      "R+QT (0, 2)\t:  False\n",
      "R (1, 2)\t:  False\n",
      "R+QT (1, 2)\t:  False\n",
      "R (0, 3)\t:  False\n",
      "R+QT (0, 3)\t:  False\n",
      "2R (01,23)\t:  False\n",
      "2R (02,13)\t:  False\n",
      "R+R' (01,23)\t:  False\n"
     ]
    },
    {
     "data": {
      "text/plain": [
       "False"
      ]
     },
     "execution_count": 223,
     "metadata": {},
     "output_type": "execute_result"
    }
   ],
   "source": [
    "separability_criteria(PosProjector/4)"
   ]
  },
  {
   "cell_type": "markdown",
   "id": "465b9500",
   "metadata": {},
   "source": [
    "## 8 choose 1 combinations (8 combinations)"
   ]
  },
  {
   "cell_type": "code",
   "execution_count": 224,
   "id": "c759d9cb",
   "metadata": {
    "scrolled": false
   },
   "outputs": [
    {
     "name": "stdout",
     "output_type": "stream",
     "text": [
      "Trying combination (0,)\n",
      "Trying combination (1,)\n",
      "Trying combination (2,)\n",
      "Trying combination (3,)\n",
      "Trying combination (4,)\n",
      "Trying combination (5,)\n",
      "Trying combination (6,)\n",
      "Trying combination (7,)\n"
     ]
    },
    {
     "data": {
      "text/plain": [
       "False"
      ]
     },
     "execution_count": 224,
     "metadata": {},
     "output_type": "execute_result"
    }
   ],
   "source": [
    "try_combinations(PosProjector, 1, False)"
   ]
  },
  {
   "cell_type": "markdown",
   "id": "022380c2",
   "metadata": {},
   "source": [
    "## 8 choose 2 combinations (28 combinations)"
   ]
  },
  {
   "cell_type": "code",
   "execution_count": 225,
   "id": "f6abef71",
   "metadata": {
    "scrolled": false
   },
   "outputs": [
    {
     "name": "stdout",
     "output_type": "stream",
     "text": [
      "Trying combination (0, 1)\n",
      "Trying combination (0, 2)\n",
      "Trying combination (0, 3)\n",
      "Trying combination (0, 4)\n",
      "Trying combination (0, 5)\n",
      "Trying combination (0, 6)\n",
      "Trying combination (0, 7)\n",
      "Trying combination (1, 2)\n",
      "Trying combination (1, 3)\n",
      "Trying combination (1, 4)\n",
      "Trying combination (1, 5)\n",
      "Trying combination (1, 6)\n",
      "Trying combination (1, 7)\n",
      "Trying combination (2, 3)\n",
      "Trying combination (2, 4)\n",
      "Trying combination (2, 5)\n",
      "Trying combination (2, 6)\n",
      "Trying combination (2, 7)\n",
      "Trying combination (3, 4)\n",
      "Trying combination (3, 5)\n",
      "Trying combination (3, 6)\n",
      "Trying combination (3, 7)\n",
      "Trying combination (4, 5)\n",
      "Trying combination (4, 6)\n",
      "Trying combination (4, 7)\n",
      "Trying combination (5, 6)\n",
      "Trying combination (5, 7)\n",
      "Trying combination (6, 7)\n"
     ]
    },
    {
     "data": {
      "text/plain": [
       "False"
      ]
     },
     "execution_count": 225,
     "metadata": {},
     "output_type": "execute_result"
    }
   ],
   "source": [
    "try_combinations(PosProjector, 2, False)"
   ]
  },
  {
   "cell_type": "markdown",
   "id": "53ede154",
   "metadata": {},
   "source": [
    "## 8 choose 3 combinations (56 combinations)"
   ]
  },
  {
   "cell_type": "code",
   "execution_count": 226,
   "id": "f9118143",
   "metadata": {
    "scrolled": true
   },
   "outputs": [
    {
     "name": "stdout",
     "output_type": "stream",
     "text": [
      "Trying combination (0, 1, 2)\n",
      "Trying combination (0, 1, 3)\n",
      "Trying combination (0, 1, 4)\n",
      "Trying combination (0, 1, 5)\n",
      "Trying combination (0, 1, 6)\n",
      "Trying combination (0, 1, 7)\n",
      "Trying combination (0, 2, 3)\n",
      "Trying combination (0, 2, 4)\n",
      "Trying combination (0, 2, 5)\n",
      "Trying combination (0, 2, 6)\n",
      "Trying combination (0, 2, 7)\n",
      "Trying combination (0, 3, 4)\n",
      "Trying combination (0, 3, 5)\n",
      "Trying combination (0, 3, 6)\n",
      "Trying combination (0, 3, 7)\n",
      "Trying combination (0, 4, 5)\n",
      "Trying combination (0, 4, 6)\n",
      "Trying combination (0, 4, 7)\n",
      "Trying combination (0, 5, 6)\n",
      "Trying combination (0, 5, 7)\n",
      "Trying combination (0, 6, 7)\n",
      "Trying combination (1, 2, 3)\n",
      "Trying combination (1, 2, 4)\n",
      "Trying combination (1, 2, 5)\n",
      "Trying combination (1, 2, 6)\n",
      "Trying combination (1, 2, 7)\n",
      "Trying combination (1, 3, 4)\n",
      "Trying combination (1, 3, 5)\n",
      "Trying combination (1, 3, 6)\n",
      "Trying combination (1, 3, 7)\n",
      "Trying combination (1, 4, 5)\n",
      "Trying combination (1, 4, 6)\n",
      "Trying combination (1, 4, 7)\n",
      "Trying combination (1, 5, 6)\n",
      "Trying combination (1, 5, 7)\n",
      "Trying combination (1, 6, 7)\n",
      "Trying combination (2, 3, 4)\n",
      "Trying combination (2, 3, 5)\n",
      "Trying combination (2, 3, 6)\n",
      "Trying combination (2, 3, 7)\n",
      "Trying combination (2, 4, 5)\n",
      "Trying combination (2, 4, 6)\n",
      "Trying combination (2, 4, 7)\n",
      "Trying combination (2, 5, 6)\n",
      "Trying combination (2, 5, 7)\n",
      "Trying combination (2, 6, 7)\n",
      "Trying combination (3, 4, 5)\n",
      "Trying combination (3, 4, 6)\n",
      "Trying combination (3, 4, 7)\n",
      "Trying combination (3, 5, 6)\n",
      "Trying combination (3, 5, 7)\n",
      "Trying combination (3, 6, 7)\n",
      "Trying combination (4, 5, 6)\n",
      "Trying combination (4, 5, 7)\n",
      "Trying combination (4, 6, 7)\n",
      "Trying combination (5, 6, 7)\n"
     ]
    },
    {
     "data": {
      "text/plain": [
       "False"
      ]
     },
     "execution_count": 226,
     "metadata": {},
     "output_type": "execute_result"
    }
   ],
   "source": [
    "try_combinations(PosProjector, 3, False)"
   ]
  },
  {
   "cell_type": "markdown",
   "id": "21ab3145",
   "metadata": {},
   "source": [
    "## 8 choose 4 combinations (70 combinations)"
   ]
  },
  {
   "cell_type": "code",
   "execution_count": 227,
   "id": "a3e59fc9",
   "metadata": {
    "scrolled": true
   },
   "outputs": [
    {
     "name": "stdout",
     "output_type": "stream",
     "text": [
      "Trying combination (0, 1, 2, 3)\n",
      "Trying combination (0, 1, 2, 4)\n",
      "Trying combination (0, 1, 2, 5)\n",
      "Trying combination (0, 1, 2, 6)\n",
      "Trying combination (0, 1, 2, 7)\n",
      "Trying combination (0, 1, 3, 4)\n",
      "Trying combination (0, 1, 3, 5)\n",
      "Trying combination (0, 1, 3, 6)\n",
      "Trying combination (0, 1, 3, 7)\n",
      "Trying combination (0, 1, 4, 5)\n",
      "Trying combination (0, 1, 4, 6)\n",
      "Trying combination (0, 1, 4, 7)\n",
      "Trying combination (0, 1, 5, 6)\n",
      "Trying combination (0, 1, 5, 7)\n",
      "Trying combination (0, 1, 6, 7)\n",
      "Trying combination (0, 2, 3, 4)\n",
      "Trying combination (0, 2, 3, 5)\n",
      "Trying combination (0, 2, 3, 6)\n",
      "Trying combination (0, 2, 3, 7)\n",
      "Trying combination (0, 2, 4, 5)\n",
      "Trying combination (0, 2, 4, 6)\n",
      "Trying combination (0, 2, 4, 7)\n",
      "Trying combination (0, 2, 5, 6)\n",
      "Trying combination (0, 2, 5, 7)\n",
      "Trying combination (0, 2, 6, 7)\n",
      "Trying combination (0, 3, 4, 5)\n",
      "Trying combination (0, 3, 4, 6)\n",
      "Trying combination (0, 3, 4, 7)\n",
      "Trying combination (0, 3, 5, 6)\n",
      "Trying combination (0, 3, 5, 7)\n",
      "Trying combination (0, 3, 6, 7)\n",
      "Trying combination (0, 4, 5, 6)\n",
      "Trying combination (0, 4, 5, 7)\n",
      "Trying combination (0, 4, 6, 7)\n",
      "Trying combination (0, 5, 6, 7)\n",
      "Trying combination (1, 2, 3, 4)\n",
      "Trying combination (1, 2, 3, 5)\n",
      "Trying combination (1, 2, 3, 6)\n",
      "Trying combination (1, 2, 3, 7)\n",
      "Trying combination (1, 2, 4, 5)\n",
      "Trying combination (1, 2, 4, 6)\n",
      "Trying combination (1, 2, 4, 7)\n",
      "Trying combination (1, 2, 5, 6)\n",
      "Trying combination (1, 2, 5, 7)\n",
      "Trying combination (1, 2, 6, 7)\n",
      "Trying combination (1, 3, 4, 5)\n",
      "Trying combination (1, 3, 4, 6)\n",
      "Trying combination (1, 3, 4, 7)\n",
      "Trying combination (1, 3, 5, 6)\n",
      "Trying combination (1, 3, 5, 7)\n",
      "Trying combination (1, 3, 6, 7)\n",
      "Trying combination (1, 4, 5, 6)\n",
      "Trying combination (1, 4, 5, 7)\n",
      "Trying combination (1, 4, 6, 7)\n",
      "Trying combination (1, 5, 6, 7)\n",
      "Trying combination (2, 3, 4, 5)\n",
      "Trying combination (2, 3, 4, 6)\n",
      "Trying combination (2, 3, 4, 7)\n",
      "Trying combination (2, 3, 5, 6)\n",
      "Trying combination (2, 3, 5, 7)\n",
      "Trying combination (2, 3, 6, 7)\n",
      "Trying combination (2, 4, 5, 6)\n",
      "Trying combination (2, 4, 5, 7)\n",
      "Trying combination (2, 4, 6, 7)\n",
      "Trying combination (2, 5, 6, 7)\n",
      "Trying combination (3, 4, 5, 6)\n",
      "Trying combination (3, 4, 5, 7)\n",
      "Trying combination (3, 4, 6, 7)\n",
      "Trying combination (3, 5, 6, 7)\n",
      "Trying combination (4, 5, 6, 7)\n"
     ]
    },
    {
     "data": {
      "text/plain": [
       "False"
      ]
     },
     "execution_count": 227,
     "metadata": {},
     "output_type": "execute_result"
    }
   ],
   "source": [
    "try_combinations(PosProjector, 4, False)"
   ]
  },
  {
   "cell_type": "markdown",
   "id": "57ba73ce",
   "metadata": {},
   "source": [
    "## 8 choose 5 combinations (56 combinations)"
   ]
  },
  {
   "cell_type": "code",
   "execution_count": 228,
   "id": "7c3fc7a7",
   "metadata": {
    "scrolled": true
   },
   "outputs": [
    {
     "name": "stdout",
     "output_type": "stream",
     "text": [
      "Trying combination (0, 1, 2, 3, 4)\n",
      "Trying combination (0, 1, 2, 3, 5)\n",
      "Trying combination (0, 1, 2, 3, 6)\n",
      "Trying combination (0, 1, 2, 3, 7)\n",
      "Trying combination (0, 1, 2, 4, 5)\n",
      "Trying combination (0, 1, 2, 4, 6)\n",
      "Trying combination (0, 1, 2, 4, 7)\n",
      "Trying combination (0, 1, 2, 5, 6)\n",
      "Trying combination (0, 1, 2, 5, 7)\n",
      "Trying combination (0, 1, 2, 6, 7)\n",
      "Trying combination (0, 1, 3, 4, 5)\n",
      "Trying combination (0, 1, 3, 4, 6)\n",
      "Trying combination (0, 1, 3, 4, 7)\n",
      "Trying combination (0, 1, 3, 5, 6)\n",
      "Trying combination (0, 1, 3, 5, 7)\n",
      "Trying combination (0, 1, 3, 6, 7)\n",
      "Trying combination (0, 1, 4, 5, 6)\n",
      "Trying combination (0, 1, 4, 5, 7)\n",
      "Trying combination (0, 1, 4, 6, 7)\n",
      "Trying combination (0, 1, 5, 6, 7)\n",
      "Trying combination (0, 2, 3, 4, 5)\n",
      "Trying combination (0, 2, 3, 4, 6)\n",
      "Trying combination (0, 2, 3, 4, 7)\n",
      "Trying combination (0, 2, 3, 5, 6)\n",
      "Trying combination (0, 2, 3, 5, 7)\n",
      "Trying combination (0, 2, 3, 6, 7)\n",
      "Trying combination (0, 2, 4, 5, 6)\n",
      "Trying combination (0, 2, 4, 5, 7)\n",
      "Trying combination (0, 2, 4, 6, 7)\n",
      "Trying combination (0, 2, 5, 6, 7)\n",
      "Trying combination (0, 3, 4, 5, 6)\n",
      "Trying combination (0, 3, 4, 5, 7)\n",
      "Trying combination (0, 3, 4, 6, 7)\n",
      "Trying combination (0, 3, 5, 6, 7)\n",
      "Trying combination (0, 4, 5, 6, 7)\n",
      "Trying combination (1, 2, 3, 4, 5)\n",
      "Trying combination (1, 2, 3, 4, 6)\n",
      "Trying combination (1, 2, 3, 4, 7)\n",
      "Trying combination (1, 2, 3, 5, 6)\n",
      "Trying combination (1, 2, 3, 5, 7)\n",
      "Trying combination (1, 2, 3, 6, 7)\n",
      "Trying combination (1, 2, 4, 5, 6)\n",
      "Trying combination (1, 2, 4, 5, 7)\n",
      "Trying combination (1, 2, 4, 6, 7)\n",
      "Trying combination (1, 2, 5, 6, 7)\n",
      "Trying combination (1, 3, 4, 5, 6)\n",
      "Trying combination (1, 3, 4, 5, 7)\n",
      "Trying combination (1, 3, 4, 6, 7)\n",
      "Trying combination (1, 3, 5, 6, 7)\n",
      "Trying combination (1, 4, 5, 6, 7)\n",
      "Trying combination (2, 3, 4, 5, 6)\n",
      "Trying combination (2, 3, 4, 5, 7)\n",
      "Trying combination (2, 3, 4, 6, 7)\n",
      "Trying combination (2, 3, 5, 6, 7)\n",
      "Trying combination (2, 4, 5, 6, 7)\n",
      "Trying combination (3, 4, 5, 6, 7)\n"
     ]
    },
    {
     "data": {
      "text/plain": [
       "False"
      ]
     },
     "execution_count": 228,
     "metadata": {},
     "output_type": "execute_result"
    }
   ],
   "source": [
    "try_combinations(PosProjector, 5, False)"
   ]
  },
  {
   "cell_type": "markdown",
   "id": "0176f015",
   "metadata": {},
   "source": [
    "## 8 choose 6 combinations (28 combinations)"
   ]
  },
  {
   "cell_type": "code",
   "execution_count": 229,
   "id": "774e97e7",
   "metadata": {
    "scrolled": true
   },
   "outputs": [
    {
     "name": "stdout",
     "output_type": "stream",
     "text": [
      "Trying combination (0, 1, 2, 3, 4, 5)\n",
      "Trying combination (0, 1, 2, 3, 4, 6)\n",
      "Trying combination (0, 1, 2, 3, 4, 7)\n",
      "Trying combination (0, 1, 2, 3, 5, 6)\n",
      "Trying combination (0, 1, 2, 3, 5, 7)\n",
      "Trying combination (0, 1, 2, 3, 6, 7)\n",
      "Trying combination (0, 1, 2, 4, 5, 6)\n",
      "Trying combination (0, 1, 2, 4, 5, 7)\n",
      "Trying combination (0, 1, 2, 4, 6, 7)\n",
      "Trying combination (0, 1, 2, 5, 6, 7)\n",
      "Trying combination (0, 1, 3, 4, 5, 6)\n",
      "Trying combination (0, 1, 3, 4, 5, 7)\n",
      "Trying combination (0, 1, 3, 4, 6, 7)\n",
      "Trying combination (0, 1, 3, 5, 6, 7)\n",
      "Trying combination (0, 1, 4, 5, 6, 7)\n",
      "Trying combination (0, 2, 3, 4, 5, 6)\n",
      "Trying combination (0, 2, 3, 4, 5, 7)\n",
      "Trying combination (0, 2, 3, 4, 6, 7)\n",
      "Trying combination (0, 2, 3, 5, 6, 7)\n",
      "Trying combination (0, 2, 4, 5, 6, 7)\n",
      "Trying combination (0, 3, 4, 5, 6, 7)\n",
      "Trying combination (1, 2, 3, 4, 5, 6)\n",
      "Trying combination (1, 2, 3, 4, 5, 7)\n",
      "Trying combination (1, 2, 3, 4, 6, 7)\n",
      "Trying combination (1, 2, 3, 5, 6, 7)\n",
      "Trying combination (1, 2, 4, 5, 6, 7)\n",
      "Trying combination (1, 3, 4, 5, 6, 7)\n",
      "Trying combination (2, 3, 4, 5, 6, 7)\n"
     ]
    },
    {
     "data": {
      "text/plain": [
       "False"
      ]
     },
     "execution_count": 229,
     "metadata": {},
     "output_type": "execute_result"
    }
   ],
   "source": [
    "try_combinations(PosProjector, 6, False)"
   ]
  },
  {
   "cell_type": "markdown",
   "id": "a18f2ce4",
   "metadata": {},
   "source": [
    "## 8 choose 7 combinations (8 combinations)"
   ]
  },
  {
   "cell_type": "code",
   "execution_count": 230,
   "id": "abb9981d",
   "metadata": {
    "scrolled": true
   },
   "outputs": [
    {
     "name": "stdout",
     "output_type": "stream",
     "text": [
      "Trying combination (0, 1, 2, 3, 4, 5, 6)\n",
      "Trying combination (0, 1, 2, 3, 4, 5, 7)\n",
      "Trying combination (0, 1, 2, 3, 4, 6, 7)\n",
      "Trying combination (0, 1, 2, 3, 5, 6, 7)\n",
      "Trying combination (0, 1, 2, 4, 5, 6, 7)\n",
      "Trying combination (0, 1, 3, 4, 5, 6, 7)\n",
      "Trying combination (0, 2, 3, 4, 5, 6, 7)\n",
      "Trying combination (1, 2, 3, 4, 5, 6, 7)\n"
     ]
    },
    {
     "data": {
      "text/plain": [
       "False"
      ]
     },
     "execution_count": 230,
     "metadata": {},
     "output_type": "execute_result"
    }
   ],
   "source": [
    "try_combinations(PosProjector, 7, False)"
   ]
  }
 ],
 "metadata": {
  "kernelspec": {
   "display_name": "Python 3 (ipykernel)",
   "language": "python",
   "name": "python3"
  },
  "language_info": {
   "codemirror_mode": {
    "name": "ipython",
    "version": 3
   },
   "file_extension": ".py",
   "mimetype": "text/x-python",
   "name": "python",
   "nbconvert_exporter": "python",
   "pygments_lexer": "ipython3",
   "version": "3.10.10"
  }
 },
 "nbformat": 4,
 "nbformat_minor": 5
}
