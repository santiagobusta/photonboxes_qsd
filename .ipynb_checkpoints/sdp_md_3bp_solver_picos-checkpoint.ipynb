{
 "cells": [
  {
   "cell_type": "code",
   "execution_count": 1,
   "id": "9b7188a2",
   "metadata": {},
   "outputs": [],
   "source": [
    "import numpy as np\n",
    "from scipy.special import comb, binom\n",
    "from itertools import combinations\n",
    "from Irene import sdp"
   ]
  },
  {
   "cell_type": "markdown",
   "id": "d9f056c7",
   "metadata": {},
   "source": [
    "# Building the density matrices"
   ]
  },
  {
   "cell_type": "code",
   "execution_count": 2,
   "id": "32e356f6",
   "metadata": {},
   "outputs": [],
   "source": [
    "n = 1 # Half-number of photons\n",
    "N = 2*n\n",
    "d = 2**N # Hilbert space dimension\n",
    "C = comb(N,n)\n",
    "S = [\"V\"]*2*n\n",
    "L = np.arange(N)\n",
    "eta = 1./3"
   ]
  },
  {
   "cell_type": "code",
   "execution_count": 3,
   "id": "9b72676c",
   "metadata": {},
   "outputs": [
    {
     "name": "stdout",
     "output_type": "stream",
     "text": [
      "(0,)\n",
      "(1,)\n",
      "True\n",
      "H V\n",
      "V H\n"
     ]
    }
   ],
   "source": [
    "comb_list = []\n",
    "\n",
    "for c in combinations(L,n):\n",
    "    print(c)\n",
    "    s = np.copy(S)\n",
    "    for i in c: s[i] = 'H'\n",
    "    comb_list.append(s)\n",
    "    \n",
    "print(len(comb_list) == C)\n",
    "\n",
    "H = np.array([1,0]); V = np.array([0,1])\n",
    "L = np.array([1,1j])/np.sqrt(2); R = np.array([1,-1j])/np.sqrt(2)\n",
    "get_vecA = {\"H\" : H, \"V\" : V}\n",
    "get_vecB = {\"H\" : L, \"V\" : R}\n",
    "rhoA = 0\n",
    "rhoB = 0\n",
    "\n",
    "for c in comb_list:\n",
    "    print(*c)\n",
    "    vec = 1\n",
    "    \n",
    "    [vec := np.outer(vec,get_vecA[l]).flatten() for l in c]\n",
    "    rhoA += np.outer(vec,np.conjugate(vec))\n",
    "    \n",
    "    vec = 1\n",
    "    \n",
    "    [vec := np.outer(vec,get_vecB[l]).flatten() for l in c]\n",
    "    rhoB += np.outer(vec,np.conjugate(vec))\n",
    "    \n",
    "rhoA = np.real(rhoA/C)\n",
    "rhoB = np.real(rhoB/C)\n",
    "rhoC = np.real(np.eye(d)/d)"
   ]
  },
  {
   "cell_type": "code",
   "execution_count": 4,
   "id": "3ea8fdc3",
   "metadata": {},
   "outputs": [
    {
     "data": {
      "text/plain": [
       "array([[ 0.25,  0.  ,  0.  ,  0.25],\n",
       "       [ 0.  ,  0.25, -0.25,  0.  ],\n",
       "       [ 0.  , -0.25,  0.25,  0.  ],\n",
       "       [ 0.25,  0.  ,  0.  ,  0.25]])"
      ]
     },
     "execution_count": 4,
     "metadata": {},
     "output_type": "execute_result"
    }
   ],
   "source": [
    "rhoB"
   ]
  },
  {
   "cell_type": "code",
   "execution_count": 5,
   "id": "291ac437",
   "metadata": {},
   "outputs": [
    {
     "name": "stdout",
     "output_type": "stream",
     "text": [
      "     pcost       dcost       gap    pres   dres   k/t\n",
      " 0:  3.3333e-01  3.3333e-01  4e+00  4e+00  2e-16  1e+00\n",
      " 1:  3.5888e-01  3.5840e-01  5e-01  4e-01  6e-16  1e-01\n",
      " 2:  6.0265e-01  5.8756e-01  3e-01  2e-01  5e-16  5e-02\n",
      " 3:  6.5591e-01  6.5494e-01  2e-02  1e-02  6e-16  3e-03\n",
      " 4:  6.6656e-01  6.6655e-01  2e-04  2e-04  3e-16  3e-05\n",
      " 5:  6.6667e-01  6.6667e-01  2e-06  2e-06  1e-16  3e-07\n",
      " 6:  6.6667e-01  6.6667e-01  2e-08  2e-08  4e-16  3e-09\n",
      "Optimal solution found.\n",
      "{'Status': 'Optimal', 'DObj': 0.6666666547531267, 'PObj': 0.6666666557629117, 'Wall': 0.06903886795043945, 'CPU': None, 'y': array([0.16666666, 0.16666666, 0.16666666, 0.16666666]), 'Z': [array([[ 1.66666669e-01,  0.00000000e+00,  0.00000000e+00,\n",
      "         0.00000000e+00],\n",
      "       [ 0.00000000e+00,  6.05666862e-10,  0.00000000e+00,\n",
      "         0.00000000e+00],\n",
      "       [ 0.00000000e+00,  0.00000000e+00,  6.05666862e-10,\n",
      "        -2.70076987e-23],\n",
      "       [ 0.00000000e+00,  0.00000000e+00, -2.70076987e-23,\n",
      "         1.66666669e-01]]), array([[ 8.33333360e-02,  9.34897563e-18,  9.35347520e-18,\n",
      "        -8.33333333e-02],\n",
      "       [ 9.34897563e-18,  8.33333339e-02,  8.33333333e-02,\n",
      "        -9.34897729e-18],\n",
      "       [ 9.35347520e-18,  8.33333333e-02,  8.33333339e-02,\n",
      "        -9.35347686e-18],\n",
      "       [-8.33333333e-02, -9.34897729e-18, -9.35347686e-18,\n",
      "         8.33333360e-02]]), array([[ 8.33333360e-02,  0.00000000e+00,  0.00000000e+00,\n",
      "         0.00000000e+00],\n",
      "       [ 0.00000000e+00,  8.33333339e-02,  2.01418086e-21,\n",
      "        -9.24971701e-20],\n",
      "       [ 0.00000000e+00,  2.01418086e-21,  8.33333339e-02,\n",
      "         1.85036953e-17],\n",
      "       [ 0.00000000e+00, -9.24971701e-20,  1.85036953e-17,\n",
      "         8.33333360e-02]])], 'X': [array([[ 7.30848734e-09,  0.00000000e+00, -4.30360967e-36,\n",
      "        -1.83496996e-39],\n",
      "       [ 0.00000000e+00,  6.66666640e-01,  0.00000000e+00,\n",
      "         0.00000000e+00],\n",
      "       [-4.30360967e-36,  0.00000000e+00,  6.66666640e-01,\n",
      "         2.40255946e-18],\n",
      "       [-1.83496996e-39,  0.00000000e+00,  2.40255946e-18,\n",
      "         7.30848734e-09]]), array([[ 9.99999991e-01, -5.03093165e-17, -4.95901045e-17,\n",
      "         9.99999984e-01],\n",
      "       [-5.03093165e-17,  3.33333325e-01, -3.33333312e-01,\n",
      "        -4.98719296e-17],\n",
      "       [-4.95901045e-17, -3.33333312e-01,  3.33333325e-01,\n",
      "        -5.00266390e-17],\n",
      "       [ 9.99999984e-01, -4.98719296e-17, -5.00266390e-17,\n",
      "         9.99999991e-01]]), array([[ 1.74565421e-09,  0.00000000e+00,  0.00000000e+00,\n",
      "         0.00000000e+00],\n",
      "       [ 0.00000000e+00,  3.49151118e-08,  9.56218729e-28,\n",
      "         8.40748179e-23],\n",
      "       [ 0.00000000e+00,  9.56218729e-28,  3.49151118e-08,\n",
      "        -1.70565428e-22],\n",
      "       [ 0.00000000e+00,  8.40748179e-23, -1.70565428e-22,\n",
      "         1.74565421e-09]])], 'solver': 'CVXOPT'}\n"
     ]
    }
   ],
   "source": [
    "SDP = sdp('cvxopt')\n",
    "SDP.SetObjective([1]*d)\n",
    "SDP.AddConstantBlock([eta*rhoA,eta*rhoB,eta*rhoC])\n",
    "\n",
    "for i in range(d):\n",
    "    Zer = np.zeros((d,d))\n",
    "    Zer[i,i] = 1.\n",
    "    A = [Zer,Zer,Zer]\n",
    "    SDP.AddConstraintBlock(A)\n",
    "    \n",
    "SDP.solve()\n",
    "print(SDP.Info)"
   ]
  },
  {
   "cell_type": "code",
   "execution_count": 7,
   "id": "84faf9cc",
   "metadata": {},
   "outputs": [
    {
     "data": {
      "text/plain": [
       "0.6666666547531267"
      ]
     },
     "execution_count": 7,
     "metadata": {},
     "output_type": "execute_result"
    }
   ],
   "source": [
    "SDP.Info[\"DObj\"]"
   ]
  },
  {
   "cell_type": "code",
   "execution_count": null,
   "id": "a1eb0401",
   "metadata": {},
   "outputs": [],
   "source": []
  }
 ],
 "metadata": {
  "kernelspec": {
   "display_name": "Python 3 (ipykernel)",
   "language": "python",
   "name": "python3"
  },
  "language_info": {
   "codemirror_mode": {
    "name": "ipython",
    "version": 3
   },
   "file_extension": ".py",
   "mimetype": "text/x-python",
   "name": "python",
   "nbconvert_exporter": "python",
   "pygments_lexer": "ipython3",
   "version": "3.10.10"
  }
 },
 "nbformat": 4,
 "nbformat_minor": 5
}
