{
 "cells": [
  {
   "cell_type": "code",
   "execution_count": 53,
   "id": "43adc3e7",
   "metadata": {},
   "outputs": [],
   "source": [
    "import numpy as np\n",
    "import matplotlib.pyplot as plt\n",
    "from scipy.stats import binom, multinomial"
   ]
  },
  {
   "cell_type": "code",
   "execution_count": 96,
   "id": "7fc81a58",
   "metadata": {},
   "outputs": [],
   "source": [
    "N = int(5e1) # half-number of photons\n",
    "NN = 2*N # total-number of photons\n",
    "P1H = 1/np.sqrt(2)\n",
    "P2H = 1 - P1H\n",
    "P1V = (3*np.sqrt(2) - 4)/2\n",
    "P2V = (2-np.sqrt(2))/2\n",
    "P3V = 1 - P1V - P2V"
   ]
  },
  {
   "cell_type": "code",
   "execution_count": 97,
   "id": "ec95e02c",
   "metadata": {},
   "outputs": [],
   "source": [
    "V = multinomial(N, [P1V,P2V,P3V])\n",
    "H1 = binom( N , P1H )"
   ]
  },
  {
   "cell_type": "code",
   "execution_count": 98,
   "id": "2fd81b72",
   "metadata": {},
   "outputs": [],
   "source": [
    "def output_photon_distribution(n1, n2):\n",
    "    \n",
    "    p = 0\n",
    "    for h1 in range(N+1):\n",
    "        p += H1.pmf(h1)*V.pmf([n1-h1, h1+n2-N , NN - n1 - n2])\n",
    "    return p"
   ]
  },
  {
   "cell_type": "code",
   "execution_count": 99,
   "id": "92077317",
   "metadata": {},
   "outputs": [],
   "source": [
    "n = np.arange(N)\n",
    "N1, N2 = np.meshgrid(n, n)\n",
    "\n",
    "photon_dist = np.zeros((N,N))\n",
    "for n1 in n:\n",
    "    for n2 in n:\n",
    "        photon_dist[n1, n2] = output_photon_distribution(n1, n2)"
   ]
  },
  {
   "cell_type": "code",
   "execution_count": null,
   "id": "5365a894",
   "metadata": {},
   "outputs": [],
   "source": [
    "np.save(\"data/output_pmf/pmf_N{:d}_box{}.npy\".format(2*N, box))"
   ]
  },
  {
   "cell_type": "code",
   "execution_count": 108,
   "id": "41221583",
   "metadata": {},
   "outputs": [
    {
     "data": {
      "image/png": "[encoded data removed]",
      "text/plain": [
       "<Figure size 640x480 with 1 Axes>"
      ]
     },
     "metadata": {},
     "output_type": "display_data"
    }
   ],
   "source": [
    "plt.imshow(photon_dist)\n",
    "plt.show()"
   ]
  },
  {
   "cell_type": "raw",
   "id": "8fd3b60e",
   "metadata": {},
   "source": [
    "fig, ax = plt.subplots(subplot_kw={\"projection\": \"3d\"})\n",
    "surf = ax.hist2d(N1, N2, photon_dist , cmap=\"coolwarm\",\n",
    "                       linewidth=0, antialiased=False)\n",
    "\n",
    "# Customize the z axis.\n",
    "ax.set_zlim(-1.01, 1.01)\n",
    "#ax.zaxis.set_major_locator(LinearLocator(10))\n",
    "# A StrMethodFormatter is used automatically\n",
    "ax.zaxis.set_major_formatter('{x:.02f}')\n",
    "ax.set_zlim(0,0.015)\n",
    "\n",
    "# Add a color bar which maps values to colors.\n",
    "fig.colorbar(surf, shrink=0.5, aspect=5)\n",
    "\n",
    "plt.show()"
   ]
  },
  {
   "cell_type": "code",
   "execution_count": null,
   "id": "9745976b",
   "metadata": {},
   "outputs": [],
   "source": []
  }
 ],
 "metadata": {
  "kernelspec": {
   "display_name": "Python 3 (ipykernel)",
   "language": "python",
   "name": "python3"
  },
  "language_info": {
   "codemirror_mode": {
    "name": "ipython",
    "version": 3
   },
   "file_extension": ".py",
   "mimetype": "text/x-python",
   "name": "python",
   "nbconvert_exporter": "python",
   "pygments_lexer": "ipython3",
   "version": "3.10.10"
  }
 },
 "nbformat": 4,
 "nbformat_minor": 5
}
